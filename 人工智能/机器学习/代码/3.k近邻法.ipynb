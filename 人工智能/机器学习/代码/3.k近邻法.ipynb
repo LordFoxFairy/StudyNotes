{
 "cells": [
  {
   "cell_type": "markdown",
   "metadata": {},
   "source": [
    "# 手动实现"
   ]
  },
  {
   "cell_type": "code",
   "execution_count": 1,
   "metadata": {
    "ExecuteTime": {
     "end_time": "2020-11-02T03:29:36.127116Z",
     "start_time": "2020-11-02T03:29:36.011409Z"
    }
   },
   "outputs": [
    {
     "data": {
      "text/plain": [
       "(9.000000000000004, 9)"
      ]
     },
     "execution_count": 1,
     "metadata": {},
     "output_type": "execute_result"
    }
   ],
   "source": [
    "import numpy as np\n",
    "\n",
    "np.set_printoptions(suppress=True, threshold=np.inf,precision=2)\n",
    "\n",
    "# 度量距离\n",
    "def minkowski_distance(x,y,p=2):\n",
    "    \"\"\"\n",
    "    闵氏距离\n",
    "    当p=1时，就是曼哈顿距离；当p=2时，就是欧氏距离；当p→∞时，就是切比雪夫距离\n",
    "    \"\"\"\n",
    "    return np.linalg.norm(x-y,ord=p)\n",
    "def cosine_distance(vec1, vec2):\n",
    "    \"\"\"\n",
    "    夹角余弦\n",
    "    \"\"\"\n",
    "    vec1_norm = np.linalg.norm(vec1)\n",
    "    vec2_norm = np.linalg.norm(vec2)\n",
    "    return vec1.dot(vec2) / (vec1_norm * vec2_norm)\n",
    "def euclidean_distance(vec1, vec2):\n",
    "    \"\"\"\n",
    "    欧氏距离\n",
    "    \"\"\"\n",
    "    return np.linalg.norm(vec1 - vec2, ord=2)\n",
    "def manhattan_distance(vec1, vec2):\n",
    "    \"\"\"\n",
    "    曼哈顿距离\n",
    "    \"\"\"\n",
    "    return np.linalg.norm(vec1 - vec2, ord=1)\n",
    "def chebyshev_distance(vec1, vec2):\n",
    "    \"\"\"\n",
    "    切比雪夫距离\n",
    "    \"\"\"\n",
    "    return np.linalg.norm(vec1 - vec2, ord=np.inf)\n",
    "def hamming_distance(vec1, vec2):\n",
    "    \"\"\"\n",
    "    汉明距离\n",
    "    \"\"\"\n",
    "    return np.shape(np.nonzero(vec1 - vec2)[0])[0]\n",
    "x = np.array([\n",
    "    [1,2,3],\n",
    "    [4,5,6],\n",
    "    [7,8,9]\n",
    "])\n",
    "y = np.array([\n",
    "    [4,5,6],\n",
    "    [7,8,9],\n",
    "    [4,5,6]\n",
    "])\n",
    "minkowski_distance(x,y),hamming_distance(x,y)"
   ]
  },
  {
   "cell_type": "markdown",
   "metadata": {},
   "source": [
    "## 例 3.1"
   ]
  },
  {
   "cell_type": "code",
   "execution_count": 2,
   "metadata": {
    "ExecuteTime": {
     "end_time": "2020-11-02T03:29:36.133949Z",
     "start_time": "2020-11-02T03:29:36.128093Z"
    }
   },
   "outputs": [
    {
     "name": "stdout",
     "output_type": "stream",
     "text": [
      "6.0\n",
      "4.242640687119285\n",
      "3.7797631496846193\n",
      "3.5676213450081633\n"
     ]
    }
   ],
   "source": [
    "x1 = np.array([1, 1])\n",
    "x2 = np.array([5, 1])\n",
    "x3 = np.array([4, 4])\n",
    "print(minkowski_distance(x1,x3,p=1))\n",
    "print(minkowski_distance(x1,x3,p=2))\n",
    "print(minkowski_distance(x1,x3,p=3))\n",
    "print(minkowski_distance(x1,x3,p=4))"
   ]
  },
  {
   "cell_type": "markdown",
   "metadata": {},
   "source": [
    "使用鸢尾花数据集，进行测试,只观察sepal length和sepal width两个特征值"
   ]
  },
  {
   "cell_type": "code",
   "execution_count": 3,
   "metadata": {
    "ExecuteTime": {
     "end_time": "2020-11-02T03:29:36.947517Z",
     "start_time": "2020-11-02T03:29:36.134925Z"
    }
   },
   "outputs": [],
   "source": [
    "from sklearn.datasets import load_iris\n",
    "from sklearn.model_selection import train_test_split\n",
    "import matplotlib.pyplot as plt\n",
    "import pandas as pd\n",
    "%matplotlib inline"
   ]
  },
  {
   "cell_type": "code",
   "execution_count": 4,
   "metadata": {
    "ExecuteTime": {
     "end_time": "2020-11-02T03:29:36.968951Z",
     "start_time": "2020-11-02T03:29:36.948494Z"
    }
   },
   "outputs": [
    {
     "data": {
      "text/html": [
       "<div>\n",
       "<style scoped>\n",
       "    .dataframe tbody tr th:only-of-type {\n",
       "        vertical-align: middle;\n",
       "    }\n",
       "\n",
       "    .dataframe tbody tr th {\n",
       "        vertical-align: top;\n",
       "    }\n",
       "\n",
       "    .dataframe thead th {\n",
       "        text-align: right;\n",
       "    }\n",
       "</style>\n",
       "<table border=\"1\" class=\"dataframe\">\n",
       "  <thead>\n",
       "    <tr style=\"text-align: right;\">\n",
       "      <th></th>\n",
       "      <th>sepal length</th>\n",
       "      <th>sepal width</th>\n",
       "      <th>petal length</th>\n",
       "      <th>petal width</th>\n",
       "      <th>label</th>\n",
       "    </tr>\n",
       "  </thead>\n",
       "  <tbody>\n",
       "    <tr>\n",
       "      <th>0</th>\n",
       "      <td>5.1</td>\n",
       "      <td>3.5</td>\n",
       "      <td>1.4</td>\n",
       "      <td>0.2</td>\n",
       "      <td>0</td>\n",
       "    </tr>\n",
       "    <tr>\n",
       "      <th>1</th>\n",
       "      <td>4.9</td>\n",
       "      <td>3.0</td>\n",
       "      <td>1.4</td>\n",
       "      <td>0.2</td>\n",
       "      <td>0</td>\n",
       "    </tr>\n",
       "    <tr>\n",
       "      <th>2</th>\n",
       "      <td>4.7</td>\n",
       "      <td>3.2</td>\n",
       "      <td>1.3</td>\n",
       "      <td>0.2</td>\n",
       "      <td>0</td>\n",
       "    </tr>\n",
       "    <tr>\n",
       "      <th>3</th>\n",
       "      <td>4.6</td>\n",
       "      <td>3.1</td>\n",
       "      <td>1.5</td>\n",
       "      <td>0.2</td>\n",
       "      <td>0</td>\n",
       "    </tr>\n",
       "    <tr>\n",
       "      <th>4</th>\n",
       "      <td>5.0</td>\n",
       "      <td>3.6</td>\n",
       "      <td>1.4</td>\n",
       "      <td>0.2</td>\n",
       "      <td>0</td>\n",
       "    </tr>\n",
       "    <tr>\n",
       "      <th>...</th>\n",
       "      <td>...</td>\n",
       "      <td>...</td>\n",
       "      <td>...</td>\n",
       "      <td>...</td>\n",
       "      <td>...</td>\n",
       "    </tr>\n",
       "    <tr>\n",
       "      <th>145</th>\n",
       "      <td>6.7</td>\n",
       "      <td>3.0</td>\n",
       "      <td>5.2</td>\n",
       "      <td>2.3</td>\n",
       "      <td>2</td>\n",
       "    </tr>\n",
       "    <tr>\n",
       "      <th>146</th>\n",
       "      <td>6.3</td>\n",
       "      <td>2.5</td>\n",
       "      <td>5.0</td>\n",
       "      <td>1.9</td>\n",
       "      <td>2</td>\n",
       "    </tr>\n",
       "    <tr>\n",
       "      <th>147</th>\n",
       "      <td>6.5</td>\n",
       "      <td>3.0</td>\n",
       "      <td>5.2</td>\n",
       "      <td>2.0</td>\n",
       "      <td>2</td>\n",
       "    </tr>\n",
       "    <tr>\n",
       "      <th>148</th>\n",
       "      <td>6.2</td>\n",
       "      <td>3.4</td>\n",
       "      <td>5.4</td>\n",
       "      <td>2.3</td>\n",
       "      <td>2</td>\n",
       "    </tr>\n",
       "    <tr>\n",
       "      <th>149</th>\n",
       "      <td>5.9</td>\n",
       "      <td>3.0</td>\n",
       "      <td>5.1</td>\n",
       "      <td>1.8</td>\n",
       "      <td>2</td>\n",
       "    </tr>\n",
       "  </tbody>\n",
       "</table>\n",
       "<p>150 rows × 5 columns</p>\n",
       "</div>"
      ],
      "text/plain": [
       "     sepal length  sepal width  petal length  petal width  label\n",
       "0             5.1          3.5           1.4          0.2      0\n",
       "1             4.9          3.0           1.4          0.2      0\n",
       "2             4.7          3.2           1.3          0.2      0\n",
       "3             4.6          3.1           1.5          0.2      0\n",
       "4             5.0          3.6           1.4          0.2      0\n",
       "..            ...          ...           ...          ...    ...\n",
       "145           6.7          3.0           5.2          2.3      2\n",
       "146           6.3          2.5           5.0          1.9      2\n",
       "147           6.5          3.0           5.2          2.0      2\n",
       "148           6.2          3.4           5.4          2.3      2\n",
       "149           5.9          3.0           5.1          1.8      2\n",
       "\n",
       "[150 rows x 5 columns]"
      ]
     },
     "execution_count": 4,
     "metadata": {},
     "output_type": "execute_result"
    }
   ],
   "source": [
    "iris = load_iris()\n",
    "df = pd.DataFrame(iris.data,columns=iris.feature_names)\n",
    "df['label'] = iris.target\n",
    "df.columns = ['sepal length', 'sepal width', 'petal length', 'petal width', 'label']\n",
    "df"
   ]
  },
  {
   "cell_type": "code",
   "execution_count": 5,
   "metadata": {
    "ExecuteTime": {
     "end_time": "2020-11-02T03:29:37.075334Z",
     "start_time": "2020-11-02T03:29:36.969927Z"
    }
   },
   "outputs": [
    {
     "data": {
      "text/plain": [
       "<matplotlib.legend.Legend at 0x230fa448f88>"
      ]
     },
     "execution_count": 5,
     "metadata": {},
     "output_type": "execute_result"
    },
    {
     "data": {
      "image/png": "[encoded data removed]",
      "text/plain": [
       "<Figure size 432x288 with 1 Axes>"
      ]
     },
     "metadata": {
      "needs_background": "light"
     },
     "output_type": "display_data"
    }
   ],
   "source": [
    "plt.scatter(df[:50]['sepal length'], df[:50]['sepal width'], label='0')\n",
    "plt.scatter(df[50:100]['sepal length'], df[50:100]['sepal width'], label='1')\n",
    "plt.xlabel('sepal length')\n",
    "plt.ylabel('sepal width')\n",
    "plt.legend()"
   ]
  },
  {
   "cell_type": "code",
   "execution_count": 6,
   "metadata": {
    "ExecuteTime": {
     "end_time": "2020-11-02T03:29:37.082167Z",
     "start_time": "2020-11-02T03:29:37.076310Z"
    }
   },
   "outputs": [
    {
     "data": {
      "text/plain": [
       "array([[5.1, 3.5, 0. ],\n",
       "       [4.9, 3. , 0. ],\n",
       "       [4.7, 3.2, 0. ],\n",
       "       [4.6, 3.1, 0. ],\n",
       "       [5. , 3.6, 0. ]])"
      ]
     },
     "execution_count": 6,
     "metadata": {},
     "output_type": "execute_result"
    }
   ],
   "source": [
    "data = np.array(df.iloc[:100,[0,1,-1]]) # 取第一列和第二列特征值以及最后一列标签\n",
    "data[:5]"
   ]
  },
  {
   "cell_type": "code",
   "execution_count": 7,
   "metadata": {
    "ExecuteTime": {
     "end_time": "2020-11-02T03:29:37.088023Z",
     "start_time": "2020-11-02T03:29:37.083145Z"
    }
   },
   "outputs": [
    {
     "data": {
      "text/plain": [
       "((80, 2), (20, 2), (80,), (20,))"
      ]
     },
     "execution_count": 7,
     "metadata": {},
     "output_type": "execute_result"
    }
   ],
   "source": [
    "X,y = data[:,:-1],data[:,-1]\n",
    "X_train, X_test, y_train, y_test = train_test_split(X, y, test_size=0.2)\n",
    "X_train.shape,X_test.shape, y_train.shape, y_test.shape"
   ]
  },
  {
   "cell_type": "code",
   "execution_count": 8,
   "metadata": {
    "ExecuteTime": {
     "end_time": "2020-11-02T03:29:37.097783Z",
     "start_time": "2020-11-02T03:29:37.088999Z"
    }
   },
   "outputs": [],
   "source": [
    "# KNN算法\n",
    "class KNN():\n",
    "    def __init__(self,X_train=None,y_train=None,n_neighbors=3,p=2):\n",
    "        self.n = n_neighbors\n",
    "        self.p = p\n",
    "        self.X_train = X_train\n",
    "        self.y_train = y_train\n",
    "        \n",
    "    def minkowski_distance(self,x,y,p=2):\n",
    "        return np.linalg.norm(x-y,ord=p,axis=1)\n",
    "        \n",
    "    def fit(self,X_train,y_train):\n",
    "        self.X_train = X_train\n",
    "        self.y_train = y_train\n",
    "        \n",
    "    def predict(self,X):\n",
    "        y_pred = np.zeros((X.shape[0],1),dtype=self.y_train.dtype)\n",
    "        for i,x in enumerate(X):\n",
    "            \n",
    "            # 计算测试数据与各个训练数据之间的距离\n",
    "            distances = self.minkowski_distance(self.X_train,x)\n",
    "            \n",
    "            # 按照距离的递增关系进行排序\n",
    "            n_index = np.argsort(distances)\n",
    "            \n",
    "            # 选取最近的k个点，保存对应的分别类别\n",
    "            n_k =self.y_train[n_index[:self.n]].ravel()\n",
    "            \n",
    "            # 统计类别中出现频率最高的那个，并且赋值给y_pred[i]\n",
    "            # n_bincount 统计非负整数值出现的次数\n",
    "            \n",
    "            n_k = n_k.astype(\"int64\")\n",
    "            y_pred[i] = np.argmax(np.bincount(n_k))\n",
    "        y_pred = y_pred.astype(\"int64\")  \n",
    "        return y_pred.flatten()\n",
    "    \n",
    "    def score(self,X_test,y_test):\n",
    "        y_pred = self.predict(X_test)\n",
    "        \n",
    "        return np.sum(y_test == y_pred)/ y_test.size"
   ]
  },
  {
   "cell_type": "code",
   "execution_count": 9,
   "metadata": {
    "ExecuteTime": {
     "end_time": "2020-11-02T03:29:37.102663Z",
     "start_time": "2020-11-02T03:29:37.098760Z"
    }
   },
   "outputs": [],
   "source": [
    "clf = KNN()"
   ]
  },
  {
   "cell_type": "code",
   "execution_count": 10,
   "metadata": {
    "ExecuteTime": {
     "end_time": "2020-11-02T03:29:37.107543Z",
     "start_time": "2020-11-02T03:29:37.103639Z"
    }
   },
   "outputs": [],
   "source": [
    "clf.fit(X_train,y_train)"
   ]
  },
  {
   "cell_type": "code",
   "execution_count": 11,
   "metadata": {
    "ExecuteTime": {
     "end_time": "2020-11-02T03:29:37.113399Z",
     "start_time": "2020-11-02T03:29:37.108519Z"
    }
   },
   "outputs": [
    {
     "data": {
      "text/plain": [
       "array([0, 0, 1, 1, 1, 0, 1, 1, 0, 0, 0, 1, 0, 0, 1, 1, 1, 0, 1, 1],\n",
       "      dtype=int64)"
      ]
     },
     "execution_count": 11,
     "metadata": {},
     "output_type": "execute_result"
    }
   ],
   "source": [
    "clf.predict(X_test)"
   ]
  },
  {
   "cell_type": "code",
   "execution_count": 12,
   "metadata": {
    "ExecuteTime": {
     "end_time": "2020-11-02T03:29:37.118279Z",
     "start_time": "2020-11-02T03:29:37.114375Z"
    }
   },
   "outputs": [
    {
     "data": {
      "text/plain": [
       "1.0"
      ]
     },
     "execution_count": 12,
     "metadata": {},
     "output_type": "execute_result"
    }
   ],
   "source": [
    "clf.score(X_test,y_test)"
   ]
  },
  {
   "cell_type": "markdown",
   "metadata": {},
   "source": [
    "# Sklearn 实现"
   ]
  },
  {
   "cell_type": "code",
   "execution_count": 13,
   "metadata": {
    "ExecuteTime": {
     "end_time": "2020-11-02T03:29:37.168054Z",
     "start_time": "2020-11-02T03:29:37.119256Z"
    }
   },
   "outputs": [
    {
     "data": {
      "text/plain": [
       "KNeighborsClassifier(algorithm='auto', leaf_size=30, metric='minkowski',\n",
       "                     metric_params=None, n_jobs=None, n_neighbors=5, p=2,\n",
       "                     weights='uniform')"
      ]
     },
     "execution_count": 13,
     "metadata": {},
     "output_type": "execute_result"
    }
   ],
   "source": [
    "from sklearn.neighbors import KNeighborsClassifier\n",
    "\n",
    "\"\"\"\n",
    "n_neighbors: 临近点个数\n",
    "p: 距离度量\n",
    "algorithm: 近邻算法，可选{'auto', 'ball_tree', 'kd_tree', 'brute'}\n",
    "weights: 确定近邻的权重\n",
    "\"\"\"\n",
    "\n",
    "\n",
    "kc = KNeighborsClassifier()\n",
    "kc.fit(X_train,y_train)"
   ]
  },
  {
   "cell_type": "code",
   "execution_count": 14,
   "metadata": {
    "ExecuteTime": {
     "end_time": "2020-11-02T03:29:37.173911Z",
     "start_time": "2020-11-02T03:29:37.169031Z"
    }
   },
   "outputs": [
    {
     "data": {
      "text/plain": [
       "array([0., 0., 1., 1., 1., 0., 1., 1., 0., 0., 0., 1., 0., 0., 1., 1., 1.,\n",
       "       0., 1., 1.])"
      ]
     },
     "execution_count": 14,
     "metadata": {},
     "output_type": "execute_result"
    }
   ],
   "source": [
    "y_pred = kc.predict(X_test)\n",
    "y_pred"
   ]
  },
  {
   "cell_type": "code",
   "execution_count": 15,
   "metadata": {
    "ExecuteTime": {
     "end_time": "2020-11-02T03:29:37.180742Z",
     "start_time": "2020-11-02T03:29:37.174886Z"
    }
   },
   "outputs": [
    {
     "data": {
      "text/plain": [
       "1.0"
      ]
     },
     "execution_count": 15,
     "metadata": {},
     "output_type": "execute_result"
    }
   ],
   "source": [
    "kc.score(X_test,y_test)"
   ]
  },
  {
   "cell_type": "markdown",
   "metadata": {},
   "source": [
    "# 构造平衡kd树\n",
    "\n",
    "输入：$k$维空间数据集$T＝\\{x_1，x_2,…,x_N\\}$，\n",
    "\n",
    "其中$x_{i}=\\left(x_{i}^{(1)}, x_{i}^{(2)}, \\cdots, x_{i}^{(k)}\\right)^{\\mathrm{T}}$ ，$i＝1,2,…,N$；\n",
    "\n",
    "输出：**kd**树。\n",
    "\n",
    "（1）开始：构造根结点，根结点对应于包含$T$的$k$维空间的超矩形区域。\n",
    "\n",
    "选择$x^{(1)}$为坐标轴，以T中所有实例的$x^{(1)}$坐标的中位数为切分点，将根结点对应的超矩形区域切分为两个子区域。切分由通过切分点并与坐标轴$x^{(1)}$垂直的超平面实现。\n",
    "\n",
    "由根结点生成深度为1的左、右子结点：左子结点对应坐标$x^{(1)}$小于切分点的子区域， 右子结点对应于坐标$x^{(1)}$大于切分点的子区域。\n",
    "\n",
    "将落在切分超平面上的实例点保存在根结点。\n",
    "\n",
    "（2）重复：对深度为$j$的结点，选择$x^{(1)}$为切分的坐标轴，$l＝j(modk)+1$，以该结点的区域中所有实例的$x^{(1)}$坐标的中位数为切分点，将该结点对应的超矩形区域切分为两个子区域。切分由通过切分点并与坐标轴$x^{(1)}$垂直的超平面实现。\n",
    "\n",
    "由该结点生成深度为$j+1$的左、右子结点：左子结点对应坐标$x^{(1)}$小于切分点的子区域，右子结点对应坐标$x^{(1)}$大于切分点的子区域。\n",
    "\n",
    "将落在切分超平面上的实例点保存在该结点。\n",
    "\n",
    "（3）直到两个子区域没有实例存在时停止。从而形成**kd**树的区域划分。"
   ]
  },
  {
   "cell_type": "code",
   "execution_count": 16,
   "metadata": {
    "ExecuteTime": {
     "end_time": "2020-11-02T03:29:37.198311Z",
     "start_time": "2020-11-02T03:29:37.181719Z"
    },
    "code_folding": []
   },
   "outputs": [
    {
     "name": "stdout",
     "output_type": "stream",
     "text": [
      "[7, 2]\n",
      "[5, 4]\n",
      "[2, 3]\n",
      "[4, 7]\n",
      "[9, 6]\n",
      "[8, 1]\n",
      "Result_tuple(nearest_point=[2, 3], nearest_dist=1.8027756377319946, nodes_visited=4)\n"
     ]
    }
   ],
   "source": [
    "from collections import namedtuple\n",
    "import numpy as np\n",
    "\n",
    "class KdNode():\n",
    "    def __init__(self,point,split,left,right):\n",
    "        \"\"\"\n",
    "        point：k维空间中的一个样本点\n",
    "        split：进行分割维度的序号\n",
    "        left： 该节点分割超平面左子空间构成的kd-tree\n",
    "        right：该节点分割超平面右子空间构成的kd-tree\n",
    "        \"\"\"\n",
    "        self.point = point\n",
    "        self.split = split\n",
    "        self.left = left\n",
    "        self.right = right\n",
    "\n",
    "class KdTree():\n",
    "    def __init__(self,data):\n",
    "        # 数组\n",
    "        self.data = data\n",
    "        # 数组大小\n",
    "        self.k = len(self.data[0])\n",
    "        # 根节点\n",
    "        self.root = self.create_tree(0,self.data)\n",
    "        # 定义一个namedtuple,分别存放最近坐标点、最近距离和访问过的节点数\n",
    "        self.result = namedtuple(\"Result_tuple\",\n",
    "                    \"nearest_point  nearest_dist  nodes_visited\")\n",
    "\n",
    "        \n",
    "    # 按照x(1)坐标的中位数为切分点\n",
    "    def create_tree(self,split,data):\n",
    "        # 数据集为空\n",
    "        if not data:\n",
    "            return None\n",
    "        \n",
    "        # 按要进行分割的那一维数据排序\n",
    "        data.sort(key=lambda x: x[split])\n",
    "        \n",
    "        # 所有实例的x坐标的中位数为切分点\n",
    "        split_position = len(data) // 2\n",
    "        median = data[split_position] # 分割点\n",
    "        \n",
    "        split_next = (split + 1) % self.k\n",
    "        \n",
    "        return KdNode(median,split,\n",
    "                     self.create_tree(split_next,data[:split_position]),   # 左子树\n",
    "                     self.create_tree(split_next,data[split_position+1:])) # 右子树\n",
    "\n",
    "\n",
    "    # KDTree的前序遍历\n",
    "    def preorder(self,root):\n",
    "        print(root.point)\n",
    "        if root.left:  # 节点不为空\n",
    "            self.preorder(root.left)\n",
    "        if root.right:\n",
    "            self.preorder(root.right)\n",
    "            \n",
    "            \n",
    "    def find_nearest_point(self,tree,point):\n",
    "        # 数据维度\n",
    "        k_point = len(point)\n",
    "        \n",
    "        def travel(kd_node,target,max_dist):\n",
    "            \n",
    "            if not kd_node:\n",
    "                return self.result([0]*k_point,np.inf,0)\n",
    "            \n",
    "            nodes_visited = 1\n",
    "            \n",
    "            s = kd_node.split     # 进行分割的维度\n",
    "            \n",
    "            pivot = kd_node.point # 进行分割的轴\n",
    "            \n",
    "            if target[s] <= pivot[s]:         # 如果目标点第s维小于分割轴的对应值(目标离左子树更近)\n",
    "                nearer_node  = kd_node.left   # 下一个访问节点为左子树根节点\n",
    "                further_node = kd_node.right  # 同时记录右子树\n",
    "            else:                            # 目标离右子树更近\n",
    "                nearer_node  = kd_node.right # 下一个访问节点为右子树根节点\n",
    "                further_node = kd_node.left\n",
    "            \n",
    "            temp = travel(nearer_node,target,max_dist) # 进行遍历找到包含目标点的区域\n",
    "            \n",
    "            nearest = temp.nearest_point     # 以此叶节点作为“当前最近点”\n",
    "            dist = temp.nearest_dist         # 更新最近距离\n",
    "            \n",
    "            nodes_visited += temp.nodes_visited\n",
    "            \n",
    "            \n",
    "#             最近点将在以目标点为球心，max_dist为半径的超球体内\n",
    "            max_dist = dist if dist < max_dist else max_dist\n",
    "            \n",
    "            temp_dist = np.abs(pivot[s] - target[s])          # 第s维上目标点与分割超平面的距离\n",
    "            \n",
    "            if max_dist < temp_dist:                          # 判断超球体是否与超平面相交\n",
    "                return self.result(nearest,dist,nodes_visited)# 不相交则可以直接返回，不用继续判断\n",
    "            \n",
    "            # 计算目标点与分割点的欧式距离\n",
    "            temp_dist = np.linalg.norm(np.array(pivot)-np.array(target),ord=2)\n",
    "            \n",
    "            if temp_dist < dist: # 如果“更近”\n",
    "                nearest = pivot  # 更新最近点\n",
    "                dist = temp_dist # 更新最近距离\n",
    "                max_dist = dist  # 更新超球体半径\n",
    "                \n",
    "            # 检查另一个子节点对应的区域是否有更近的点\n",
    "            temp2 = travel(further_node,target,max_dist)\n",
    "            \n",
    "            nodes_visited = nodes_visited + temp2.nodes_visited\n",
    "            \n",
    "            if temp2.nearest_dist < dist:     # 如果另一个子节点内存在更近距离\n",
    "                nearest = temp2.nearest_point # 更新最近点\n",
    "                dist    = temp2.nearest_dist  # 更新最近距离\n",
    "                \n",
    "            return self.result(nearest,dist,nodes_visited)\n",
    "        \n",
    "        return travel(tree.root,point,np.inf) # 从根节点开始递归\n",
    "\n",
    "data = [[2,3],[5,4],[9,6],[4,7],[8,1],[7,2]]\n",
    "kt = KdTree(data)\n",
    "kt.preorder(kt.root)\n",
    "result = kt.find_nearest_point(kt, [3,4.5])\n",
    "print(result)"
   ]
  },
  {
   "cell_type": "code",
   "execution_count": 17,
   "metadata": {
    "ExecuteTime": {
     "end_time": "2020-11-02T03:29:40.124442Z",
     "start_time": "2020-11-02T03:29:37.199287Z"
    }
   },
   "outputs": [
    {
     "name": "stderr",
     "output_type": "stream",
     "text": [
      "D:\\ProgramData\\Anaconda3\\lib\\site-packages\\ipykernel_launcher.py:13: DeprecationWarning: time.clock has been deprecated in Python 3.3 and will be removed from Python 3.8: use time.perf_counter or time.process_time instead\n",
      "  del sys.path[0]\n"
     ]
    },
    {
     "name": "stdout",
     "output_type": "stream",
     "text": [
      "time:  2.9182125999999995 s\n",
      "Result_tuple(nearest_point=[0.09647486288993956, 0.4980501186991205, 0.8039677530885377], nearest_dist=0.00565435171384352, nodes_visited=39)\n"
     ]
    },
    {
     "name": "stderr",
     "output_type": "stream",
     "text": [
      "D:\\ProgramData\\Anaconda3\\lib\\site-packages\\ipykernel_launcher.py:16: DeprecationWarning: time.clock has been deprecated in Python 3.3 and will be removed from Python 3.8: use time.perf_counter or time.process_time instead\n",
      "  app.launch_new_instance()\n"
     ]
    }
   ],
   "source": [
    "from time import clock\n",
    "from random import random\n",
    "\n",
    "# 产生一个k维随机向量，每维分量值在0~1之间\n",
    "def random_point(k):\n",
    "    return [random() for _ in range(k)]\n",
    "\n",
    "# 产生n个k维随机向量 \n",
    "def random_points(k, n):\n",
    "    return [random_point(k) for _ in range(n)]     \n",
    "\n",
    "N = 400000\n",
    "t0 = clock()\n",
    "kd2 = KdTree(random_points(3, N))            # 构建包含四十万个3维空间样本点的kd树\n",
    "ret2 = kd2.find_nearest_point(kd2, [0.1,0.5,0.8])      # 四十万个样本点中寻找离目标最近的点\n",
    "t1 = clock()\n",
    "print (\"time: \",t1-t0, \"s\")\n",
    "print (ret2)"
   ]
  },
  {
   "cell_type": "code",
   "execution_count": 18,
   "metadata": {
    "ExecuteTime": {
     "end_time": "2020-11-02T03:29:41.324460Z",
     "start_time": "2020-11-02T03:29:40.125418Z"
    }
   },
   "outputs": [
    {
     "data": {
      "image/png": "[encoded data removed]",
      "text/plain": [
       "<Figure size 1080x360 with 2 Axes>"
      ]
     },
     "metadata": {
      "needs_background": "light"
     },
     "output_type": "display_data"
    }
   ],
   "source": [
    "# 3.1\n",
    "\n",
    "%matplotlib inline\n",
    "import numpy as np\n",
    "from sklearn.neighbors import KNeighborsClassifier\n",
    "import matplotlib.pyplot as plt\n",
    "from matplotlib.colors import ListedColormap\n",
    "\n",
    "data = np.array([[5, 12, 1], [6, 21, 0], [14, 5, 0], [16, 10, 0], [13, 19, 0],\n",
    "                 [13, 32, 1], [17, 27, 1], [18, 24, 1], [20, 20,\n",
    "                                                         0], [23, 14, 1],\n",
    "                 [23, 25, 1], [23, 31, 1], [26, 8, 0], [30, 17, 1],\n",
    "                 [30, 26, 1], [34, 8, 0], [34, 19, 1], [37, 28, 1]])\n",
    "X_train = data[:, 0:2]\n",
    "y_train = data[:, 2]\n",
    "\n",
    "models = (KNeighborsClassifier(n_neighbors=1, n_jobs=-1),\n",
    "          KNeighborsClassifier(n_neighbors=2, n_jobs=-1))\n",
    "models = (clf.fit(X_train, y_train) for clf in models)\n",
    "\n",
    "\n",
    "titles = ('K Neighbors with k=1', 'K Neighbors with k=2')\n",
    "\n",
    "fig = plt.figure(figsize=(15, 5))\n",
    "plt.subplots_adjust(wspace=0.4, hspace=0.4)\n",
    "\n",
    "X0, X1 = X_train[:, 0], X_train[:, 1]\n",
    "\n",
    "x_min, x_max = X0.min() - 1, X0.max() + 1\n",
    "y_min, y_max = X1.min() - 1, X1.max() + 1\n",
    "xx, yy = np.meshgrid(np.arange(x_min, x_max, 0.2),\n",
    "                     np.arange(y_min, y_max, 0.2))\n",
    "\n",
    "for clf, title, ax in zip(models, titles, fig.subplots(1, 2).flatten()):\n",
    "    Z = clf.predict(np.c_[xx.ravel(), yy.ravel()])\n",
    "    Z = Z.reshape(xx.shape)\n",
    "    colors = ('red', 'green', 'lightgreen', 'gray', 'cyan')\n",
    "    cmap = ListedColormap(colors[:len(np.unique(Z))])\n",
    "    ax.contourf(xx, yy, Z, cmap=cmap, alpha=0.5)\n",
    "    ax.scatter(X0, X1, c=y_train, s=50, edgecolors='k', cmap=cmap, alpha=0.5)\n",
    "    ax.set_title(title)\n",
    "\n",
    "plt.show()"
   ]
  },
  {
   "cell_type": "code",
   "execution_count": 19,
   "metadata": {
    "ExecuteTime": {
     "end_time": "2020-11-02T03:29:41.331294Z",
     "start_time": "2020-11-02T03:29:41.326413Z"
    }
   },
   "outputs": [
    {
     "name": "stdout",
     "output_type": "stream",
     "text": [
      "x点的最近邻点是(2, 3)\n"
     ]
    }
   ],
   "source": [
    "# 3.2 调用sklearn 库\n",
    "import numpy as np\n",
    "from sklearn.neighbors import KDTree\n",
    "\n",
    "train_data = np.array([(2, 3), (5, 4), (9, 6), (4, 7), (8, 1), (7, 2)])\n",
    "tree = KDTree(train_data, leaf_size=2)\n",
    "dist, ind = tree.query(np.array([(3, 4.5)]), k=1)\n",
    "x1 = train_data[ind[0]][0][0]\n",
    "x2 = train_data[ind[0]][0][1]\n",
    "\n",
    "print(\"x点的最近邻点是({0}, {1})\".format(x1, x2))"
   ]
  },
  {
   "cell_type": "code",
   "execution_count": 20,
   "metadata": {
    "ExecuteTime": {
     "end_time": "2020-11-02T03:29:41.345614Z",
     "start_time": "2020-11-02T03:29:41.332268Z"
    }
   },
   "outputs": [],
   "source": [
    "# 3.3"
   ]
  },
  {
   "cell_type": "code",
   "execution_count": 21,
   "metadata": {
    "ExecuteTime": {
     "end_time": "2020-11-02T03:29:41.365134Z",
     "start_time": "2020-11-02T03:29:41.347565Z"
    },
    "code_folding": [
     58
    ]
   },
   "outputs": [
    {
     "name": "stdout",
     "output_type": "stream",
     "text": [
      "[7, 2]\n",
      "[5, 4]\n",
      "[2, 3]\n",
      "[4, 7]\n",
      "[9, 6]\n",
      "[8, 1]\n",
      "Result_tuple(nearest_point=[2, 3], nearest_dist=1.8027756377319946, nodes_visited=4)\n"
     ]
    }
   ],
   "source": [
    "from collections import namedtuple\n",
    "import numpy as np\n",
    "\n",
    "class KdNode():\n",
    "    def __init__(self,point,split,left,right):\n",
    "        \"\"\"\n",
    "        point：k维空间中的一个样本点\n",
    "        split：进行分割维度的序号\n",
    "        left： 该节点分割超平面左子空间构成的kd-tree\n",
    "        right：该节点分割超平面右子空间构成的kd-tree\n",
    "        \"\"\"\n",
    "        self.point = point\n",
    "        self.split = split\n",
    "        self.left = left\n",
    "        self.right = right\n",
    "\n",
    "class KdTree():\n",
    "    def __init__(self):\n",
    "        # 数组\n",
    "        self.data = None\n",
    "        # 数组大小\n",
    "        self.k = None\n",
    "        # 根节点\n",
    "        self.root = None\n",
    "        # 定义一个namedtuple,分别存放最近坐标点、最近距离和访问过的节点数\n",
    "        self.result = namedtuple(\"Result_tuple\",\n",
    "                    \"nearest_point  nearest_dist  nodes_visited\")\n",
    "\n",
    "        \n",
    "    # 按照x(1)坐标的中位数为切分点\n",
    "    def create_tree(self,split,data):\n",
    "        # 数据集为空\n",
    "        if not data:\n",
    "            return None\n",
    "        \n",
    "        # 按要进行分割的那一维数据排序\n",
    "        data.sort(key=lambda x: x[split])\n",
    "        \n",
    "        # 所有实例的x坐标的中位数为切分点\n",
    "        split_position = len(data) // 2\n",
    "        median = data[split_position] # 分割点\n",
    "        split_next = (split + 1) % self.k\n",
    "        return KdNode(median,split,\n",
    "                     self.create_tree(split_next,data[:split_position]),   # 左子树\n",
    "                     self.create_tree(split_next,data[split_position+1:])) # 右子树\n",
    "\n",
    "    def _preorder(self,root):\n",
    "        print(root.point)\n",
    "        if root.left:  # 节点不为空\n",
    "            self._preorder(root.left)\n",
    "        if root.right:\n",
    "            self._preorder(root.right)\n",
    "            \n",
    "        # KDTree的前序遍历\n",
    "    def preorder(self):\n",
    "        self._preorder(self.root)\n",
    "            \n",
    "    def fit(self,X):\n",
    "        return self.root\n",
    "            \n",
    "    def find_nearest_point(self,point):\n",
    "        \n",
    "        tree = self\n",
    "        # 数据维度\n",
    "        k_point = len(point)\n",
    "        \n",
    "        def travel(kd_node,target,max_dist):\n",
    "            \n",
    "            if not kd_node:\n",
    "                return self.result([0]*k_point,np.inf,0)\n",
    "            \n",
    "            nodes_visited = 1\n",
    "            s = kd_node.split     # 进行分割的维度\n",
    "            pivot = kd_node.point # 进行分割的轴\n",
    "            \n",
    "            if target[s] <= pivot[s]:         # 如果目标点第s维小于分割轴的对应值(目标离左子树更近)\n",
    "                nearer_node  = kd_node.left   # 下一个访问节点为左子树根节点\n",
    "                further_node = kd_node.right  # 同时记录右子树\n",
    "            else:                            # 目标离右子树更近\n",
    "                nearer_node  = kd_node.right # 下一个访问节点为右子树根节点\n",
    "                further_node = kd_node.left\n",
    "            \n",
    "            temp = travel(nearer_node,target,max_dist) # 进行遍历找到包含目标点的区域\n",
    "            nearest = temp.nearest_point     # 以此叶节点作为“当前最近点”\n",
    "            dist = temp.nearest_dist         # 更新最近距离\n",
    "            nodes_visited += temp.nodes_visited\n",
    "            \n",
    "#             最近点将在以目标点为球心，max_dist为半径的超球体内\n",
    "            max_dist = dist if dist < max_dist else max_dist\n",
    "            \n",
    "            temp_dist = np.abs(pivot[s] - target[s])          # 第s维上目标点与分割超平面的距离\n",
    "            \n",
    "            if max_dist < temp_dist:                          # 判断超球体是否与超平面相交\n",
    "                return self.result(nearest,dist,nodes_visited)# 不相交则可以直接返回，不用继续判断\n",
    "            \n",
    "            # 计算目标点与分割点的欧式距离\n",
    "            temp_dist = np.linalg.norm(np.array(pivot)-np.array(target),ord=2)\n",
    "            \n",
    "            if temp_dist < dist: # 如果“更近”\n",
    "                nearest = pivot  # 更新最近点\n",
    "                dist = temp_dist # 更新最近距离\n",
    "                max_dist = dist  # 更新超球体半径\n",
    "                \n",
    "            # 检查另一个子节点对应的区域是否有更近的点\n",
    "            temp2 = travel(further_node,target,max_dist)\n",
    "            nodes_visited = nodes_visited + temp2.nodes_visited\n",
    "            if temp2.nearest_dist < dist:     # 如果另一个子节点内存在更近距离\n",
    "                nearest = temp2.nearest_point # 更新最近点\n",
    "                dist    = temp2.nearest_dist  # 更新最近距离\n",
    "                \n",
    "            return self.result(nearest,dist,nodes_visited)\n",
    "        return travel(tree.root,point,np.inf) # 从根节点开始递归\n",
    "    \n",
    "    def fit(self,data):\n",
    "        self.data = data\n",
    "        self.k = len(self.data[0])\n",
    "        self.root = self.create_tree(0,self.data)\n",
    "        return self.root\n",
    "\n",
    "data = [[2,3],[5,4],[9,6],[4,7],[8,1],[7,2]]\n",
    "kt = KdTree()\n",
    "kt.fit(data)\n",
    "kt.preorder()\n",
    "result = kt.find_nearest_point([3,4.5])\n",
    "print(result)"
   ]
  },
  {
   "cell_type": "code",
   "execution_count": 22,
   "metadata": {
    "ExecuteTime": {
     "end_time": "2020-11-02T03:29:41.369037Z",
     "start_time": "2020-11-02T03:29:41.366110Z"
    }
   },
   "outputs": [],
   "source": [
    "# a = np.array([[8,1]])\n",
    "# b = np.array([[9,6]])\n",
    "# c = np.array([[8,4]])\n",
    "# np.linalg.norm(a-c,ord=2),np.linalg.norm(b-c,ord=2)"
   ]
  }
 ],
 "metadata": {
  "kernelspec": {
   "display_name": "Python 3",
   "language": "python",
   "name": "python3"
  },
  "language_info": {
   "codemirror_mode": {
    "name": "ipython",
    "version": 3
   },
   "file_extension": ".py",
   "mimetype": "text/x-python",
   "name": "python",
   "nbconvert_exporter": "python",
   "pygments_lexer": "ipython3",
   "version": "3.7.6"
  },
  "latex_envs": {
   "LaTeX_envs_menu_present": true,
   "autoclose": false,
   "autocomplete": true,
   "bibliofile": "biblio.bib",
   "cite_by": "apalike",
   "current_citInitial": 1,
   "eqLabelWithNumbers": true,
   "eqNumInitial": 1,
   "hotkeys": {
    "equation": "Ctrl-E",
    "itemize": "Ctrl-I"
   },
   "labels_anchors": false,
   "latex_user_defs": false,
   "report_style_numbering": false,
   "user_envs_cfg": false
  },
  "toc": {
   "base_numbering": 1,
   "nav_menu": {},
   "number_sections": true,
   "sideBar": true,
   "skip_h1_title": false,
   "title_cell": "Table of Contents",
   "title_sidebar": "Contents",
   "toc_cell": false,
   "toc_position": {},
   "toc_section_display": true,
   "toc_window_display": true
  }
 },
 "nbformat": 4,
 "nbformat_minor": 4
}
