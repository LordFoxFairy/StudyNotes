{
 "cells": [
  {
   "cell_type": "markdown",
   "metadata": {},
   "source": [
    "# 第14章 聚类\n",
    "\n",
    "完整代码见最后\n",
    "\n",
    "## 相似度或距离"
   ]
  },
  {
   "cell_type": "code",
   "execution_count": 1,
   "metadata": {
    "ExecuteTime": {
     "end_time": "2020-11-27T09:32:44.546372Z",
     "start_time": "2020-11-27T09:32:44.426325Z"
    }
   },
   "outputs": [
    {
     "data": {
      "text/plain": [
       "(4.0, 4.0)"
      ]
     },
     "execution_count": 1,
     "metadata": {},
     "output_type": "execute_result"
    }
   ],
   "source": [
    "import numpy as np\n",
    "\n",
    "def minkowski_distance(x,y,p):\n",
    "    \"\"\"\n",
    "    params p:\n",
    "        p=1为曼哈顿距离；\n",
    "        p=2为欧式距离\n",
    "        p=无穷大为切比雪夫距离\n",
    "    \"\"\"\n",
    "    return np.power(np.sum(np.power(np.abs(x-y),p)),1/p)\n",
    "\n",
    "x = np.array([1,2,3,4])\n",
    "y = np.array([2,3,4,5])\n",
    "# 曼哈顿距离\n",
    "minkowski_distance(x,y,1),np.linalg.norm(x-y,ord=1)"
   ]
  },
  {
   "cell_type": "code",
   "execution_count": 2,
   "metadata": {
    "ExecuteTime": {
     "end_time": "2020-11-27T09:32:44.551254Z",
     "start_time": "2020-11-27T09:32:44.547348Z"
    }
   },
   "outputs": [
    {
     "data": {
      "text/plain": [
       "(1.0, 1.0)"
      ]
     },
     "execution_count": 2,
     "metadata": {},
     "output_type": "execute_result"
    }
   ],
   "source": [
    "# 切比雪夫距离\n",
    "minkowski_distance(x,y,np.inf),np.linalg.norm(x-y,ord=np.inf)"
   ]
  },
  {
   "cell_type": "code",
   "execution_count": 3,
   "metadata": {
    "ExecuteTime": {
     "end_time": "2020-11-27T09:32:44.567844Z",
     "start_time": "2020-11-27T09:32:44.555155Z"
    }
   },
   "outputs": [
    {
     "data": {
      "text/plain": [
       "1.4142135623730954"
      ]
     },
     "execution_count": 3,
     "metadata": {},
     "output_type": "execute_result"
    }
   ],
   "source": [
    "# 马氏距离要求样本数要大于维数，否则无法求协方差矩阵\n",
    "def mahalanobis_distance(x,y):\n",
    "    return np.sqrt((x-y).T.dot(np.linalg.pinv(np.cov(np.c_[x,y]))).dot(x-y))\n",
    "x = np.array([1,2,3,4])\n",
    "y = np.array([2,3,4,5])\n",
    "mahalanobis_distance(x,y)"
   ]
  },
  {
   "cell_type": "code",
   "execution_count": 4,
   "metadata": {
    "ExecuteTime": {
     "end_time": "2020-11-27T09:32:44.574677Z",
     "start_time": "2020-11-27T09:32:44.568821Z"
    }
   },
   "outputs": [],
   "source": [
    "# 相关系数\n",
    "def correlation_coefficient(x,y):\n",
    "    x_mean = np.mean(x)\n",
    "    y_mean = np.mean(y)\n",
    "    \n",
    "    r = np.sum((x-x_mean)*(y-y_mean)) / (np.sum(np.power(x-x_mean,2))*np.sum(np.power(y-y_mean,2)))**0.5\n",
    "    \n",
    "    return\n",
    "\n",
    "x = np.random.random(4)\n",
    "y = np.random.random(4)\n",
    "\n",
    "\n",
    "correlation_coefficient(x,y)"
   ]
  },
  {
   "cell_type": "code",
   "execution_count": 5,
   "metadata": {
    "ExecuteTime": {
     "end_time": "2020-11-27T09:32:44.580533Z",
     "start_time": "2020-11-27T09:32:44.575653Z"
    }
   },
   "outputs": [
    {
     "data": {
      "text/plain": [
       "-0.27570204082709326"
      ]
     },
     "execution_count": 5,
     "metadata": {},
     "output_type": "execute_result"
    }
   ],
   "source": [
    "np.corrcoef(x,y)[0,1]"
   ]
  },
  {
   "cell_type": "code",
   "execution_count": 6,
   "metadata": {
    "ExecuteTime": {
     "end_time": "2020-11-27T09:32:44.587364Z",
     "start_time": "2020-11-27T09:32:44.581508Z"
    }
   },
   "outputs": [
    {
     "data": {
      "text/plain": [
       "0.814105005604939"
      ]
     },
     "execution_count": 6,
     "metadata": {},
     "output_type": "execute_result"
    }
   ],
   "source": [
    "# 夹角余弦\n",
    "def cosine(x,y):\n",
    "    return x.dot(y)/np.sqrt(np.sum(x**2)*np.sum(y**2))\n",
    "\n",
    "x = np.random.random(4)\n",
    "y = np.random.random(4)\n",
    "cosine(x,y)"
   ]
  },
  {
   "cell_type": "code",
   "execution_count": 7,
   "metadata": {
    "ExecuteTime": {
     "end_time": "2020-11-27T09:32:44.814788Z",
     "start_time": "2020-11-27T09:32:44.589318Z"
    }
   },
   "outputs": [
    {
     "data": {
      "text/plain": [
       "{0: [(array([0, 0, 0, 1, 1, 0, 1, 0, 0, 0]), 0),\n",
       "  (array([1, 0, 0, 0, 0, 0, 1, 0, 1, 0]), 3),\n",
       "  (array([0, 1, 1, 0, 0, 0, 0, 0, 1, 0]), 4)],\n",
       " 1: [(array([0, 0, 0, 0, 0, 1, 0, 1, 0, 1]), 1),\n",
       "  (array([0, 0, 0, 1, 0, 0, 1, 1, 1, 1]), 2)]}"
      ]
     },
     "execution_count": 7,
     "metadata": {},
     "output_type": "execute_result"
    }
   ],
   "source": [
    "import copy\n",
    "import matplotlib.pyplot as plt\n",
    "\n",
    "class KMeans:\n",
    "    def __init__(self,k):\n",
    "        self.k = k\n",
    "        self.G = None\n",
    "        \n",
    "    \n",
    "    def centre_distance(self,data):\n",
    "        return np.sum(data,axis=0)/len(data)\n",
    "    \n",
    "    def mean_distance(self,):\n",
    "        pass\n",
    "    \n",
    "    def loss(self,):\n",
    "        pass\n",
    "    \n",
    "    def minkowski_distance(self,x,p=2):\n",
    "        \"\"\"\n",
    "        params p:\n",
    "            p=1为曼哈顿距离；\n",
    "            p=2为欧式距离\n",
    "            p=无穷大为切比雪夫距离\n",
    "        \"\"\"\n",
    "        return np.power(np.sum(np.power(np.abs(x),p)),1/p)\n",
    "    \n",
    "    def compare(self,a,b):\n",
    "        for ai,bi in zip(a,b):\n",
    "            if ai != bi:\n",
    "                return False\n",
    "        return True\n",
    "    \n",
    "    def fit(self,data):\n",
    "        self.data = np.array(data)\n",
    "        self.n_samples,self.n_features = self.data.shape\n",
    "        \n",
    "        if self.k > self.n_samples:\n",
    "            self.k = self.n_samples-1\n",
    "        \n",
    "        # 初始化类的中心\n",
    "#         m = [[data[i]] for i in range(self.k)]\n",
    "        m = [[data[0]],[data[2]]]\n",
    "        # 类\n",
    "        G = {i:[] for i in range(self.k)}\n",
    "        # 记录上一次的类\n",
    "        OldG = copy.deepcopy(G)\n",
    "        while True:\n",
    "            for i in range(self.n_samples):\n",
    "                 distance = np.zeros(self.k)\n",
    "                 for j in range(self.k):\n",
    "                        # 欧式距离的平方\n",
    "                        distance[j] = self.minkowski_distance(data[i]-m[j])**2\n",
    "                 # 寻找最小距离的索引\n",
    "                 index = np.argmin(distance)\n",
    "                 G[index].append(data[i])\n",
    "            # 重新计算类的中心\n",
    "            m = [self.centre_distance(G[i]) for i in range(self.k)]\n",
    "            if self.compare(G,OldG):\n",
    "                break\n",
    "            # 存储上一次分类分布\n",
    "            OldG = G\n",
    "            # 清空G，进行下一轮的分配\n",
    "            G = {i:[] for i in range(self.k)}\n",
    "        self.G = {i:[(j,[list(i) for i in data].index(list(j))) for j in G[i]] for i in range(self.k)}\n",
    "        self.m = m\n",
    "        return self.G\n",
    "    \n",
    "    def plot(self,G):\n",
    "        data = []\n",
    "        y = []\n",
    "#         print(G)\n",
    "        for i in range(self.k):\n",
    "            for j in range(len(G[i])):\n",
    "                data.append(G[i][j][0])\n",
    "                y.append(i)\n",
    "            \n",
    "        data = np.array(data)\n",
    "        y = np.array(y)\n",
    "        plt.scatter(data[:,0],data[:,1],c=y)\n",
    "        \n",
    "    \n",
    "data = np.array([\n",
    "    [0,0,0,1,0],\n",
    "    [0,0,0,0,1],\n",
    "    [0,0,0,0,1],\n",
    "    [1,0,1,0,0],\n",
    "    [1,0,0,0,0],\n",
    "    [0,1,0,0,0],\n",
    "    [1,0,1,1,0],\n",
    "    [0,1,1,0,0],\n",
    "    [0,0,1,1,1],\n",
    "    [0,1,1,0,0]\n",
    "])\n",
    "kmeans = KMeans(2)\n",
    "G = kmeans.fit(data.T)\n",
    "# G,kmeans.m\n",
    "G"
   ]
  },
  {
   "cell_type": "code",
   "execution_count": 8,
   "metadata": {
    "ExecuteTime": {
     "end_time": "2020-11-27T09:32:44.820827Z",
     "start_time": "2020-11-27T09:32:44.815759Z"
    }
   },
   "outputs": [
    {
     "data": {
      "text/plain": [
       "{0: [(array([0, 2]), 0)],\n",
       " 1: [(array([0, 0]), 1),\n",
       "  (array([1, 0]), 2),\n",
       "  (array([5, 0]), 3),\n",
       "  (array([5, 2]), 4)]}"
      ]
     },
     "execution_count": 8,
     "metadata": {},
     "output_type": "execute_result"
    }
   ],
   "source": [
    "data = np.array([\n",
    "    [0,2],\n",
    "    [0,0],\n",
    "    [1,0],\n",
    "    [5,0],\n",
    "    [5,2]\n",
    "])\n",
    "\n",
    "kmeans = KMeans(2)\n",
    "G = kmeans.fit(data)\n",
    "G"
   ]
  },
  {
   "cell_type": "code",
   "execution_count": 9,
   "metadata": {
    "ExecuteTime": {
     "end_time": "2020-11-27T09:32:45.237445Z",
     "start_time": "2020-11-27T09:32:44.821615Z"
    }
   },
   "outputs": [
    {
     "data": {
      "text/plain": [
       "(150, 4)"
      ]
     },
     "execution_count": 9,
     "metadata": {},
     "output_type": "execute_result"
    }
   ],
   "source": [
    "from sklearn import datasets  # 导入sklearn中集成的数据集\n",
    "\n",
    "iris = datasets.load_iris()\n",
    "data = iris.data\n",
    "target = iris.target\n",
    "data.shape"
   ]
  },
  {
   "cell_type": "code",
   "execution_count": 10,
   "metadata": {
    "ExecuteTime": {
     "end_time": "2020-11-27T09:32:45.360458Z",
     "start_time": "2020-11-27T09:32:45.238422Z"
    }
   },
   "outputs": [
    {
     "data": {
      "text/plain": [
       "<matplotlib.collections.PathCollection at 0x128b1751e88>"
      ]
     },
     "execution_count": 10,
     "metadata": {},
     "output_type": "execute_result"
    },
    {
     "data": {
      "image/png": "[encoded data removed]",
      "text/plain": [
       "<Figure size 432x288 with 1 Axes>"
      ]
     },
     "metadata": {
      "needs_background": "light"
     },
     "output_type": "display_data"
    }
   ],
   "source": [
    "plt.scatter(data[:,0],data[:,1],c=target)"
   ]
  },
  {
   "cell_type": "code",
   "execution_count": 11,
   "metadata": {
    "ExecuteTime": {
     "end_time": "2020-11-27T09:32:45.482988Z",
     "start_time": "2020-11-27T09:32:45.361434Z"
    }
   },
   "outputs": [
    {
     "data": {
      "text/plain": [
       "(array([1, 0, 1, 0]),\n",
       " array([[1.85, 1.6 , 1.7 , 1.65, 1.9 , 2.15, 1.85, 1.8 , 1.55, 1.6 , 1.95,\n",
       "         1.8 , 1.55, 1.55, 2.1 , 2.4 , 2.15, 1.9 , 2.05, 2.05, 1.8 , 2.05,\n",
       "         1.9 , 1.9 , 1.8 , 1.6 , 1.9 , 1.85, 1.8 , 1.7 , 1.65, 1.9 , 2.1 ,\n",
       "         2.2 , 1.65, 1.7 , 1.85, 1.85, 1.6 , 1.8 , 1.9 , 1.3 , 1.7 , 2.05,\n",
       "         2.1 , 1.65, 2.  , 1.7 , 1.95, 1.75, 2.3 , 2.35, 2.3 , 1.8 , 2.15,\n",
       "         2.05, 2.45, 1.7 , 2.1 , 2.05, 1.5 , 2.25, 1.6 , 2.15, 2.1 , 2.25,\n",
       "         2.25, 1.85, 1.85, 1.8 , 2.5 , 2.05, 2.  , 2.  , 2.1 , 2.2 , 2.1 ,\n",
       "         2.35, 2.2 , 1.8 , 1.75, 1.7 , 1.95, 2.15, 2.25, 2.5 , 2.3 , 1.8 ,\n",
       "         2.15, 1.9 , 1.9 , 2.2 , 1.9 , 1.65, 2.  , 2.1 , 2.1 , 2.1 , 1.8 ,\n",
       "         2.05, 2.9 , 2.3 , 2.55, 2.35, 2.6 , 2.55, 2.1 , 2.35, 2.15, 3.05,\n",
       "         2.6 , 2.3 , 2.55, 2.25, 2.6 , 2.75, 2.4 , 3.  , 2.45, 1.85, 2.75,\n",
       "         2.4 , 2.4 , 2.25, 2.7 , 2.5 , 2.3 , 2.4 , 2.45, 2.3 , 2.35, 2.9 ,\n",
       "         2.5 , 2.15, 2.  , 2.65, 2.9 , 2.45, 2.4 , 2.6 , 2.75, 2.7 , 2.3 ,\n",
       "         2.75, 2.9 , 2.65, 2.2 , 2.5 , 2.85, 2.4 ],\n",
       "        [3.25, 3.15, 3.  , 3.05, 3.2 , 3.55, 3.  , 3.25, 2.9 , 3.2 , 3.45,\n",
       "         3.2 , 3.1 , 2.7 , 3.5 , 3.6 , 3.35, 3.25, 3.7 , 3.3 , 3.55, 3.3 ,\n",
       "         2.8 , 3.4 , 3.35, 3.3 , 3.3 , 3.35, 3.3 , 3.15, 3.2 , 3.45, 3.35,\n",
       "         3.45, 3.2 , 3.1 , 3.4 , 3.15, 2.85, 3.3 , 3.15, 2.9 , 2.85, 3.3 ,\n",
       "         3.5 , 3.1 , 3.35, 3.  , 3.4 , 3.2 , 5.85, 5.45, 5.9 , 4.75, 5.55,\n",
       "         5.1 , 5.5 , 4.1 , 5.6 , 4.55, 4.25, 5.05, 5.  , 5.4 , 4.6 , 5.55,\n",
       "         5.05, 4.95, 5.35, 4.75, 5.35, 5.05, 5.6 , 5.4 , 5.35, 5.5 , 5.8 ,\n",
       "         5.85, 5.25, 4.6 , 4.65, 4.6 , 4.85, 5.55, 4.95, 5.25, 5.7 , 5.35,\n",
       "         4.85, 4.75, 4.95, 5.35, 4.9 , 4.15, 4.9 , 4.95, 4.95, 5.25, 4.05,\n",
       "         4.9 , 6.15, 5.45, 6.5 , 5.95, 6.15, 7.1 , 4.7 , 6.8 , 6.25, 6.65,\n",
       "         5.8 , 5.85, 6.15, 5.35, 5.45, 5.85, 6.  , 7.2 , 7.3 , 5.5 , 6.3 ,\n",
       "         5.25, 7.2 , 5.6 , 6.2 , 6.6 , 5.5 , 5.5 , 6.  , 6.5 , 6.75, 7.15,\n",
       "         6.  , 5.7 , 5.85, 6.9 , 5.95, 5.95, 5.4 , 6.15, 6.15, 6.  , 5.45,\n",
       "         6.35, 6.2 , 5.95, 5.65, 5.85, 5.8 , 5.5 ]]))"
      ]
     },
     "execution_count": 11,
     "metadata": {},
     "output_type": "execute_result"
    }
   ],
   "source": [
    "from sklearn.cluster import KMeans\n",
    "\n",
    "kmean = KMeans(n_clusters=2)\n",
    "kmean.fit(data.T);\n",
    "kmean.labels_,kmean.cluster_centers_.round(5)"
   ]
  },
  {
   "cell_type": "code",
   "execution_count": 12,
   "metadata": {
    "ExecuteTime": {
     "end_time": "2020-11-27T09:32:45.531299Z",
     "start_time": "2020-11-27T09:32:45.483944Z"
    }
   },
   "outputs": [
    {
     "data": {
      "text/plain": [
       "{0: [array([0, 0, 0, 1, 1, 0, 1, 0, 0, 0]),\n",
       "  array([0, 0, 0, 1, 0, 0, 1, 1, 1, 1]),\n",
       "  array([1, 0, 0, 0, 0, 0, 1, 0, 1, 0]),\n",
       "  array([0, 0, 0, 0, 0, 1, 0, 1, 0, 1])],\n",
       " 1: [array([0, 1, 1, 0, 0, 0, 0, 0, 1, 0])]}"
      ]
     },
     "execution_count": 12,
     "metadata": {},
     "output_type": "execute_result"
    }
   ],
   "source": [
    "class Hierarchical:\n",
    "    def __init__(self,k):\n",
    "        self.k = k\n",
    "    \n",
    "    def minkowski_distance(self,x,p=2):\n",
    "        \"\"\"\n",
    "        params p:\n",
    "            p=1为曼哈顿距离；\n",
    "            p=2为欧式距离\n",
    "            p=无穷大为切比雪夫距离\n",
    "        \"\"\"\n",
    "        return np.power(np.sum(np.power(np.abs(x),p)),1/p)\n",
    "    \n",
    "    def distance_between_classes(self,g1,g2):\n",
    "        \"\"\"\n",
    "        两个聚类之间的距离即为两类中样本点的最短距离\n",
    "        \"\"\"\n",
    "        # 存储聚类之间样本点的距离\n",
    "        dg = np.array([[self.minkowski_distance(i-j) for j in g2] for i in g1])\n",
    "        min_distance = np.min(dg)\n",
    "        return min_distance\n",
    "    \n",
    "    def compare(self,a,b):\n",
    "        for ai,bi in zip(a,b):\n",
    "            if ai != bi:\n",
    "                return False\n",
    "        return True\n",
    "    \n",
    "    def centre_distance(self,data):\n",
    "        return np.sum(data,axis=0)/len(data)\n",
    "    \n",
    "    def fit(self,data):\n",
    "        self.n_samples,self.n_features = data.shape\n",
    "        # 初始每个即为一个类，每个点即为当前类的中心\n",
    "        m = [[list(data[i])] for i in range(self.n_samples)]\n",
    "        # n个样本两两之间的欧式距离\n",
    "        D = [[self.minkowski_distance(data[i]-data[j]) for j in range(self.n_samples)] for i in range(self.n_samples)]\n",
    "        for i in range(len(D)):\n",
    "            D[i][i] = np.inf\n",
    "        # n个点即n个类\n",
    "        G = {i:[data[i]] for i in range(self.n_samples)}\n",
    "        n = self.n_samples # 类总数\n",
    "        \n",
    "        \n",
    "        while n > self.k:\n",
    "            dg = np.array([[np.inf for j in range(len(G))] for i in range(len(G))])\n",
    "            #　计算两两聚类之间的最短距离-类间距离\n",
    "            for i in range(len(G)):\n",
    "                for j in range(len(G)):\n",
    "                    if i<j:\n",
    "                        dg[i,j]=self.distance_between_classes(G[i],G[j])\n",
    "            \n",
    "            min_distance = np.min(dg)\n",
    "            min_distance_index = np.argwhere(dg == min_distance)\n",
    "            min_distance_index = np.sort(min_distance_index)\n",
    "            \n",
    "            # 将距离最小的类进行合并\n",
    "            for i in range(len(min_distance_index[:self.k])):\n",
    "                if i > 0 and self.compare(min_distance_index[i-1],min_distance_index[i]):\n",
    "                    pass\n",
    "                key0,key1 = min_distance_index[i]\n",
    "                G[key0].extend(G[key1])\n",
    "                G.pop(key1)\n",
    "                n -= 1\n",
    "                if n <= self.k:\n",
    "                    break\n",
    "                    \n",
    "            G = {i:G[list(G.keys())[i]] for i in range(len(G))}\n",
    "        self.m = [self.centre_distance(G[i]) for i in range(self.k)]\n",
    "        \n",
    "        return G\n",
    "            \n",
    "    def plot(self,G):\n",
    "        data = []\n",
    "        y = []\n",
    "        for i in range(len(G)):\n",
    "            for j in range(len(G[i])):\n",
    "                y.append(i)\n",
    "                data.append(G[i][j])\n",
    "        data = np.array(data,dtype=int)\n",
    "        y = np.array(y)\n",
    "        plt.scatter(data[:,0],data[:,1],c=y)\n",
    "        \n",
    "    \n",
    "# data = np.array([\n",
    "#     [0,2],\n",
    "#     [0,0],\n",
    "#     [1,0],\n",
    "#     [5,0],\n",
    "#     [5,2]\n",
    "# ])\n",
    "\n",
    "data = np.array([\n",
    "    [0,0,0,1,0],\n",
    "    [0,0,0,0,1],\n",
    "    [0,0,0,0,1],\n",
    "    [1,0,1,0,0],\n",
    "    [1,0,0,0,0],\n",
    "    [0,1,0,0,0],\n",
    "    [1,0,1,1,0],\n",
    "    [0,1,1,0,0],\n",
    "    [0,0,1,1,1],\n",
    "    [0,1,1,0,0]\n",
    "])\n",
    "\n",
    "data = data.T\n",
    "hiera = Hierarchical(k=2)\n",
    "G = hiera.fit(data)\n",
    "G"
   ]
  },
  {
   "cell_type": "code",
   "execution_count": 13,
   "metadata": {
    "ExecuteTime": {
     "end_time": "2020-11-27T09:32:45.658563Z",
     "start_time": "2020-11-27T09:32:45.532275Z"
    }
   },
   "outputs": [
    {
     "data": {
      "image/png": "[encoded data removed]",
      "text/plain": [
       "<Figure size 432x288 with 1 Axes>"
      ]
     },
     "metadata": {
      "needs_background": "light"
     },
     "output_type": "display_data"
    }
   ],
   "source": [
    "import copy\n",
    "import matplotlib.pyplot as plt\n",
    "\n",
    "class KMeans:\n",
    "    def __init__(self,k,m=None):\n",
    "        self.k = k\n",
    "        self.G = None\n",
    "        self.m = m\n",
    "        \n",
    "    \n",
    "    def centre_distance(self,data):\n",
    "        return np.sum(data,axis=0)/len(data)\n",
    "    \n",
    "    def mean_distance(self,):\n",
    "        pass\n",
    "    \n",
    "    def loss(self,):\n",
    "        pass\n",
    "    \n",
    "    def minkowski_distance(self,x,p=2):\n",
    "        \"\"\"\n",
    "        params p:\n",
    "            p=1为曼哈顿距离；\n",
    "            p=2为欧式距离\n",
    "            p=无穷大为切比雪夫距离\n",
    "        \"\"\"\n",
    "        return np.power(np.sum(np.power(np.abs(x),p)),1/p)\n",
    "    \n",
    "    def compare(self,a,b):\n",
    "        for ai,bi in zip(a,b):\n",
    "            if ai != bi:\n",
    "                return False\n",
    "        return True\n",
    "    \n",
    "    def fit(self,data):\n",
    "        self.data = np.array(data)\n",
    "        self.n_samples,self.n_features = self.data.shape\n",
    "        \n",
    "        if self.k > self.n_samples:\n",
    "            self.k = self.n_samples-1\n",
    "        \n",
    "        # 初始化类的中心\n",
    "        m = self.m\n",
    "        if m is None:\n",
    "            m = [[data[i]] for i in range(self.k)]\n",
    "#         print(m)\n",
    "        # 类\n",
    "        G = {i:[] for i in range(self.k)}\n",
    "        # 记录上一次的类\n",
    "        OldG = copy.deepcopy(G)\n",
    "        while True:\n",
    "            for i in range(self.n_samples):\n",
    "                 distance = np.zeros(self.k)\n",
    "                 for j in range(self.k):\n",
    "                        # 欧式距离的平方\n",
    "                        distance[j] = self.minkowski_distance(data[i]-m[j])**2\n",
    "                 # 寻找最小距离的索引\n",
    "                 index = np.argmin(distance)\n",
    "                 G[index].append(data[i])\n",
    "            # 重新计算类的中心\n",
    "            m = [self.centre_distance(G[i]) for i in range(self.k)]\n",
    "            if self.compare(G,OldG):\n",
    "                break\n",
    "            # 存储上一次分类分布\n",
    "            OldG = G\n",
    "            # 清空G，进行下一轮的分配\n",
    "            G = {i:[] for i in range(self.k)}\n",
    "        self.G = {i:[(j,[list(i) for i in data].index(list(j))) for j in G[i]] for i in range(self.k)}\n",
    "        self.m = m\n",
    "        return self.G\n",
    "    \n",
    "    def plot(self,G):\n",
    "        data = []\n",
    "        y = []\n",
    "#         print(G)\n",
    "        for i in range(self.k):\n",
    "            for j in range(len(G[i])):\n",
    "                data.append(G[i][j][0])\n",
    "                y.append(i)\n",
    "            \n",
    "        data = np.array(data)\n",
    "        y = np.array(y)\n",
    "        plt.scatter(data[:,0],data[:,1],c=y)\n",
    "        \n",
    "    \n",
    "data = np.array([\n",
    "    [0,2],\n",
    "    [0,0],\n",
    "    [1,0],\n",
    "    [5,0],\n",
    "    [5,2]\n",
    "])\n",
    "hiera = Hierarchical(k=3)\n",
    "hiera.fit(data)\n",
    "\n",
    "m=hiera.m\n",
    "\n",
    "kmeans = KMeans(3,m)\n",
    "G = kmeans.fit(data)\n",
    "kmeans.plot(G)"
   ]
  },
  {
   "cell_type": "code",
   "execution_count": 14,
   "metadata": {
    "ExecuteTime": {
     "end_time": "2020-11-27T09:32:45.774242Z",
     "start_time": "2020-11-27T09:32:45.659540Z"
    }
   },
   "outputs": [
    {
     "data": {
      "image/png": "[encoded data removed]",
      "text/plain": [
       "<Figure size 432x288 with 1 Axes>"
      ]
     },
     "metadata": {
      "needs_background": "light"
     },
     "output_type": "display_data"
    }
   ],
   "source": [
    "kmeans = KMeans(3)\n",
    "G = kmeans.fit(data)\n",
    "kmeans.plot(G)"
   ]
  },
  {
   "cell_type": "code",
   "execution_count": 15,
   "metadata": {
    "ExecuteTime": {
     "end_time": "2020-11-27T09:32:45.785955Z",
     "start_time": "2020-11-27T09:32:45.775218Z"
    }
   },
   "outputs": [
    {
     "data": {
      "text/plain": [
       "{0: [(array([0, 0, 0, 1, 1, 0, 1, 0, 0, 0]), 0),\n",
       "  (array([0, 0, 0, 1, 0, 0, 1, 1, 1, 1]), 2),\n",
       "  (array([1, 0, 0, 0, 0, 0, 1, 0, 1, 0]), 3)],\n",
       " 1: [(array([0, 0, 0, 0, 0, 1, 0, 1, 0, 1]), 1)],\n",
       " 2: [(array([0, 1, 1, 0, 0, 0, 0, 0, 1, 0]), 4)]}"
      ]
     },
     "execution_count": 15,
     "metadata": {},
     "output_type": "execute_result"
    }
   ],
   "source": [
    "data = np.array([\n",
    "    [0,0,0,1,0],\n",
    "    [0,0,0,0,1],\n",
    "    [0,0,0,0,1],\n",
    "    [1,0,1,0,0],\n",
    "    [1,0,0,0,0],\n",
    "    [0,1,0,0,0],\n",
    "    [1,0,1,1,0],\n",
    "    [0,1,1,0,0],\n",
    "    [0,0,1,1,1],\n",
    "    [0,1,1,0,0]\n",
    "])\n",
    "\n",
    "data = data.T\n",
    "k=3\n",
    "\n",
    "hiera = Hierarchical(k=k)\n",
    "hiera.fit(data)\n",
    "\n",
    "kmeans = KMeans(k,hiera.m)\n",
    "G = kmeans.fit(data)\n",
    "G"
   ]
  },
  {
   "cell_type": "markdown",
   "metadata": {},
   "source": [
    "## 完整代码=>层次聚类+kmeans聚类\n",
    "\n",
    "首先通过层次聚类找到k个中心，然后在通过kmeans进行聚类\n",
    "\n",
    "层次聚类，首先将每个样本都单独看成一个聚类，之后，计算每个聚类之间的类间距离（也就是每个聚类之间的样本之间的最短的距离），都计算完后，找到距离最小的两个聚类进行合并，合成成为新的一个聚类。然后重新继续计算，直到只剩下k个类为止。\n",
    "\n",
    "kmeans聚类，通过层次聚类找到了k个聚类之后，计算k个聚类的中心，将样本点全部进行划分，并且重新计算聚类的中心点，直到聚类的分布不便为止。"
   ]
  },
  {
   "cell_type": "code",
   "execution_count": 16,
   "metadata": {
    "ExecuteTime": {
     "end_time": "2020-11-27T09:32:45.832801Z",
     "start_time": "2020-11-27T09:32:45.786931Z"
    }
   },
   "outputs": [
    {
     "data": {
      "text/plain": [
       "{0: [(array([0, 0, 0, 1, 1, 0, 1, 0, 0, 0]), 0),\n",
       "  (array([0, 0, 0, 0, 0, 1, 0, 1, 0, 1]), 1),\n",
       "  (array([0, 0, 0, 1, 0, 0, 1, 1, 1, 1]), 2),\n",
       "  (array([1, 0, 0, 0, 0, 0, 1, 0, 1, 0]), 3)],\n",
       " 1: [(array([0, 1, 1, 0, 0, 0, 0, 0, 1, 0]), 4)]}"
      ]
     },
     "execution_count": 16,
     "metadata": {},
     "output_type": "execute_result"
    }
   ],
   "source": [
    "import copy\n",
    "import matplotlib.pyplot as plt\n",
    "import numpy as np\n",
    "\n",
    "class Hierarchical:\n",
    "    def __init__(self,k):\n",
    "        self.k = k\n",
    "    \n",
    "    def minkowski_distance(self,x,p=2):\n",
    "        \"\"\"\n",
    "        params p:\n",
    "            p=1为曼哈顿距离；\n",
    "            p=2为欧式距离\n",
    "            p=无穷大为切比雪夫距离\n",
    "        \"\"\"\n",
    "        return np.power(np.sum(np.power(np.abs(x),p)),1/p)\n",
    "    \n",
    "    def distance_between_classes(self,g1,g2):\n",
    "        \"\"\"\n",
    "        两个聚类之间的距离即为两类中样本点的最短距离\n",
    "        \"\"\"\n",
    "        # 存储聚类之间样本点的距离\n",
    "        dg = np.array([[self.minkowski_distance(i-j) for j in g2] for i in g1])\n",
    "        min_distance = np.min(dg)\n",
    "        return min_distance\n",
    "    \n",
    "    def compare(self,a,b):\n",
    "        for ai,bi in zip(a,b):\n",
    "            if ai != bi:\n",
    "                return False\n",
    "        return True\n",
    "    \n",
    "    def centre_distance(self,data):\n",
    "        return np.sum(data,axis=0)/len(data)\n",
    "    \n",
    "    def fit(self,data):\n",
    "        self.n_samples,self.n_features = data.shape\n",
    "        # 初始每个即为一个类，每个点即为当前类的中心\n",
    "        m = [[list(data[i])] for i in range(self.n_samples)]\n",
    "        # n个样本两两之间的欧式距离\n",
    "        D = [[self.minkowski_distance(data[i]-data[j]) for j in range(self.n_samples)] for i in range(self.n_samples)]\n",
    "        for i in range(len(D)):\n",
    "            D[i][i] = np.inf\n",
    "        # n个点即n个类\n",
    "        G = {i:[data[i]] for i in range(self.n_samples)}\n",
    "        n = self.n_samples # 类总数\n",
    "        \n",
    "        \n",
    "        while n > self.k:\n",
    "            dg = np.array([[np.inf for j in range(len(G))] for i in range(len(G))])\n",
    "            #　计算两两聚类之间的最短距离-类间距离\n",
    "            for i in range(len(G)):\n",
    "                for j in range(len(G)):\n",
    "                    if i<j:\n",
    "                        dg[i,j]=self.distance_between_classes(G[i],G[j])\n",
    "            \n",
    "            min_distance = np.min(dg)\n",
    "            min_distance_index = np.argwhere(dg == min_distance)\n",
    "            min_distance_index = np.sort(min_distance_index)\n",
    "            \n",
    "            # 将距离最小的类进行合并\n",
    "            for i in range(len(min_distance_index[:self.k])):\n",
    "                if i > 0 and self.compare(min_distance_index[i-1],min_distance_index[i]):\n",
    "                    pass\n",
    "                key0,key1 = min_distance_index[i]\n",
    "                G[key0].extend(G[key1])\n",
    "                G.pop(key1)\n",
    "                n -= 1\n",
    "                if n <= self.k:\n",
    "                    break\n",
    "                    \n",
    "            G = {i:G[list(G.keys())[i]] for i in range(len(G))}\n",
    "        self.m = [self.centre_distance(G[i]) for i in range(self.k)]\n",
    "        \n",
    "        return G\n",
    "            \n",
    "    def plot(self,G):\n",
    "        data = []\n",
    "        y = []\n",
    "        for i in range(len(G)):\n",
    "            for j in range(len(G[i])):\n",
    "                y.append(i)\n",
    "                data.append(G[i][j])\n",
    "        data = np.array(data,dtype=int)\n",
    "        y = np.array(y)\n",
    "        plt.scatter(data[:,0],data[:,1],c=y)\n",
    "    \n",
    "class KMeans:\n",
    "    def __init__(self,k,m=None):\n",
    "        self.k = k\n",
    "        self.G = None\n",
    "        self.m = m\n",
    "        \n",
    "    \n",
    "    def centre_distance(self,data):\n",
    "        return np.sum(data,axis=0)/len(data)\n",
    "    \n",
    "    def mean_distance(self,):\n",
    "        pass\n",
    "    \n",
    "    def loss(self,):\n",
    "        pass\n",
    "    \n",
    "    def minkowski_distance(self,x,p=2):\n",
    "        \"\"\"\n",
    "        params p:\n",
    "            p=1为曼哈顿距离；\n",
    "            p=2为欧式距离\n",
    "            p=无穷大为切比雪夫距离\n",
    "        \"\"\"\n",
    "        return np.power(np.sum(np.power(np.abs(x),p)),1/p)\n",
    "    \n",
    "    def compare(self,a,b):\n",
    "        for ai,bi in zip(a,b):\n",
    "            if ai != bi:\n",
    "                return False\n",
    "        return True\n",
    "    \n",
    "    def fit(self,data):\n",
    "        self.data = np.array(data)\n",
    "        self.n_samples,self.n_features = self.data.shape\n",
    "        \n",
    "        if self.k > self.n_samples:\n",
    "            self.k = self.n_samples-1\n",
    "        \n",
    "        # 初始化类的中心\n",
    "        m = self.m\n",
    "        if m is None:\n",
    "            m = [[data[i]] for i in range(self.k)]\n",
    "#         print(m)\n",
    "        # 类\n",
    "        G = {i:[] for i in range(self.k)}\n",
    "        # 记录上一次的类\n",
    "        OldG = copy.deepcopy(G)\n",
    "        while True:\n",
    "            for i in range(self.n_samples):\n",
    "                 distance = np.zeros(self.k)\n",
    "                 for j in range(self.k):\n",
    "                        # 欧式距离的平方\n",
    "                        distance[j] = self.minkowski_distance(data[i]-m[j])**2\n",
    "                 # 寻找最小距离的索引\n",
    "                 index = np.argmin(distance)\n",
    "                 G[index].append(data[i])\n",
    "            # 重新计算类的中心\n",
    "            m = [self.centre_distance(G[i]) for i in range(self.k)]\n",
    "            if self.compare(G,OldG):\n",
    "                break\n",
    "            # 存储上一次分类分布\n",
    "            OldG = G\n",
    "            # 清空G，进行下一轮的分配\n",
    "            G = {i:[] for i in range(self.k)}\n",
    "        self.G = {i:[(j,[list(i) for i in data].index(list(j))) for j in G[i]] for i in range(self.k)}\n",
    "        self.m = m\n",
    "        return self.G\n",
    "    \n",
    "    def plot(self,G):\n",
    "        data = []\n",
    "        y = []\n",
    "#         print(G)\n",
    "        for i in range(self.k):\n",
    "            for j in range(len(G[i])):\n",
    "                data.append(G[i][j][0])\n",
    "                y.append(i)\n",
    "            \n",
    "        data = np.array(data)\n",
    "        y = np.array(y)\n",
    "        plt.scatter(data[:,0],data[:,1],c=y)\n",
    "\n",
    "data = np.array([\n",
    "    [0,0,0,1,0],\n",
    "    [0,0,0,0,1],\n",
    "    [0,0,0,0,1],\n",
    "    [1,0,1,0,0],\n",
    "    [1,0,0,0,0],\n",
    "    [0,1,0,0,0],\n",
    "    [1,0,1,1,0],\n",
    "    [0,1,1,0,0],\n",
    "    [0,0,1,1,1],\n",
    "    [0,1,1,0,0]\n",
    "])\n",
    "\n",
    "data = data.T\n",
    "k=2\n",
    "\n",
    "hiera = Hierarchical(k=k)\n",
    "hiera.fit(data)\n",
    "\n",
    "kmeans = KMeans(k,hiera.m)\n",
    "G = kmeans.fit(data)\n",
    "G # 结果和书上一样"
   ]
  },
  {
   "cell_type": "code",
   "execution_count": null,
   "metadata": {},
   "outputs": [],
   "source": []
  }
 ],
 "metadata": {
  "kernelspec": {
   "display_name": "Python 3",
   "language": "python",
   "name": "python3"
  },
  "language_info": {
   "codemirror_mode": {
    "name": "ipython",
    "version": 3
   },
   "file_extension": ".py",
   "mimetype": "text/x-python",
   "name": "python",
   "nbconvert_exporter": "python",
   "pygments_lexer": "ipython3",
   "version": "3.7.6"
  },
  "toc": {
   "base_numbering": 1,
   "nav_menu": {},
   "number_sections": true,
   "sideBar": true,
   "skip_h1_title": false,
   "title_cell": "Table of Contents",
   "title_sidebar": "Contents",
   "toc_cell": false,
   "toc_position": {
    "height": "calc(100% - 180px)",
    "left": "10px",
    "top": "150px",
    "width": "215.2px"
   },
   "toc_section_display": true,
   "toc_window_display": true
  }
 },
 "nbformat": 4,
 "nbformat_minor": 4
}
