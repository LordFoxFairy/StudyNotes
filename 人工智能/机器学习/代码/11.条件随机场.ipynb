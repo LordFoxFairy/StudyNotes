{
 "cells": [
  {
   "cell_type": "markdown",
   "metadata": {},
   "source": [
    "# 条件随机场\n",
    "\n",
    "条件随机场是给定一组输入随机变量条件下另一组输出随机变量的条件概率分布模型，其特点是假设输出随机变量构成马尔可夫随机场。\n",
    "\n",
    "## 概率无向图模型\n",
    "\n",
    "概率无向图模型，又称为马尔可夫随机场，是一个可以由无向图表示的联合概率分布。\n",
    "\n",
    "### 模型定义\n",
    "图G(V,E)是由结点v及连接结点的边e组成的集合。\n",
    "\n",
    "概率图模型是由图表示的概率分布。\n",
    "\n",
    "成对马尔可夫性：指给定随机变量组$Y_O$的条件下随机变量$Y_u$和$Y_v$是条件独立的。\n",
    "\n",
    "局部马尔可夫性：指在给定随机变量组$Y_W$的条件下随机变量$Y_u$与随机变量组$Y_O$是独立的。\n",
    "\n",
    "全局马尔可夫性：给定随机变量组$Y_C$条件下随机变量组$Y_A$和$Y_B$是条件独立的。\n",
    "\n",
    "**概率无向图模型**：设有联合概率分布P(Y)，由无向图G=(V,E)表示，在图G中，结点表示随机变量，边表示随机变量之间的依赖关系。如果联合概率分布P(Y)满足成对、局部或全局马尔可夫性，就称此联合分布为概率无向图模型或者马尔可夫模型。"
   ]
  },
  {
   "cell_type": "code",
   "execution_count": null,
   "metadata": {},
   "outputs": [],
   "source": []
  }
 ],
 "metadata": {
  "kernelspec": {
   "display_name": "Python 3",
   "language": "python",
   "name": "python3"
  },
  "language_info": {
   "codemirror_mode": {
    "name": "ipython",
    "version": 3
   },
   "file_extension": ".py",
   "mimetype": "text/x-python",
   "name": "python",
   "nbconvert_exporter": "python",
   "pygments_lexer": "ipython3",
   "version": "3.7.6"
  },
  "toc": {
   "base_numbering": 1,
   "nav_menu": {},
   "number_sections": true,
   "sideBar": true,
   "skip_h1_title": false,
   "title_cell": "Table of Contents",
   "title_sidebar": "Contents",
   "toc_cell": false,
   "toc_position": {},
   "toc_section_display": true,
   "toc_window_display": false
  }
 },
 "nbformat": 4,
 "nbformat_minor": 4
}
