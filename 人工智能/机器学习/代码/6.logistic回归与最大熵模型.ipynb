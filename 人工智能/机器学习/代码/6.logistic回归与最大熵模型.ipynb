{
 "cells": [
  {
   "cell_type": "markdown",
   "metadata": {},
   "source": [
    "# 手动实现代码"
   ]
  },
  {
   "cell_type": "code",
   "execution_count": 1,
   "metadata": {
    "ExecuteTime": {
     "end_time": "2020-11-29T10:43:12.338480Z",
     "start_time": "2020-11-29T10:43:11.995904Z"
    }
   },
   "outputs": [
    {
     "data": {
      "text/plain": [
       "array([ 0.    , -0.0001,  0.0001])"
      ]
     },
     "execution_count": 1,
     "metadata": {},
     "output_type": "execute_result"
    }
   ],
   "source": [
    "import numpy as np\n",
    "import matplotlib.pyplot as plt\n",
    "\n",
    "np.set_printoptions(suppress=True, threshold=np.inf,precision=4)\n",
    "\n",
    "def sigmoid(z):\n",
    "    return 1/(1+np.exp(-z))\n",
    "\n",
    "\n",
    "X = np.array([\n",
    "    [80,150],\n",
    "    [60,110],\n",
    "    [35,130],\n",
    "    [160,50],\n",
    "    [160,20],\n",
    "    [120,30]\n",
    "])\n",
    "y = np.array([0,0,0,1,1,1])\n",
    "\n",
    "y = y.reshape(-1,1)\n",
    "\n",
    "X = np.c_[np.ones(X.shape[0]),X]\n",
    "\n",
    "Xy = np.c_[X,y]\n",
    "\n",
    "m,n = X.shape\n",
    "theta = np.zeros((n,1)).reshape(1,-1) # 1x3\n",
    "epochs = 1\n",
    "eta = 0.000001\n",
    "tol=1e-2\n",
    "\n",
    "\n",
    "\n",
    "\n",
    "for _ in range(epochs):\n",
    "    \n",
    "    np.random.shuffle(Xy)\n",
    "    \n",
    "    X = Xy[:,:-1]              # mxn\n",
    "    Y = Xy[:,-1].reshape(-1,1)               # nx1\n",
    "    \n",
    "    z = np.dot(X,theta.T)\n",
    "    \n",
    "    grad = np.sum(X*(Y-sigmoid(z)),axis=0)\n",
    "\n",
    "    \n",
    "    if (np.abs(grad) <= tol ).all():\n",
    "        break\n",
    "    else:\n",
    "        theta = theta - eta * grad\n",
    "\n",
    "theta = theta.flatten()\n",
    "theta"
   ]
  },
  {
   "cell_type": "code",
   "execution_count": 2,
   "metadata": {
    "ExecuteTime": {
     "end_time": "2020-11-29T10:43:12.349002Z",
     "start_time": "2020-11-29T10:43:12.341408Z"
    }
   },
   "outputs": [
    {
     "name": "stdout",
     "output_type": "stream",
     "text": [
      "Y=1的概率被估计为：50.20%\n"
     ]
    },
    {
     "data": {
      "text/plain": [
       "array([1., 0., 1., 0., 0., 1.])"
      ]
     },
     "execution_count": 2,
     "metadata": {},
     "output_type": "execute_result"
    }
   ],
   "source": [
    "p = sigmoid(np.dot(X, theta.T))\n",
    "print(\"Y=1的概率被估计为：{:.2%}\".format(p[0]))  # 调用score时，注释掉\n",
    "p[np.where(p > 0.5)] = 1\n",
    "p[np.where(p < 0.5)] = 0\n",
    "p"
   ]
  },
  {
   "cell_type": "code",
   "execution_count": 3,
   "metadata": {
    "ExecuteTime": {
     "end_time": "2020-11-29T10:43:12.474906Z",
     "start_time": "2020-11-29T10:43:12.349978Z"
    }
   },
   "outputs": [
    {
     "data": {
      "image/png": "[encoded data removed]",
      "text/plain": [
       "<Figure size 432x288 with 1 Axes>"
      ]
     },
     "metadata": {
      "needs_background": "light"
     },
     "output_type": "display_data"
    }
   ],
   "source": [
    "# y_pred = np.dot(X, theta.T)\n",
    "# x = np.linspace(np.min(X[:,1]),np.max(X[:,1]),len(y_pred))\n",
    "# plt.scatter(X[:,1],X[:,2],c=y.flatten())\n",
    "# plt.plot(x,y_pred)\n",
    "\n",
    "w1 = theta[1]\n",
    "w2 = theta[2]\n",
    "bias = theta[0]\n",
    "x1 = np.arange(np.min(X), np.max(X), 0.1)\n",
    "x2 = -w1 / w2 * x1 - bias / w2\n",
    "plt.scatter(X[:, 1], X[:, 2], c=y.flatten(), s=50)\n",
    "plt.plot(x1, x2, 'r')\n",
    "plt.show()\n"
   ]
  },
  {
   "cell_type": "markdown",
   "metadata": {},
   "source": [
    "# 线性回归"
   ]
  },
  {
   "cell_type": "code",
   "execution_count": 4,
   "metadata": {
    "ExecuteTime": {
     "end_time": "2020-11-29T10:43:12.482714Z",
     "start_time": "2020-11-29T10:43:12.475882Z"
    }
   },
   "outputs": [
    {
     "data": {
      "text/plain": [
       "((20, 1), (20,))"
      ]
     },
     "execution_count": 4,
     "metadata": {},
     "output_type": "execute_result"
    }
   ],
   "source": [
    "# 训练数据\n",
    "\n",
    "data = np.array([\n",
    "    [23,551],\n",
    "    [216,539],\n",
    "    [148,413],\n",
    "    [35,310],\n",
    "    [85,308],\n",
    "    [204,519],\n",
    "    [49,325],\n",
    "    [25,332],\n",
    "    [173,498],\n",
    "    [191,498],\n",
    "    [134,392],\n",
    "    [99,334],\n",
    "    [117,385],\n",
    "    [112,387],\n",
    "    [162,425],\n",
    "    [272,659],\n",
    "    [159,400],\n",
    "    [159,427],\n",
    "    [59,319],\n",
    "    [198,522]\n",
    "])\n",
    "X,y = data[:,:-1],data[:,-1]\n",
    "X.shape,y.shape"
   ]
  },
  {
   "cell_type": "code",
   "execution_count": 5,
   "metadata": {
    "ExecuteTime": {
     "end_time": "2020-11-29T10:43:12.580314Z",
     "start_time": "2020-11-29T10:43:12.483689Z"
    }
   },
   "outputs": [
    {
     "data": {
      "text/plain": [
       "<matplotlib.collections.PathCollection at 0x21faa1b6e88>"
      ]
     },
     "execution_count": 5,
     "metadata": {},
     "output_type": "execute_result"
    },
    {
     "data": {
      "image/png": "[encoded data removed]",
      "text/plain": [
       "<Figure size 432x288 with 1 Axes>"
      ]
     },
     "metadata": {
      "needs_background": "light"
     },
     "output_type": "display_data"
    }
   ],
   "source": [
    "plt.scatter(X,y,c='r')"
   ]
  },
  {
   "cell_type": "markdown",
   "metadata": {},
   "source": [
    "$$f_\\theta(x)=\\theta_0+\\theta_1x$$\n",
    "$$E(\\theta)=\\frac{1}{2}\\sum^n_{i=1}(y^{i}-f_\\theta(x^{(i)}))^2$$"
   ]
  },
  {
   "cell_type": "code",
   "execution_count": 6,
   "metadata": {
    "ExecuteTime": {
     "end_time": "2020-11-29T10:43:12.586170Z",
     "start_time": "2020-11-29T10:43:12.581290Z"
    }
   },
   "outputs": [
    {
     "data": {
      "text/plain": [
       "(0.2687603726634049, 0.24816621041686437)"
      ]
     },
     "execution_count": 6,
     "metadata": {},
     "output_type": "execute_result"
    }
   ],
   "source": [
    "# 参数初始化\n",
    "theta0 = np.random.rand()\n",
    "theta1 = np.random.rand()\n",
    "\n",
    "theta0,theta1"
   ]
  },
  {
   "cell_type": "code",
   "execution_count": 7,
   "metadata": {
    "ExecuteTime": {
     "end_time": "2020-11-29T10:43:12.591050Z",
     "start_time": "2020-11-29T10:43:12.587146Z"
    }
   },
   "outputs": [],
   "source": [
    "# 预测函数\n",
    "def f(x,t0,t1):\n",
    "    return t0+t1*x\n",
    "\n",
    "# 目标函数\n",
    "def E(x,y,theta0,theta1):\n",
    "    return 0.5*np.sum((y-f(x,theta0,theta1))**2)"
   ]
  },
  {
   "cell_type": "code",
   "execution_count": 8,
   "metadata": {
    "ExecuteTime": {
     "end_time": "2020-11-29T10:43:12.598858Z",
     "start_time": "2020-11-29T10:43:12.593002Z"
    }
   },
   "outputs": [
    {
     "data": {
      "text/plain": [
       "array([[-1.5852],\n",
       "       [ 1.2476],\n",
       "       [ 0.2495],\n",
       "       [-1.4091],\n",
       "       [-0.6752],\n",
       "       [ 1.0715],\n",
       "       [-1.2036],\n",
       "       [-1.5558],\n",
       "       [ 0.6165],\n",
       "       [ 0.8807],\n",
       "       [ 0.044 ],\n",
       "       [-0.4697],\n",
       "       [-0.2055],\n",
       "       [-0.2789],\n",
       "       [ 0.455 ],\n",
       "       [ 2.0695],\n",
       "       [ 0.411 ],\n",
       "       [ 0.411 ],\n",
       "       [-1.0568],\n",
       "       [ 0.9834]])"
      ]
     },
     "execution_count": 8,
     "metadata": {},
     "output_type": "execute_result"
    }
   ],
   "source": [
    "# 标准化 / z-score 规范化\n",
    "def standardize(x):\n",
    "    mu = x.mean()\n",
    "    sigma = x.std()\n",
    "    return (x-mu)/sigma\n",
    "\n",
    "z = standardize(X)\n",
    "z"
   ]
  },
  {
   "cell_type": "code",
   "execution_count": 9,
   "metadata": {
    "ExecuteTime": {
     "end_time": "2020-11-29T10:43:12.706218Z",
     "start_time": "2020-11-29T10:43:12.600811Z"
    }
   },
   "outputs": [
    {
     "data": {
      "text/plain": [
       "<matplotlib.collections.PathCollection at 0x21faca82d48>"
      ]
     },
     "execution_count": 9,
     "metadata": {},
     "output_type": "execute_result"
    },
    {
     "data": {
      "image/png": "[encoded data removed]",
      "text/plain": [
       "<Figure size 432x288 with 1 Axes>"
      ]
     },
     "metadata": {
      "needs_background": "light"
     },
     "output_type": "display_data"
    }
   ],
   "source": [
    "plt.scatter(z,y)"
   ]
  },
  {
   "cell_type": "markdown",
   "metadata": {},
   "source": [
    "* 参数更新公式\n",
    "\n",
    "$$\n",
    "\\theta_0:=\\theta_0 - \\eta\\sum^n_{i=1}(f_\\theta(x^{(i)}-y^{(i)}) \\\\\n",
    "\\theta_1:=\\theta_1 - \\eta\\sum^n_{i=1}(f_\\theta(x^{(i)}-y^{(i)}) x^{(i)}\n",
    "\\\\\n",
    "记 W = [\\theta_0,\\theta_1].T，X = [1,x].T\n",
    "$$"
   ]
  },
  {
   "cell_type": "code",
   "execution_count": 10,
   "metadata": {
    "ExecuteTime": {
     "end_time": "2020-11-29T10:43:12.874090Z",
     "start_time": "2020-11-29T10:43:12.707194Z"
    }
   },
   "outputs": [
    {
     "name": "stdout",
     "output_type": "stream",
     "text": [
      "第1次：theta0=9.0720046407,theta1=1.8506978592，差值=73979.6935228142\n",
      "第2次：theta0=17.4335645478,theta1=3.2116134818，差值=71050.0976593108\n",
      "第3次：theta0=25.6278932569,theta1=4.5453107920，差值=68236.5137920028\n",
      "第4次：theta0=33.6583353918,theta1=5.8523341560，差值=65534.3478458389\n",
      "第5次：theta0=41.5281686839,theta1=7.1332170527，差值=62939.1876711433\n",
      "第6次：theta0=49.2406053102,theta1=8.3884822915，差值=60446.7958393670\n",
      "第7次：theta0=56.7987932040,theta1=9.6186422255，差值=58053.1027241275\n",
      "第8次：theta0=64.2058173400,theta1=10.8241989608，差值=55754.1998562522\n",
      "第9次：theta0=71.4647009932,theta1=12.0056445615，差值=53546.3335419444\n",
      "第10次：theta0=78.5784069733,theta1=13.1634612501，差值=51425.8987336839\n",
      "第11次：theta0=85.5498388338,theta1=14.2981216049，差值=49389.4331438292\n",
      "第12次：theta0=92.3818420571,theta1=15.4100887526，差值=47433.6115913342\n",
      "第13次：theta0=99.0772052160,theta1=16.4998165574，差值=45555.2405723170\n",
      "第14次：theta0=105.6386611117,theta1=17.5677498061，差值=43751.2530456535\n",
      "第15次：theta0=112.0688878895,theta1=18.6143243898，差值=42018.7034250456\n",
      "第16次：theta0=118.3705101317,theta1=19.6399674819，差值=40354.7627694139\n",
      "第17次：theta0=124.5460999290,theta1=20.6450977120，差值=38756.7141637448\n",
      "第18次：theta0=130.5981779304,theta1=21.6301253376，差值=37221.9482828607\n",
      "第19次：theta0=136.5292143718,theta1=22.5954524107，差值=35747.9591308595\n",
      "第20次：theta0=142.3416300844,theta1=23.5414729423，差值=34332.3399492773\n",
      "第21次：theta0=148.0377974827,theta1=24.4685730633，差值=32972.7792872860\n",
      "第22次：theta0=153.6200415331,theta1=25.3771311819，差值=31667.0572275093\n",
      "第23次：theta0=159.0906407024,theta1=26.2675181381，差值=30413.0417613001\n",
      "第24次：theta0=164.4518278884,theta1=27.1400973552，差值=29208.6853075526\n",
      "第25次：theta0=169.7057913306,theta1=27.9952249879，差值=28052.0213693735\n",
      "第26次：theta0=174.8546755040,theta1=28.8332500680，差值=26941.1613231463\n",
      "第27次：theta0=179.9005819939,theta1=29.6545146464，差值=25874.2913347494\n",
      "第28次：theta0=184.8455703540,theta1=30.4593539333，差值=24849.6693978939\n",
      "第29次：theta0=189.6916589469,theta1=31.2480964345，差值=23865.6224897366\n",
      "第30次：theta0=194.4408257680,theta1=32.0210640857，差值=22920.5438391436\n",
      "第31次：theta0=199.0950092526,theta1=32.7785723838，差值=22012.8903031135\n",
      "第32次：theta0=203.6561090676,theta1=33.5209305159，差值=21141.1798471101\n",
      "第33次：theta0=208.1259868862,theta1=34.2484414854，差值=20303.9891251645\n",
      "第34次：theta0=212.5064671485,theta1=34.9614022356，差值=19499.9511558080\n",
      "第35次：theta0=216.7993378055,theta1=35.6601037707，差值=18727.7530900381\n",
      "第36次：theta0=221.0063510494,theta1=36.3448312751，差值=17986.1340676725\n",
      "第37次：theta0=225.1292240284,theta1=37.0158642294，差值=17273.8831585926\n",
      "第38次：theta0=229.1696395479,theta1=37.6734765247，差值=16589.8373855125\n",
      "第39次：theta0=233.1292467569,theta1=38.3179365740，差值=15932.8798250461\n",
      "第40次：theta0=237.0096618218,theta1=38.9495074224，差值=15301.9377839743\n",
      "第41次：theta0=240.8124685853,theta1=39.5684468538，差值=14695.9810477289\n",
      "第42次：theta0=244.5392192136,theta1=40.1750074965，差值=14114.0201982388\n",
      "第43次：theta0=248.1914348294,theta1=40.7694369264，差值=13555.1049983886\n",
      "第44次：theta0=251.7706061328,theta1=41.3519777677，差值=13018.3228404523\n",
      "第45次：theta0=255.2781940101,theta1=41.9228677922，差值=12502.7972559705\n",
      "第46次：theta0=258.7156301299,theta1=42.4823400162，差值=12007.6864846339\n",
      "第47次：theta0=262.0843175273,theta1=43.0306227957，差值=11532.1820998426\n",
      "第48次：theta0=265.3856311768,theta1=43.5679399196，差值=11075.5076886886\n",
      "第49次：theta0=268.6209185532,theta1=44.0945107011，差值=10636.9175842167\n",
      "第50次：theta0=271.7915001822,theta1=44.6105500669，差值=10215.6956478817\n",
      "第51次：theta0=274.8986701785,theta1=45.1162686454，差值=9811.1541002256\n",
      "第52次：theta0=277.9436967750,theta1=45.6118728523，差值=9422.6323978567\n",
      "第53次：theta0=280.9278228395,theta1=46.0975649751，差值=9049.4961549016\n",
      "第54次：theta0=283.8522663827,theta1=46.5735432554，差值=8691.1361071675\n",
      "第55次：theta0=286.7182210550,theta1=47.0400019701，差值=8346.9671173236\n",
      "第56次：theta0=289.5268566339,theta1=47.4971315106，差值=8016.4272194776\n",
      "第57次：theta0=292.2793195012,theta1=47.9451184602，差值=7698.9767015863\n",
      "第58次：theta0=294.9767331112,theta1=48.3841456708，差值=7394.0972242035\n",
      "第59次：theta0=297.6201984490,theta1=48.8143923372，差值=7101.2909741251\n",
      "第60次：theta0=300.2107944800,theta1=49.2360340703，差值=6820.0798515497\n",
      "第61次：theta0=302.7495785904,theta1=49.6492429688，差值=6550.0046894283\n",
      "第62次：theta0=305.2375870186,theta1=50.0541876892，差值=6290.6245037270\n",
      "第63次：theta0=307.6758352782,theta1=50.4510335153，差值=6041.5157733793\n",
      "第64次：theta0=310.0653185727,theta1=50.8399424248，差值=5802.2717487535\n",
      "第65次：theta0=312.4070122012,theta1=51.2210731561，差值=5572.5017875028\n",
      "第66次：theta0=314.7018719572,theta1=51.5945812728，差值=5351.8307167178\n",
      "第67次：theta0=316.9508345180,theta1=51.9606192272，差值=5139.8982203358\n",
      "第68次：theta0=319.1548178277,theta1=52.3193364225，差值=4936.3582508104\n",
      "第69次：theta0=321.3147214711,theta1=52.6708792739，差值=4740.8784640784\n",
      "第70次：theta0=323.4314270417,theta1=53.0153912682，差值=4553.1396769009\n",
      "第71次：theta0=325.5057985009,theta1=53.3530130227，差值=4372.8353456956\n",
      "第72次：theta0=327.5386825309,theta1=53.6838823421，差值=4199.6710660060\n",
      "第73次：theta0=329.5309088802,theta1=54.0081342751，差值=4033.3640917922\n",
      "第74次：theta0=331.4832907026,theta1=54.3259011694，差值=3873.6428737572\n",
      "第75次：theta0=333.3966248886,theta1=54.6373127259，差值=3720.2466159565\n",
      "第76次：theta0=335.2716923908,theta1=54.9424960512，差值=3572.9248499645\n",
      "第77次：theta0=337.1092585430,theta1=55.2415757100，差值=3431.4370259060\n",
      "第78次：theta0=338.9100733721,theta1=55.5346737756，差值=3295.5521196801\n",
      "第79次：theta0=340.6748719047,theta1=55.8219098799，差值=3165.0482557407\n",
      "第80次：theta0=342.4043744666,theta1=56.1034012622，差值=3039.7123448134\n",
      "第81次：theta0=344.0992869773,theta1=56.3792628168，差值=2919.3397359588\n",
      "第82次：theta0=345.7603012377,theta1=56.6496071403，差值=2803.7338824148\n",
      "第83次：theta0=347.3880952130,theta1=56.9145445773，差值=2692.7060206712\n",
      "第84次：theta0=348.9833333087,theta1=57.1741832656，差值=2586.0748622526\n",
      "第85次：theta0=350.5466666425,theta1=57.4286291801，差值=2483.6662977074\n",
      "第86次：theta0=352.0787333097,theta1=57.6779861763，差值=2385.3131123182\n",
      "第87次：theta0=353.5801586435,theta1=57.9223560326，差值=2290.8547130704\n",
      "第88次：theta0=355.0515554706,theta1=58.1618384918，差值=2200.1368664329\n",
      "第89次：theta0=356.4935243612,theta1=58.3965313018，差值=2113.0114465221\n",
      "第90次：theta0=357.9066538740,theta1=58.6265302556，差值=2029.3361932398\n",
      "第91次：theta0=359.2915207965,theta1=58.8519292303，差值=1948.9744799875\n",
      "第92次：theta0=360.6486903806,theta1=59.0728202256，差值=1871.7950905800\n",
      "第93次：theta0=361.9787165730,theta1=59.2892934009，差值=1797.6720049931\n",
      "第94次：theta0=363.2821422415,theta1=59.5014371127，差值=1726.4841935953\n",
      "第95次：theta0=364.5594993967,theta1=59.7093379503，差值=1658.1154195289\n",
      "第96次：theta0=365.8113094087,theta1=59.9130807711，差值=1592.4540489156\n",
      "第97次：theta0=367.0380832206,theta1=60.1127487355，差值=1529.3928685786\n",
      "第98次：theta0=368.2403215561,theta1=60.3084233406，差值=1468.8289109828\n",
      "第99次：theta0=369.4185151250,theta1=60.5001844537，差值=1410.6632861079\n",
      "第100次：theta0=370.5731448225,theta1=60.6881103444，差值=1354.8010199780\n",
      "第101次：theta0=371.7046819261,theta1=60.8722777174，差值=1301.1508995869\n",
      "第102次：theta0=372.8135882876,theta1=61.0527617428，差值=1249.6253239633\n",
      "第103次：theta0=373.9003165218,theta1=61.2296360878，差值=1200.1401611343\n",
      "第104次：theta0=374.9653101914,theta1=61.4029729459，差值=1152.6146107534\n",
      "第105次：theta0=376.0090039875,theta1=61.5728430668，差值=1106.9710721676\n",
      "第106次：theta0=377.0318239078,theta1=61.7393157853，差值=1063.1350177098\n",
      "第107次：theta0=378.0341874296,theta1=61.9024590494，差值=1021.0348710084\n",
      "第108次：theta0=379.0165036810,theta1=62.0623394483，差值=980.6018901165\n",
      "第109次：theta0=379.9791736074,theta1=62.2190222392，差值=941.7700552679\n",
      "第110次：theta0=380.9225901353,theta1=62.3725713742，差值=904.4759610793\n",
      "第111次：theta0=381.8471383326,theta1=62.5230495266，差值=868.6587130206\n",
      "第112次：theta0=382.7531955659,theta1=62.6705181159，差值=834.2598279849\n",
      "第113次：theta0=383.6411316546,theta1=62.8150373334，差值=801.2231387967\n",
      "第114次：theta0=384.5113090215,theta1=62.9566661665，差值=769.4947025004\n",
      "第115次：theta0=385.3640828411,theta1=63.0954624230，差值=739.0227122813\n",
      "第116次：theta0=386.1998011843,theta1=63.2314827544，差值=709.7574128750\n",
      "第117次：theta0=387.0188051606,theta1=63.3647826792，差值=681.6510193252\n",
      "第118次：theta0=387.8214290574,theta1=63.4954166054，差值=654.6576389599\n",
      "第119次：theta0=388.6080004762,theta1=63.6234378531，差值=628.7331964571\n",
      "第120次：theta0=389.3788404667,theta1=63.7488986759，差值=603.8353618774\n",
      "第121次：theta0=390.1342636574,theta1=63.8718502822，差值=579.9234815470\n",
      "第122次：theta0=390.8745783842,theta1=63.9923428564，差值=556.9585116778\n",
      "第123次：theta0=391.6000868165,theta1=64.1104255791，差值=534.9029546153\n",
      "第124次：theta0=392.3110850802,theta1=64.2261466474，差值=513.7207976126\n",
      "第125次：theta0=393.0078633786,theta1=64.3395532942，差值=493.3774540271\n",
      "第126次：theta0=393.6907061110,theta1=64.4506918082，差值=473.8397068477\n",
      "第127次：theta0=394.3598919888,theta1=64.5596075519，差值=455.0756544565\n",
      "第128次：theta0=395.0156941490,theta1=64.6663449807，差值=437.0546585400\n",
      "第129次：theta0=395.6583802660,theta1=64.7709476609，差值=419.7472940618\n",
      "第130次：theta0=396.2882126607,theta1=64.8734582875，差值=403.1253012169\n",
      "第131次：theta0=396.9054484075,theta1=64.9739187016，差值=387.1615392887\n",
      "第132次：theta0=397.5103394394,theta1=65.0723699074，差值=371.8299423329\n",
      "第133次：theta0=398.1031326506,theta1=65.1688520891，差值=357.1054766165\n",
      "第134次：theta0=398.6840699976,theta1=65.2634046271，差值=342.9640997425\n",
      "第135次：theta0=399.2533885976,theta1=65.3560661144，差值=329.3827213927\n",
      "第136次：theta0=399.8113208257,theta1=65.4468743720，差值=316.3391656256\n",
      "第137次：theta0=400.3580944091,theta1=65.5358664644，差值=303.8121346668\n",
      "第138次：theta0=400.8939325210,theta1=65.6230787149，差值=291.7811741340\n",
      "第139次：theta0=401.4190538705,theta1=65.7085467204，差值=280.2266396383\n",
      "第140次：theta0=401.9336727931,theta1=65.7923053659，差值=269.1296647086\n",
      "第141次：theta0=402.4379993373,theta1=65.8743888384，差值=258.4721299862\n",
      "第142次：theta0=402.9322393505,theta1=65.9548306414，差值=248.2366336387\n",
      "第143次：theta0=403.4165945635,theta1=66.0336636084，差值=238.4064629466\n",
      "第144次：theta0=403.8912626722,theta1=66.1109199161，差值=228.9655670139\n",
      "第145次：theta0=404.3564374188,theta1=66.1866310976，差值=219.8985305602\n",
      "第146次：theta0=404.8123086704,theta1=66.2608280555，差值=211.1905487500\n",
      "第147次：theta0=405.2590624970,theta1=66.3335410742，差值=202.8274030195\n",
      "第148次：theta0=405.6968812471,theta1=66.4047998326，差值=194.7954378599\n",
      "第149次：theta0=406.1259436221,theta1=66.4746334158，差值=187.0815385207\n",
      "第150次：theta0=406.5464247497,theta1=66.5430703273，差值=179.6731095952\n",
      "第151次：theta0=406.9584962547,theta1=66.6101385006，差值=172.5580544553\n",
      "第152次：theta0=407.3623263296,theta1=66.6758653104，差值=165.7247554988\n",
      "第153次：theta0=407.7580798030,theta1=66.7402775840，差值=159.1620551811\n",
      "第154次：theta0=408.1459182069,theta1=66.8034016122，差值=152.8592377959\n",
      "第155次：theta0=408.5259998428,theta1=66.8652631598，差值=146.8060119792\n",
      "第156次：theta0=408.8984798459,theta1=66.9258874764，差值=140.9924939048\n",
      "第157次：theta0=409.2635102490,theta1=66.9852993067，差值=135.4091911462\n",
      "第158次：theta0=409.6212400441,theta1=67.0435229004，差值=130.0469871768\n",
      "第159次：theta0=409.9718152432,theta1=67.1005820222，差值=124.8971264846\n",
      "第160次：theta0=410.3153789383,theta1=67.1564999616，差值=119.9512002758\n",
      "第161次：theta0=410.6520713595,theta1=67.2112995422，差值=115.2011327449\n",
      "第162次：theta0=410.9820299323,theta1=67.2650031312，差值=110.6391678882\n",
      "第163次：theta0=411.3053893337,theta1=67.3176326484，差值=106.2578568398\n",
      "第164次：theta0=411.6222815470,theta1=67.3692095753，差值=102.0500457089\n",
      "第165次：theta0=411.9328359161,theta1=67.4197549636，差值=98.0088638989\n",
      "第166次：theta0=412.2371791978,theta1=67.4692894442，差值=94.1277128885\n",
      "第167次：theta0=412.5354356138,theta1=67.5178332351，差值=90.4002554581\n",
      "第168次：theta0=412.8277269015,theta1=67.5654061502，差值=86.8204053420\n",
      "第169次：theta0=413.1141723635,theta1=67.6120276071，差值=83.3823172904\n",
      "第170次：theta0=413.3948889162,theta1=67.6577166348，差值=80.0803775257\n",
      "第171次：theta0=413.6699911379,theta1=67.7024918819，差值=76.9091945757\n",
      "第172次：theta0=413.9395913152,theta1=67.7463716241，差值=73.8635904705\n",
      "第173次：theta0=414.2037994888,theta1=67.7893737714，差值=70.9385922879\n",
      "第174次：theta0=414.4627234991,theta1=67.8315158759，差值=68.1294240333\n",
      "第175次：theta0=414.7164690291,theta1=67.8728151382，差值=65.4314988415\n",
      "第176次：theta0=414.9651396485,theta1=67.9132884152，差值=62.8404114874\n",
      "第177次：theta0=415.2088368555,theta1=67.9529522268，差值=60.3519311926\n",
      "第178次：theta0=415.4476601184,theta1=67.9918227621，差值=57.9619947173\n",
      "第179次：theta0=415.6817069161,theta1=68.0299158867，差值=55.6666997265\n",
      "第180次：theta0=415.9110727777,theta1=68.0672471488，差值=53.4622984173\n",
      "第181次：theta0=416.1358513222,theta1=68.1038317856，差值=51.3451914000\n",
      "第182次：theta0=416.3561342957,theta1=68.1396847297，差值=49.3119218206\n",
      "第183次：theta0=416.5720116098,theta1=68.1748206150，差值=47.3591697165\n",
      "第184次：theta0=416.7835713776,theta1=68.2092537825，差值=45.4837465957\n",
      "第185次：theta0=416.9908999501,theta1=68.2429982867，差值=43.6825902305\n",
      "第186次：theta0=417.1940819511,theta1=68.2760679008，差值=41.9527596574\n",
      "第187次：theta0=417.3932003121,theta1=68.3084761226，差值=40.2914303749\n",
      "第188次：theta0=417.5883363058,theta1=68.3402361800，差值=38.6958897321\n",
      "第189次：theta0=417.7795695797,theta1=68.3713610362，差值=37.1635324987\n",
      "第190次：theta0=417.9669781881,theta1=68.4018633953，差值=35.6918566117\n",
      "第191次：theta0=418.1506386243,theta1=68.4317557073，差值=34.2784590899\n",
      "第192次：theta0=418.3306258519,theta1=68.4610501729，差值=32.9210321100\n",
      "第193次：theta0=418.5070133348,theta1=68.4897587493，差值=31.6173592384\n",
      "第194次：theta0=418.6798730681,theta1=68.5178931542，差值=30.3653118126\n",
      "第195次：theta0=418.8492756068,theta1=68.5454648709，差值=29.1628454648\n",
      "第196次：theta0=419.0152900946,theta1=68.5724851533，差值=28.0079967844\n",
      "第197次：theta0=419.1779842927,theta1=68.5989650301，差值=26.8988801117\n",
      "第198次：theta0=419.3374246069,theta1=68.6249153093，差值=25.8336844593\n",
      "第199次：theta0=419.4936761147,theta1=68.6503465830，差值=24.8106705547\n",
      "第200次：theta0=419.6468025924,theta1=68.6752692311，差值=23.8281680008\n",
      "第201次：theta0=419.7968665406,theta1=68.6996934264，差值=22.8845725479\n",
      "第202次：theta0=419.9439292098,theta1=68.7236291377，差值=21.9783434750\n",
      "第203次：theta0=420.0880506256,theta1=68.7470861347，差值=21.1080010734\n",
      "第204次：theta0=420.2292896131,theta1=68.7700739919，差值=20.2721242309\n",
      "第205次：theta0=420.3677038208,theta1=68.7926020919，差值=19.4693481114\n",
      "第206次：theta0=420.5033497444,theta1=68.8146796299，差值=18.6983619261\n",
      "第207次：theta0=420.6362827495,theta1=68.8363156171，差值=17.9579067939\n",
      "第208次：theta0=420.7665570945,theta1=68.8575188846，差值=17.2467736848\n",
      "第209次：theta0=420.8942259526,theta1=68.8782980867，差值=16.5638014469\n",
      "第210次：theta0=421.0193414336,theta1=68.8986617048，差值=15.9078749096\n",
      "第211次：theta0=421.1419546049,theta1=68.9186180506，差值=15.2779230632\n",
      "第212次：theta0=421.2621155128,theta1=68.9381752694，差值=14.6729173099\n",
      "第213次：theta0=421.3798732025,theta1=68.9573413438，差值=14.0918697844\n",
      "第214次：theta0=421.4952757385,theta1=68.9761240968，差值=13.5338317410\n",
      "第215次：theta0=421.6083702237,theta1=68.9945311947，差值=12.9978920040\n",
      "第216次：theta0=421.7192028193,theta1=69.0125701506，差值=12.4831754807\n",
      "第217次：theta0=421.8278187629,theta1=69.0302483275，差值=11.9888417316\n",
      "第218次：theta0=421.9342623876,theta1=69.0475729407，差值=11.5140835990\n",
      "第219次：theta0=422.0385771399,theta1=69.0645510618，差值=11.0581258885\n",
      "第220次：theta0=422.1408055971,theta1=69.0811896204，差值=10.6202241034\n",
      "第221次：theta0=422.2409894851,theta1=69.0974954078，差值=10.1996632289\n",
      "第222次：theta0=422.3391696954,theta1=69.1134750795，差值=9.7957565650\n",
      "第223次：theta0=422.4353863015,theta1=69.1291351577，差值=9.4078446050\n",
      "第224次：theta0=422.5296785755,theta1=69.1444820344，差值=9.0352939587\n",
      "第225次：theta0=422.6220850040,theta1=69.1595219735，差值=8.6774963179\n",
      "第226次：theta0=422.7126433039,theta1=69.1742611139，差值=8.3338674637\n",
      "第227次：theta0=422.8013904378,theta1=69.1887054714，差值=8.0038463121\n",
      "第228次：theta0=422.8883626291,theta1=69.2028609419，差值=7.6868939982\n",
      "第229次：theta0=422.9735953765,theta1=69.2167333028，差值=7.3824929958\n",
      "第230次：theta0=423.0571234689,theta1=69.2303282166，差值=7.0901462732\n",
      "第231次：theta0=423.1389809996,theta1=69.2436512321，差值=6.8093764808\n",
      "第232次：theta0=423.2192013796,theta1=69.2567077873，差值=6.5397251722\n",
      "第233次：theta0=423.2978173520,theta1=69.2695032114，差值=6.2807520553\n",
      "第234次：theta0=423.3748610049,theta1=69.2820427270，差值=6.0320342740\n",
      "第235次：theta0=423.4503637848,theta1=69.2943314523，差值=5.7931657167\n",
      "第236次：theta0=423.5243565091,theta1=69.3063744031，差值=5.5637563543\n",
      "第237次：theta0=423.5968693790,theta1=69.3181764949，差值=5.3434316027\n",
      "第238次：theta0=423.6679319914,theta1=69.3297425448，差值=5.1318317112\n",
      "第239次：theta0=423.7375733516,theta1=69.3410772737，差值=4.9286111755\n",
      "第240次：theta0=423.8058218845,theta1=69.3521853081，差值=4.7334381729\n",
      "第241次：theta0=423.8727054468,theta1=69.3630711818，差值=4.5459940213\n",
      "第242次：theta0=423.9382513379,theta1=69.3737393380，差值=4.3659726580\n",
      "第243次：theta0=424.0024863111,theta1=69.3841941310，差值=4.1930801408\n",
      "第244次：theta0=424.0654365849,theta1=69.3944398282，差值=4.0270341672\n",
      "第245次：theta0=424.1271278532,theta1=69.4044806115，差值=3.8675636142\n",
      "第246次：theta0=424.1875852962,theta1=69.4143205791，差值=3.7144080951\n",
      "第247次：theta0=424.2468335902,theta1=69.4239637474，差值=3.5673175345\n",
      "第248次：theta0=424.3048969184,theta1=69.4334140523，差值=3.4260517601\n",
      "第249次：theta0=424.3617989801,theta1=69.4426753510，差值=3.2903801104\n",
      "第250次：theta0=424.4175630005,theta1=69.4517514239，差值=3.1600810580\n",
      "第251次：theta0=424.4722117404,theta1=69.4606459752，差值=3.0349418481\n",
      "第252次：theta0=424.5257675056,theta1=69.4693626355，差值=2.9147581510\n",
      "第253次：theta0=424.5782521555,theta1=69.4779049627，差值=2.7993337282\n",
      "第254次：theta0=424.6296871124,theta1=69.4862764432，差值=2.6884801125\n",
      "第255次：theta0=424.6800933702,theta1=69.4944804942，差值=2.5820163001\n",
      "第256次：theta0=424.7294915028,theta1=69.5025204642，差值=2.4797684546\n",
      "第257次：theta0=424.7779016727,theta1=69.5103996347，差值=2.3815696238\n",
      "第258次：theta0=424.8253436393,theta1=69.5181212219，差值=2.2872594667\n",
      "第259次：theta0=424.8718367665,theta1=69.5256883772，差值=2.1966839918\n",
      "第260次：theta0=424.9174000311,theta1=69.5331041895，差值=2.1096953057\n",
      "第261次：theta0=424.9620520305,theta1=69.5403716856，差值=2.0261513716\n",
      "第262次：theta0=425.0058109899,theta1=69.5474938317，差值=1.9459157773\n",
      "第263次：theta0=425.0486947701,theta1=69.5544735349，差值=1.8688575125\n",
      "第264次：theta0=425.0907208747,theta1=69.5613136440，差值=1.7948507550\n",
      "第265次：theta0=425.1319064572,theta1=69.5680169510，差值=1.7237746651\n",
      "第266次：theta0=425.1722683281,theta1=69.5745861918，差值=1.6555131884\n",
      "第267次：theta0=425.2118229615,theta1=69.5810240478，差值=1.5899548661\n",
      "第268次：theta0=425.2505865023,theta1=69.5873331467，差值=1.5269926534\n",
      "第269次：theta0=425.2885747722,theta1=69.5935160636，差值=1.4665237444\n",
      "第270次：theta0=425.3258032768,theta1=69.5995753221，差值=1.4084494041\n",
      "第271次：theta0=425.3622872113,theta1=69.6055133955，差值=1.3526748077\n",
      "第272次：theta0=425.3980414670,theta1=69.6113327074，差值=1.2991088853\n",
      "第273次：theta0=425.4330806377,theta1=69.6170356331，差值=1.2476641734\n",
      "第274次：theta0=425.4674190249,theta1=69.6226245003，差值=1.1982566722\n",
      "第275次：theta0=425.5010706444,theta1=69.6281015901，差值=1.1508057079\n",
      "第276次：theta0=425.5340492315,theta1=69.6334691382，差值=1.1052338019\n",
      "第277次：theta0=425.5663682469,theta1=69.6387293352，差值=1.0614665434\n",
      "第278次：theta0=425.5980408820,theta1=69.6438843284，差值=1.0194324683\n",
      "第279次：theta0=425.6290800643,theta1=69.6489362216，差值=0.9790629425\n",
      "第280次：theta0=425.6594984630,theta1=69.6538870770，差值=0.9402920500\n",
      "第281次：theta0=425.6893084938,theta1=69.6587389153，差值=0.9030564848\n",
      "第282次：theta0=425.7185223239,theta1=69.6634937168，差值=0.8672954480\n",
      "第283次：theta0=425.7471518774,theta1=69.6681534223，差值=0.8329505482\n",
      "第284次：theta0=425.7752088399,theta1=69.6727199337，差值=0.7999657066\n",
      "第285次：theta0=425.8027046631,theta1=69.6771951149，差值=0.7682870646\n",
      "第286次：theta0=425.8296505698,theta1=69.6815807924，差值=0.7378628968\n",
      "第287次：theta0=425.8560575584,theta1=69.6858787564，差值=0.7086435261\n",
      "第288次：theta0=425.8819364073,theta1=69.6900907611，差值=0.6805812425\n",
      "第289次：theta0=425.9072976791,theta1=69.6942185257，差值=0.6536302252\n",
      "第290次：theta0=425.9321517255,theta1=69.6982637350，差值=0.6277464684\n",
      "第291次：theta0=425.9565086910,theta1=69.7022280402，差值=0.6028877082\n",
      "第292次：theta0=425.9803785172,theta1=69.7061130592，差值=0.5790133550\n",
      "第293次：theta0=426.0037709469,theta1=69.7099203779，差值=0.5560844261\n",
      "第294次：theta0=426.0266955279,theta1=69.7136515501，差值=0.5340634828\n",
      "第295次：theta0=426.0491616174,theta1=69.7173080990，差值=0.5129145689\n",
      "第296次：theta0=426.0711783850,theta1=69.7208915168，差值=0.4926031520\n",
      "第297次：theta0=426.0927548173,theta1=69.7244032663，差值=0.4730960672\n",
      "第298次：theta0=426.1138997210,theta1=69.7278447808，差值=0.4543614629\n",
      "第299次：theta0=426.1346217265,theta1=69.7312174650，差值=0.4363687490\n",
      "第300次：theta0=426.1549292920,theta1=69.7345226956，差值=0.4190885465\n",
      "第301次：theta0=426.1748307062,theta1=69.7377618215，差值=0.4024926401\n",
      "第302次：theta0=426.1943340921,theta1=69.7409361649，差值=0.3865539315\n",
      "第303次：theta0=426.2134474102,theta1=69.7440470214，差值=0.3712463958\n",
      "第304次：theta0=426.2321784620,theta1=69.7470956608，差值=0.3565450385\n",
      "第305次：theta0=426.2505348928,theta1=69.7500833275，差值=0.3424258550\n",
      "第306次：theta0=426.2685241949,theta1=69.7530112407，差值=0.3288657912\n",
      "第307次：theta0=426.2861537110,theta1=69.7558805958，差值=0.3158427058\n",
      "第308次：theta0=426.3034306368,theta1=69.7586925637，差值=0.3033353347\n",
      "第309次：theta0=426.3203620241,theta1=69.7614482922，差值=0.2913232554\n",
      "第310次：theta0=426.3369547836,theta1=69.7641489062，差值=0.2797868545\n",
      "第311次：theta0=426.3532156879,theta1=69.7667955079，差值=0.2687072951\n",
      "第312次：theta0=426.3691513741,theta1=69.7693891776，差值=0.2580664862\n",
      "第313次：theta0=426.3847683467,theta1=69.7719309739，差值=0.2478470534\n",
      "第314次：theta0=426.4000729797,theta1=69.7744219342，差值=0.2380323100\n",
      "第315次：theta0=426.4150715201,theta1=69.7768630754，差值=0.2286062306\n",
      "第316次：theta0=426.4297700897,theta1=69.7792553937，差值=0.2195534238\n",
      "第317次：theta0=426.4441746879,theta1=69.7815998657，差值=0.2108591082\n",
      "第318次：theta0=426.4582911942,theta1=69.7838974482，差值=0.2025090875\n",
      "第319次：theta0=426.4721253703,theta1=69.7861490791，差值=0.1944897277\n",
      "第320次：theta0=426.4856828629,theta1=69.7883556773，差值=0.1867879345\n",
      "第321次：theta0=426.4989692056,theta1=69.7905181436，差值=0.1793911323\n",
      "第322次：theta0=426.5119898215,theta1=69.7926373606，差值=0.1722872434\n",
      "第323次：theta0=426.5247500251,theta1=69.7947141932，差值=0.1654646686\n",
      "第324次：theta0=426.5372550246,theta1=69.7967494892，差值=0.1589122677\n",
      "第325次：theta0=426.5495099241,theta1=69.7987440792，差值=0.1526193419\n",
      "第326次：theta0=426.5615197256,theta1=69.8006987775，差值=0.1465756160\n",
      "第327次：theta0=426.5732893311,theta1=69.8026143817，差值=0.1407712216\n",
      "第328次：theta0=426.5848235445,theta1=69.8044916739，差值=0.1351966812\n",
      "第329次：theta0=426.5961270736,theta1=69.8063314203，差值=0.1298428926\n",
      "第330次：theta0=426.6072045321,theta1=69.8081343717，差值=0.1247011141\n",
      "第331次：theta0=426.6180604415,theta1=69.8099012641，差值=0.1197629500\n",
      "第332次：theta0=426.6286992326,theta1=69.8116328187，差值=0.1150203371\n",
      "第333次：theta0=426.6391252480,theta1=69.8133297421，差值=0.1104655318\n",
      "第334次：theta0=426.6493427430,theta1=69.8149927271，差值=0.1060910967\n",
      "第335次：theta0=426.6593558882,theta1=69.8166224524，差值=0.1018898893\n",
      "第336次：theta0=426.6691687704,theta1=69.8182195832，差值=0.0978550497\n",
      "第337次：theta0=426.6787853950,theta1=69.8197847714，差值=0.0939799897\n",
      "第338次：theta0=426.6882096871,theta1=69.8213186558，差值=0.0902583821\n",
      "第339次：theta0=426.6974454934,theta1=69.8228218625，差值=0.0866841502\n",
      "第340次：theta0=426.7064965835,theta1=69.8242950051，差值=0.0832514579\n",
      "第341次：theta0=426.7153666518,theta1=69.8257386848，差值=0.0799547001\n",
      "第342次：theta0=426.7240593188,theta1=69.8271534909，差值=0.0767884940\n",
      "第343次：theta0=426.7325781324,theta1=69.8285400010，差值=0.0737476696\n",
      "第344次：theta0=426.7409265698,theta1=69.8298987808，差值=0.0708272619\n",
      "第345次：theta0=426.7491080384,theta1=69.8312303850，差值=0.0680225023\n",
      "第346次：theta0=426.7571258776,theta1=69.8325353571，差值=0.0653288112\n",
      "第347次：theta0=426.7649833600,theta1=69.8338142298，差值=0.0627417903\n",
      "第348次：theta0=426.7726836928,theta1=69.8350675250，差值=0.0602572154\n",
      "第349次：theta0=426.7802300190,theta1=69.8362957544，差值=0.0578710297\n",
      "第350次：theta0=426.7876254186,theta1=69.8374994191，差值=0.0555793369\n",
      "第351次：theta0=426.7948729102,theta1=69.8386790106，差值=0.0533783952\n",
      "第352次：theta0=426.8019754520,theta1=69.8398350102，差值=0.0512646107\n",
      "第353次：theta0=426.8089359430,theta1=69.8409678898，差值=0.0492345321\n",
      "第354次：theta0=426.8157572241,theta1=69.8420781119，差值=0.0472848447\n",
      "第355次：theta0=426.8224420797,theta1=69.8431661295，差值=0.0454123648\n",
      "第356次：theta0=426.8289932381,theta1=69.8442323867，差值=0.0436140352\n",
      "第357次：theta0=426.8354133733,theta1=69.8452773188，差值=0.0418869194\n",
      "第358次：theta0=426.8417051058,theta1=69.8463013523，差值=0.0402281974\n",
      "第359次：theta0=426.8478710037,theta1=69.8473049050，差值=0.0386351608\n",
      "第360次：theta0=426.8539135836,theta1=69.8482883868，差值=0.0371052084\n",
      "第361次：theta0=426.8598353120,theta1=69.8492521989，差值=0.0356358421\n",
      "第362次：theta0=426.8656386057,theta1=69.8501967347，差值=0.0342246628\n",
      "第363次：theta0=426.8713258336,theta1=69.8511223799，差值=0.0328693661\n",
      "第364次：theta0=426.8768993169,theta1=69.8520295121，差值=0.0315677393\n",
      "第365次：theta0=426.8823613306,theta1=69.8529185017，差值=0.0303176568\n",
      "第366次：theta0=426.8877141040,theta1=69.8537897115，差值=0.0291170775\n",
      "第367次：theta0=426.8929598219,theta1=69.8546434971，差值=0.0279640413\n",
      "第368次：theta0=426.8981006255,theta1=69.8554802070，差值=0.0268566653\n",
      "第369次：theta0=426.9031386130,theta1=69.8563001827，差值=0.0257931413\n",
      "第370次：theta0=426.9080758407,theta1=69.8571037589，差值=0.0247717329\n",
      "第371次：theta0=426.9129143239,theta1=69.8578912635，差值=0.0237907723\n",
      "第372次：theta0=426.9176560374,theta1=69.8586630181，差值=0.0228486577\n",
      "第373次：theta0=426.9223029167,theta1=69.8594193376，差值=0.0219438509\n",
      "第374次：theta0=426.9268568583,theta1=69.8601605306，差值=0.0210748744\n",
      "第375次：theta0=426.9313197212,theta1=69.8608868999，差值=0.0202403093\n",
      "第376次：theta0=426.9356933267,theta1=69.8615987417，差值=0.0194387931\n",
      "第377次：theta0=426.9399794602,theta1=69.8622963467，差值=0.0186690169\n",
      "第378次：theta0=426.9441798710,theta1=69.8629799996，差值=0.0179297238\n",
      "第379次：theta0=426.9482962736,theta1=69.8636499794，差值=0.0172197068\n",
      "第380次：theta0=426.9523303481,theta1=69.8643065597，差值=0.0165378064\n",
      "第381次：theta0=426.9562837411,theta1=69.8649500083，差值=0.0158829092\n",
      "第382次：theta0=426.9601580663,theta1=69.8655805880，差值=0.0152539460\n",
      "第383次：theta0=426.9639549050,theta1=69.8661985561，差值=0.0146498898\n",
      "第384次：theta0=426.9676758069,theta1=69.8668041648，差值=0.0140697541\n",
      "第385次：theta0=426.9713222908,theta1=69.8673976613，差值=0.0135125919\n",
      "第386次：theta0=426.9748958449,theta1=69.8679792879，差值=0.0129774932\n",
      "第387次：theta0=426.9783979280,theta1=69.8685492820，差值=0.0124635845\n",
      "第388次：theta0=426.9818299695,theta1=69.8691078762，差值=0.0119700266\n",
      "第389次：theta0=426.9851933701,theta1=69.8696552985，差值=0.0114960135\n",
      "第390次：theta0=426.9884895027,theta1=69.8701917724，差值=0.0110407714\n",
      "第391次：theta0=426.9917197126,theta1=69.8707175167，差值=0.0106035568\n",
      "第392次：theta0=426.9948853184,theta1=69.8712327462，差值=0.0101836560\n",
      "第393次：theta0=426.9979876120,theta1=69.8717376712，差值=0.0097803832\n",
      "第394次：theta0=427.0010278598,theta1=69.8722324976，差值=0.0093930800\n",
      "第395次：theta0=427.0040073026,theta1=69.8727174274，差值=0.0090211141\n",
      "第396次：theta0=427.0069271565,theta1=69.8731926587，差值=0.0086638779\n",
      "第397次：theta0=427.0097886134,theta1=69.8736583854，差值=0.0083207884\n",
      "第398次：theta0=427.0125928411,theta1=69.8741147975，差值=0.0079912851\n",
      "第399次：theta0=427.0153409843,theta1=69.8745620814，差值=0.0076748303\n",
      "第400次：theta0=427.0180341646,theta1=69.8750004196，差值=0.0073709070\n",
      "第401次：theta0=427.0206734813,theta1=69.8754299910，差值=0.0070790191\n",
      "第402次：theta0=427.0232600117,theta1=69.8758509711，差值=0.0067986899\n",
      "第403次：theta0=427.0257948115,theta1=69.8762635315，差值=0.0065294618\n",
      "第404次：theta0=427.0282789152,theta1=69.8766678407，差值=0.0062708951\n",
      "第405次：theta0=427.0307133369,theta1=69.8770640637，差值=0.0060225677\n",
      "第406次：theta0=427.0330990702,theta1=69.8774523622，差值=0.0057840740\n",
      "第407次：theta0=427.0354370888,theta1=69.8778328948，差值=0.0055550246\n",
      "第408次：theta0=427.0377283470,theta1=69.8782058168，差值=0.0053350457\n",
      "第409次：theta0=427.0399737801,theta1=69.8785712803，差值=0.0051237779\n",
      "第410次：theta0=427.0421743045,theta1=69.8789294345，差值=0.0049208762\n",
      "第411次：theta0=427.0443308184,theta1=69.8792804256，差值=0.0047260096\n",
      "第412次：theta0=427.0464442020,theta1=69.8796243970，差值=0.0045388596\n",
      "第413次：theta0=427.0485153180,theta1=69.8799614889，差值=0.0043591207\n",
      "第414次：theta0=427.0505450116,theta1=69.8802918389，差值=0.0041864995\n",
      "第415次：theta0=427.0525341114,theta1=69.8806155820，差值=0.0040207142\n",
      "第416次：theta0=427.0544834292,theta1=69.8809328502，差值=0.0038614939\n",
      "第417次：theta0=427.0563937606,theta1=69.8812437730，差值=0.0037085787\n",
      "第418次：theta0=427.0582658854,theta1=69.8815484774，差值=0.0035617190\n",
      "第419次：theta0=427.0601005677,theta1=69.8818470877，差值=0.0034206749\n",
      "第420次：theta0=427.0618985563,theta1=69.8821397257，差值=0.0032852162\n",
      "第421次：theta0=427.0636605852,theta1=69.8824265111，差值=0.0031551217\n",
      "第422次：theta0=427.0653873735,theta1=69.8827075607，差值=0.0030301788\n",
      "第423次：theta0=427.0670796260,theta1=69.8829829893，差值=0.0029101838\n",
      "第424次：theta0=427.0687380335,theta1=69.8832529093，差值=0.0027949405\n",
      "第425次：theta0=427.0703632728,theta1=69.8835174310，差值=0.0026842608\n",
      "第426次：theta0=427.0719560074,theta1=69.8837766622，差值=0.0025779641\n",
      "第427次：theta0=427.0735168872,theta1=69.8840307088，差值=0.0024758767\n",
      "第428次：theta0=427.0750465495,theta1=69.8842796744，差值=0.0023778320\n",
      "第429次：theta0=427.0765456185,theta1=69.8845236608，差值=0.0022836698\n",
      "第430次：theta0=427.0780147061,theta1=69.8847627674，差值=0.0021932365\n",
      "第431次：theta0=427.0794544120,theta1=69.8849970919，差值=0.0021063844\n",
      "第432次：theta0=427.0808653237,theta1=69.8852267299，差值=0.0020229715\n",
      "第433次：theta0=427.0822480173,theta1=69.8854517751，差值=0.0019428619\n",
      "第434次：theta0=427.0836030569,theta1=69.8856723194，差值=0.0018659245\n",
      "第435次：theta0=427.0849309958,theta1=69.8858884529，差值=0.0017920339\n",
      "第436次：theta0=427.0862323759,theta1=69.8861002637，差值=0.0017210694\n",
      "第437次：theta0=427.0875077284,theta1=69.8863078382，差值=0.0016529151\n",
      "第438次：theta0=427.0887575738,theta1=69.8865112613，差值=0.0015874596\n",
      "第439次：theta0=427.0899824223,theta1=69.8867106159，差值=0.0015245962\n",
      "第440次：theta0=427.0911827739,theta1=69.8869059834，差值=0.0014642222\n",
      "第441次：theta0=427.0923591184,theta1=69.8870974436，差值=0.0014062390\n",
      "第442次：theta0=427.0935119360,theta1=69.8872850745，差值=0.0013505519\n",
      "第443次：theta0=427.0946416973,theta1=69.8874689529，差值=0.0012970701\n",
      "第444次：theta0=427.0957488634,theta1=69.8876491537，差值=0.0012457061\n",
      "第445次：theta0=427.0968338861,theta1=69.8878257504，差值=0.0011963761\n",
      "第446次：theta0=427.0978972084,theta1=69.8879988152，差值=0.0011489996\n",
      "第447次：theta0=427.0989392642,theta1=69.8881684188，差值=0.0011034993\n",
      "第448次：theta0=427.0999604789,theta1=69.8883346302，差值=0.0010598007\n",
      "第449次：theta0=427.1009612693,theta1=69.8884975175，差值=0.0010178326\n",
      "第450次：theta0=427.1019420439,theta1=69.8886571469，差值=0.0009775264\n",
      "第451次：theta0=427.1029032031,theta1=69.8888135838，差值=0.0009388164\n",
      "第452次：theta0=427.1038451390,theta1=69.8889668920，差值=0.0009016393\n",
      "第453次：theta0=427.1047682362,theta1=69.8891171340，差值=0.0008659343\n",
      "第454次：theta0=427.1056728715,theta1=69.8892643711，差值=0.0008316433\n",
      "第455次：theta0=427.1065594141,theta1=69.8894086636，差值=0.0007987102\n",
      "第456次：theta0=427.1074282258,theta1=69.8895500701，差值=0.0007670813\n",
      "第457次：theta0=427.1082796613,theta1=69.8896886485，差值=0.0007367049\n",
      "第458次：theta0=427.1091140681,theta1=69.8898244554，差值=0.0007075314\n",
      "第459次：theta0=427.1099317867,theta1=69.8899575461，差值=0.0006795131\n",
      "第460次：theta0=427.1107331510,theta1=69.8900879750，差值=0.0006526044\n",
      "第461次：theta0=427.1115184879,theta1=69.8902157954，差值=0.0006267613\n",
      "第462次：theta0=427.1122881182,theta1=69.8903410593，差值=0.0006019415\n",
      "第463次：theta0=427.1130423558,theta1=69.8904638180，差值=0.0005781047\n",
      "第464次：theta0=427.1137815087,theta1=69.8905841214，差值=0.0005552117\n",
      "第465次：theta0=427.1145058785,theta1=69.8907020188，差值=0.0005332253\n",
      "第466次：theta0=427.1152157610,theta1=69.8908175583，差值=0.0005121096\n",
      "第467次：theta0=427.1159114457,theta1=69.8909307870，差值=0.0004918301\n",
      "第468次：theta0=427.1165932168,theta1=69.8910417510，差值=0.0004723536\n",
      "第469次：theta0=427.1172613525,theta1=69.8911504959，差值=0.0004536484\n",
      "第470次：theta0=427.1179161254,theta1=69.8912570658，差值=0.0004356839\n",
      "第471次：theta0=427.1185578029,theta1=69.8913615043，差值=0.0004184308\n",
      "第472次：theta0=427.1191866469,theta1=69.8914638540，差值=0.0004018610\n",
      "第473次：theta0=427.1198029139,theta1=69.8915641568，差值=0.0003859473\n",
      "第474次：theta0=427.1204068557,theta1=69.8916624535，差值=0.0003706638\n",
      "第475次：theta0=427.1209987185,theta1=69.8917587843，差值=0.0003559855\n",
      "第476次：theta0=427.1215787442,theta1=69.8918531884，差值=0.0003418885\n",
      "第477次：theta0=427.1221471693,theta1=69.8919457045，差值=0.0003283497\n",
      "第478次：theta0=427.1227042259,theta1=69.8920363702，差值=0.0003153470\n",
      "第479次：theta0=427.1232501414,theta1=69.8921252226，差值=0.0003028593\n",
      "第480次：theta0=427.1237851386,theta1=69.8922122980，差值=0.0002908661\n",
      "第481次：theta0=427.1243094358,theta1=69.8922976319，差值=0.0002793477\n",
      "第482次：theta0=427.1248232471,theta1=69.8923812591，差值=0.0002682856\n",
      "第483次：theta0=427.1253267821,theta1=69.8924632137，差值=0.0002576615\n",
      "第484次：theta0=427.1258202465,theta1=69.8925435293，差值=0.0002474581\n",
      "第485次：theta0=427.1263038416,theta1=69.8926222385，差值=0.0002376588\n",
      "第486次：theta0=427.1267777647,theta1=69.8926993736，差值=0.0002282474\n",
      "第487次：theta0=427.1272422094,theta1=69.8927749660，差值=0.0002192089\n",
      "第488次：theta0=427.1276973652,theta1=69.8928490465，差值=0.0002105282\n",
      "第489次：theta0=427.1281434179,theta1=69.8929216454，差值=0.0002021913\n",
      "第490次：theta0=427.1285805496,theta1=69.8929927923，差值=0.0001941845\n",
      "第491次：theta0=427.1290089386,theta1=69.8930625163，差值=0.0001864948\n",
      "第492次：theta0=427.1294287598,theta1=69.8931308458，差值=0.0001791096\n",
      "第493次：theta0=427.1298401846,theta1=69.8931978087，差值=0.0001720169\n",
      "第494次：theta0=427.1302433809,theta1=69.8932634324，差值=0.0001652050\n",
      "第495次：theta0=427.1306385133,theta1=69.8933277436，差值=0.0001586629\n",
      "第496次：theta0=427.1310257430,theta1=69.8933907685，差值=0.0001523798\n",
      "第497次：theta0=427.1314052282,theta1=69.8934525330，差值=0.0001463456\n",
      "第498次：theta0=427.1317771236,theta1=69.8935130622，差值=0.0001405503\n",
      "第499次：theta0=427.1321415811,theta1=69.8935723808，差值=0.0001349845\n",
      "第500次：theta0=427.1324987495,theta1=69.8936305130，差值=0.0001296391\n",
      "第501次：theta0=427.1328487745,theta1=69.8936874825，差值=0.0001245054\n",
      "第502次：theta0=427.1331917990,theta1=69.8937433127，差值=0.0001195750\n",
      "第503次：theta0=427.1335279631,theta1=69.8937980263，差值=0.0001148398\n",
      "第504次：theta0=427.1338574038,theta1=69.8938516456，差值=0.0001102922\n",
      "第505次：theta0=427.1341802557,theta1=69.8939041925，差值=0.0001059246\n",
      "第506次：theta0=427.1344966506,theta1=69.8939556885，差值=0.0001017300\n",
      "第507次：theta0=427.1348067176,theta1=69.8940061546，差值=0.0000977015\n",
      "第508次：theta0=427.1351105832,theta1=69.8940556113，差值=0.0000938325\n",
      "第509次：theta0=427.1354083716,theta1=69.8941040789，差值=0.0000901167\n",
      "第510次：theta0=427.1357002041,theta1=69.8941515772，差值=0.0000865481\n",
      "第511次：theta0=427.1359862001,theta1=69.8941981255，差值=0.0000831208\n",
      "第512次：theta0=427.1362664761,theta1=69.8942437428，差值=0.0000798292\n",
      "第513次：theta0=427.1365411465,theta1=69.8942884478，差值=0.0000766680\n",
      "第514次：theta0=427.1368103236,theta1=69.8943322587，差值=0.0000736319\n",
      "第515次：theta0=427.1370741171,theta1=69.8943751933，差值=0.0000707161\n",
      "第516次：theta0=427.1373326348,theta1=69.8944172693，差值=0.0000679157\n",
      "第517次：theta0=427.1375859821,theta1=69.8944585037，差值=0.0000652263\n",
      "第518次：theta0=427.1378342625,theta1=69.8944989135，差值=0.0000626433\n",
      "第519次：theta0=427.1380775772,theta1=69.8945385151，差值=0.0000601627\n",
      "第520次：theta0=427.1383160257,theta1=69.8945773246，差值=0.0000577802\n",
      "第521次：theta0=427.1385497051,theta1=69.8946153579，差值=0.0000554921\n",
      "第522次：theta0=427.1387787110,theta1=69.8946526306，差值=0.0000532946\n",
      "第523次：theta0=427.1390031368,theta1=69.8946891578，差值=0.0000511842\n",
      "第524次：theta0=427.1392230741,theta1=69.8947249545，差值=0.0000491573\n",
      "第525次：theta0=427.1394386126,theta1=69.8947600352，差值=0.0000472106\n",
      "第526次：theta0=427.1396498404,theta1=69.8947944144，差值=0.0000453411\n",
      "第527次：theta0=427.1398568435,theta1=69.8948281059，差值=0.0000435456\n",
      "第528次：theta0=427.1400597067,theta1=69.8948611236，差值=0.0000418212\n",
      "第529次：theta0=427.1402585125,theta1=69.8948934810，差值=0.0000401651\n",
      "第530次：theta0=427.1404533423,theta1=69.8949251912，差值=0.0000385745\n",
      "第531次：theta0=427.1406442754,theta1=69.8949562672，差值=0.0000370470\n",
      "第532次：theta0=427.1408313899,theta1=69.8949867217，差值=0.0000355799\n",
      "第533次：theta0=427.1410147621,theta1=69.8950165671，差值=0.0000341710\n",
      "第534次：theta0=427.1411944669,theta1=69.8950458156，差值=0.0000328178\n",
      "第535次：theta0=427.1413705776,theta1=69.8950744791，差值=0.0000315182\n",
      "第536次：theta0=427.1415431660,theta1=69.8951025694，差值=0.0000302701\n",
      "第537次：theta0=427.1417123027,theta1=69.8951300978，差值=0.0000290714\n",
      "第538次：theta0=427.1418780566,theta1=69.8951570757，差值=0.0000279201\n",
      "第539次：theta0=427.1420404955,theta1=69.8951835140，差值=0.0000268145\n",
      "第540次：theta0=427.1421996856,theta1=69.8952094236，差值=0.0000257527\n",
      "第541次：theta0=427.1423556919,theta1=69.8952348149，差值=0.0000247329\n",
      "第542次：theta0=427.1425085780,theta1=69.8952596985，差值=0.0000237534\n",
      "第543次：theta0=427.1426584065,theta1=69.8952840843，差值=0.0000228128\n",
      "第544次：theta0=427.1428052384,theta1=69.8953079825，差值=0.0000219094\n",
      "第545次：theta0=427.1429491336,theta1=69.8953314027，差值=0.0000210418\n",
      "第546次：theta0=427.1430901509,theta1=69.8953543544，差值=0.0000202085\n",
      "第547次：theta0=427.1432283479,theta1=69.8953768472，差值=0.0000194083\n",
      "第548次：theta0=427.1433637809,theta1=69.8953988901，差值=0.0000186397\n",
      "第549次：theta0=427.1434965053,theta1=69.8954204921，差值=0.0000179016\n",
      "第550次：theta0=427.1436265752,theta1=69.8954416621，差值=0.0000171927\n",
      "第551次：theta0=427.1437540437,theta1=69.8954624087，差值=0.0000165119\n",
      "第552次：theta0=427.1438789628,theta1=69.8954827403，差值=0.0000158580\n",
      "第553次：theta0=427.1440013836,theta1=69.8955026654，差值=0.0000152300\n",
      "第554次：theta0=427.1441213559,theta1=69.8955221919，差值=0.0000146269\n",
      "第555次：theta0=427.1442389288,theta1=69.8955413279，差值=0.0000140477\n",
      "第556次：theta0=427.1443541502,theta1=69.8955600812，差值=0.0000134914\n",
      "第557次：theta0=427.1444670672,theta1=69.8955784594，差值=0.0000129571\n",
      "第558次：theta0=427.1445777259,theta1=69.8955964700，差值=0.0000124440\n",
      "第559次：theta0=427.1446861713,theta1=69.8956141205，差值=0.0000119512\n",
      "第560次：theta0=427.1447924479,theta1=69.8956314179，差值=0.0000114780\n",
      "第561次：theta0=427.1448965990,theta1=69.8956483694，差值=0.0000110235\n",
      "第562次：theta0=427.1449986670,theta1=69.8956649818，差值=0.0000105869\n",
      "第563次：theta0=427.1450986936,theta1=69.8956812620，差值=0.0000101677\n",
      "第564次：theta0=427.1451967198,theta1=69.8956972166，差值=0.0000097650\n",
      "第565次：theta0=427.1452927854,theta1=69.8957128521，差值=0.0000093783\n",
      "第566次：theta0=427.1453869297,theta1=69.8957281749，差值=0.0000090070\n",
      "第567次：theta0=427.1454791911,theta1=69.8957431912，差值=0.0000086503\n",
      "第568次：theta0=427.1455696073,theta1=69.8957579072，差值=0.0000083077\n",
      "第569次：theta0=427.1456582151,theta1=69.8957723289，差值=0.0000079788\n",
      "第570次：theta0=427.1457450508,theta1=69.8957864622，差值=0.0000076628\n",
      "第571次：theta0=427.1458301498,theta1=69.8958003128，差值=0.0000073593\n",
      "第572次：theta0=427.1459135468,theta1=69.8958138863，差值=0.0000070679\n",
      "第573次：theta0=427.1459952759,theta1=69.8958271884，差值=0.0000067880\n",
      "第574次：theta0=427.1460753703,theta1=69.8958402245，差值=0.0000065192\n",
      "第575次：theta0=427.1461538629,theta1=69.8958529999，差值=0.0000062611\n",
      "第576次：theta0=427.1462307857,theta1=69.8958655197，差值=0.0000060131\n",
      "第577次：theta0=427.1463061700,theta1=69.8958777891，差值=0.0000057750\n",
      "第578次：theta0=427.1463800466,theta1=69.8958898132，差值=0.0000055463\n",
      "第579次：theta0=427.1464524456,theta1=69.8959015967，差值=0.0000053267\n",
      "第580次：theta0=427.1465233967,theta1=69.8959131446，差值=0.0000051157\n",
      "第581次：theta0=427.1465929288,theta1=69.8959244616，差值=0.0000049131\n",
      "第582次：theta0=427.1466610702,theta1=69.8959355522，差值=0.0000047186\n",
      "第583次：theta0=427.1467278488,theta1=69.8959464210，差值=0.0000045318\n",
      "第584次：theta0=427.1467932918,theta1=69.8959570724，差值=0.0000043523\n",
      "第585次：theta0=427.1468574260,theta1=69.8959675108，差值=0.0000041799\n",
      "第586次：theta0=427.1469202775,theta1=69.8959777404，差值=0.0000040144\n",
      "第587次：theta0=427.1469818719,theta1=69.8959877654，差值=0.0000038554\n",
      "第588次：theta0=427.1470422345,theta1=69.8959975899，差值=0.0000037028\n",
      "第589次：theta0=427.1471013898,theta1=69.8960072180，差值=0.0000035561\n",
      "第590次：theta0=427.1471593620,theta1=69.8960166535，差值=0.0000034153\n",
      "第591次：theta0=427.1472161748,theta1=69.8960259002，差值=0.0000032801\n",
      "第592次：theta0=427.1472718513,theta1=69.8960349620，差值=0.0000031502\n",
      "第593次：theta0=427.1473264142,theta1=69.8960438426，差值=0.0000030254\n",
      "第594次：theta0=427.1473798860,theta1=69.8960525456，差值=0.0000029056\n",
      "第595次：theta0=427.1474322882,theta1=69.8960610745，差值=0.0000027906\n",
      "第596次：theta0=427.1474836425,theta1=69.8960694329，差值=0.0000026800\n",
      "第597次：theta0=427.1475339696,theta1=69.8960776241，差值=0.0000025739\n",
      "第598次：theta0=427.1475832902,theta1=69.8960856514，差值=0.0000024720\n",
      "第599次：theta0=427.1476316244,theta1=69.8960935182，差值=0.0000023741\n",
      "第600次：theta0=427.1476789919,theta1=69.8961012277，差值=0.0000022801\n",
      "第601次：theta0=427.1477254121,theta1=69.8961087830，差值=0.0000021898\n",
      "第602次：theta0=427.1477709039,theta1=69.8961161871，差值=0.0000021031\n",
      "第603次：theta0=427.1478154858,theta1=69.8961234432，差值=0.0000020198\n",
      "第604次：theta0=427.1478591761,theta1=69.8961305542，差值=0.0000019398\n",
      "第605次：theta0=427.1479019925,theta1=69.8961375229，差值=0.0000018630\n",
      "第606次：theta0=427.1479439527,theta1=69.8961443523，差值=0.0000017892\n",
      "第607次：theta0=427.1479850736,theta1=69.8961510451，差值=0.0000017184\n",
      "第608次：theta0=427.1480253722,theta1=69.8961576040，差值=0.0000016503\n",
      "第609次：theta0=427.1480648647,theta1=69.8961640318，差值=0.0000015850\n",
      "第610次：theta0=427.1481035674,theta1=69.8961703310，差值=0.0000015222\n",
      "第611次：theta0=427.1481414961,theta1=69.8961765042，差值=0.0000014619\n",
      "第612次：theta0=427.1481786662,theta1=69.8961825540，差值=0.0000014040\n",
      "第613次：theta0=427.1482150928,theta1=69.8961884827，差值=0.0000013484\n",
      "第614次：theta0=427.1482507910,theta1=69.8961942929，差值=0.0000012950\n",
      "第615次：theta0=427.1482857752,theta1=69.8961999869，差值=0.0000012437\n",
      "第616次：theta0=427.1483200597,theta1=69.8962055670，差值=0.0000011945\n",
      "第617次：theta0=427.1483536585,theta1=69.8962110355，差值=0.0000011472\n",
      "第618次：theta0=427.1483865853,theta1=69.8962163946，差值=0.0000011018\n",
      "第619次：theta0=427.1484188536,theta1=69.8962216465，差值=0.0000010581\n",
      "第620次：theta0=427.1484504765,theta1=69.8962267934，差值=0.0000010162\n",
      "第621次：theta0=427.1484814670,theta1=69.8962318374，差值=0.0000009760\n"
     ]
    },
    {
     "data": {
      "text/plain": [
       "[<matplotlib.lines.Line2D at 0x21facb39ac8>]"
      ]
     },
     "execution_count": 10,
     "metadata": {},
     "output_type": "execute_result"
    },
    {
     "data": {
      "image/png": "[encoded data removed]",
      "text/plain": [
       "<Figure size 432x288 with 1 Axes>"
      ]
     },
     "metadata": {
      "needs_background": "light"
     },
     "output_type": "display_data"
    }
   ],
   "source": [
    "# 训练数据\n",
    "\n",
    "data = np.array([\n",
    "    [23,551],\n",
    "    [216,539],\n",
    "    [148,413],\n",
    "    [35,310],\n",
    "    [85,308],\n",
    "    [204,519],\n",
    "    [49,325],\n",
    "    [25,332],\n",
    "    [173,498],\n",
    "    [191,498],\n",
    "    [134,392],\n",
    "    [99,334],\n",
    "    [117,385],\n",
    "    [112,387],\n",
    "    [162,425],\n",
    "    [272,659],\n",
    "    [159,400],\n",
    "    [159,427],\n",
    "    [59,319],\n",
    "    [198,522]\n",
    "])\n",
    "X,y = data[:,:-1],data[:,-1]\n",
    "\n",
    "# 参数初始化\n",
    "# w = np.random.random((2,1))\n",
    "w = np.array([\n",
    "    [np.random.rand()],\n",
    "    [np.random.rand()],\n",
    "])\n",
    "\n",
    "# 预测函数\n",
    "def f(x,w):\n",
    "    return x.dot(w)\n",
    "\n",
    "# 目标函数\n",
    "def E(x,y,w):\n",
    "    return 0.5*np.sum((y-f(x,w))**2)\n",
    "\n",
    "# 标准化 / z-score 规范化\n",
    "def standardize(x):\n",
    "    mu = x.mean()\n",
    "    sigma = x.std()\n",
    "    return (x-mu)/sigma\n",
    "\n",
    "z = standardize(X)\n",
    "z = np.c_[np.ones(z.shape[0]),z]\n",
    "y = y.reshape(-1,1)\n",
    "\n",
    "eta = 1e-3       # 学习率\n",
    "epoches = 10000  # 迭代次数\n",
    "diff = 1         # 误差\n",
    "count = 0        # 记录学习次数\n",
    "\n",
    "error = E(z,y,w)\n",
    "\n",
    "while diff > 1e-6:\n",
    "    \n",
    "    \n",
    "    w = w - eta*z.T.dot(f(z,w)-y)\n",
    "    \n",
    "    current_error = E(z,y,w)\n",
    "    diff = error-current_error\n",
    "    error = current_error\n",
    "    \n",
    "    count = count + 1\n",
    "    \n",
    "    log = \"第{}次：theta0={:.10f},theta1={:.10f}，差值={:.10f}\".format(count,w[0][0],w[1][0],diff)\n",
    "    print(log)\n",
    "plt.plot(z[:,-1],y,'o')\n",
    "plt.plot(z[:,-1],f(z,w))"
   ]
  },
  {
   "cell_type": "code",
   "execution_count": 11,
   "metadata": {
    "ExecuteTime": {
     "end_time": "2020-11-29T10:43:12.877996Z",
     "start_time": "2020-11-29T10:43:12.875065Z"
    }
   },
   "outputs": [],
   "source": [
    "# 最快下降法/梯度下降\n",
    "# 随机梯度下降\n",
    "# 小批量梯度下降"
   ]
  },
  {
   "cell_type": "markdown",
   "metadata": {},
   "source": [
    "# 多元线性回归（多项式回归）\n",
    "\n",
    "$f_\\theta(x)=\\theta_0+\\theta_1x+\\theta_2x^2$,即 \\\\\n",
    "$$\\theta = [\\theta_0,\\theta_1,\\theta2]^T,x^{(i)}=[1,x^{(i)},x^{(i)^2}]$$"
   ]
  },
  {
   "cell_type": "code",
   "execution_count": 12,
   "metadata": {
    "ExecuteTime": {
     "end_time": "2020-11-29T10:43:13.024395Z",
     "start_time": "2020-11-29T10:43:12.878970Z"
    }
   },
   "outputs": [
    {
     "name": "stdout",
     "output_type": "stream",
     "text": [
      "第1次：差值=1207990.1887853500\n",
      "第2次：差值=296107.3405363431\n",
      "第3次：差值=101855.3409954454\n",
      "第4次：差值=54855.8142179420\n",
      "第5次：差值=39204.9160018961\n",
      "第6次：差值=31091.8516750881\n",
      "第7次：差值=25435.5852628854\n",
      "第8次：差值=21012.0663359631\n",
      "第9次：差值=17425.2970483701\n",
      "第10次：差值=14481.0925103963\n",
      "第11次：差值=12051.1769635671\n",
      "第12次：差值=10039.2835886660\n",
      "第13次：差值=8369.7665918976\n",
      "第14次：差值=6982.0384386077\n",
      "第15次：差值=5827.0578045120\n",
      "第16次：差值=4864.8400239548\n",
      "第17次：差值=4062.6045704949\n",
      "第18次：差值=3393.3612451645\n",
      "第19次：差值=2834.8122644782\n",
      "第20次：差值=2368.4877478830\n",
      "第21次：差值=1979.0570555694\n",
      "第22次：差值=1653.7748752211\n",
      "第23次：差值=1382.0321229315\n",
      "第24次：差值=1154.9894537687\n",
      "第25次：差值=965.2766224353\n",
      "第26次：差值=806.7448371585\n",
      "第27次：差值=674.2620973547\n",
      "第28次：差值=563.5436203379\n",
      "第29次：差值=471.0110601446\n",
      "第30次：差值=393.6754484210\n",
      "第31次：差值=329.0397432507\n",
      "第32次：差值=275.0176263118\n",
      "第33次：差值=229.8657909102\n",
      "第34次：差值=192.1274485280\n",
      "第35次：差值=160.5851753026\n",
      "第36次：差值=134.2215415319\n",
      "第37次：差值=112.1862313835\n",
      "第38次：差值=93.7685776635\n",
      "第39次：差值=78.3746164828\n",
      "第40次：差值=65.5079158409\n",
      "第41次：差值=54.7535560399\n",
      "第42次：差值=45.7647428783\n",
      "第43次：差值=38.2516203696\n",
      "第44次：差值=31.9719212313\n",
      "第45次：差值=26.7231530165\n",
      "第46次：差值=22.3360675132\n",
      "第47次：差值=18.6692025669\n",
      "第48次：差值=15.6043201570\n",
      "第49次：差值=13.0425935199\n",
      "第50次：差值=10.9014203049\n",
      "第51次：差值=9.1117589583\n",
      "第52次：差值=7.6159024201\n",
      "第53次：差值=6.3656173293\n",
      "第54次：差值=5.3205887249\n",
      "第55次：差值=4.4471200853\n",
      "第56次：差值=3.7170467851\n",
      "第57次：差值=3.1068279299\n",
      "第58次：差值=2.5967872858\n",
      "第59次：差值=2.1704788242\n",
      "第60次：差值=1.8141564252\n",
      "第61次：差值=1.5163306389\n",
      "第62次：差值=1.2673982124\n",
      "第63次：差值=1.0593324368\n",
      "第64次：差值=0.8854243298\n",
      "第65次：差值=0.7400663070\n",
      "第66次：差值=0.6185713681\n",
      "第67次：差值=0.5170219668\n",
      "第68次：差值=0.4321436911\n",
      "第69次：差值=0.3611996817\n",
      "第70次：差值=0.3019023829\n",
      "第71次：差值=0.2523397816\n",
      "第72次：差值=0.2109137555\n",
      "第73次：差值=0.1762885424\n",
      "第74次：差值=0.1473476687\n",
      "第75次：差值=0.1231579499\n",
      "第76次：差值=0.1029394001\n",
      "第77次：差值=0.0860400819\n",
      "第78次：差值=0.0719150849\n",
      "第79次：差值=0.0601089552\n",
      "第80次：差值=0.0502410100\n",
      "第81次：差值=0.0419930621\n",
      "第82次：差值=0.0350991602\n",
      "第83次：差值=0.0293370140\n",
      "第84次：差值=0.0245208257\n",
      "第85次：差值=0.0204952996\n",
      "第86次：差值=0.0171306347\n",
      "第87次：差值=0.0143183389\n",
      "第88次：差值=0.0119677310\n",
      "第89次：差值=0.0100030169\n",
      "第90次：差值=0.0083608452\n"
     ]
    },
    {
     "data": {
      "text/plain": [
       "[<matplotlib.lines.Line2D at 0x21facb18c08>]"
      ]
     },
     "execution_count": 12,
     "metadata": {},
     "output_type": "execute_result"
    },
    {
     "data": {
      "image/png": "[encoded data removed]",
      "text/plain": [
       "<Figure size 432x288 with 1 Axes>"
      ]
     },
     "metadata": {
      "needs_background": "light"
     },
     "output_type": "display_data"
    }
   ],
   "source": [
    "def f(x,theta):\n",
    "    return np.dot(x,theta)\n",
    "\n",
    "# 目标函数\n",
    "def E(x,y,theta):\n",
    "    return 0.5*np.sum((y-f(x,theta))**2)\n",
    "\n",
    "# 均方误差\n",
    "def MSE(x,y,theta):\n",
    "    return 1.0/y.shape[0]*np.sum((y-f(x,theta))**2)\n",
    "\n",
    "# 标准化 / z-score 规范化\n",
    "def standardize(x):\n",
    "    mu = x.mean()\n",
    "    sigma = x.std()\n",
    "    return (x-mu)/sigma\n",
    "\n",
    "data = np.array([\n",
    "    [23,551],\n",
    "    [216,539],\n",
    "    [148,413],\n",
    "    [35,310],\n",
    "    [85,308],\n",
    "    [204,519],\n",
    "    [49,325],\n",
    "    [25,332],\n",
    "    [173,498],\n",
    "    [191,498],\n",
    "    [134,392],\n",
    "    [99,334],\n",
    "    [117,385],\n",
    "    [112,387],\n",
    "    [162,425],\n",
    "    [272,659],\n",
    "    [159,400],\n",
    "    [159,427],\n",
    "    [59,319],\n",
    "    [198,522]\n",
    "])\n",
    "X,y = data[:,:-1],data[:,-1]\n",
    "y = y.reshape(-1,1)\n",
    "diff = 1\n",
    "eta = 1e-2\n",
    "\n",
    "count = 0\n",
    "z = standardize(X)\n",
    "\n",
    "z = np.c_[np.ones(z.shape[0]),z,z**2]\n",
    "theta = np.random.random((z.shape[1],1))\n",
    "\n",
    "errors = []\n",
    "\n",
    "error = E(z,y,theta)\n",
    "errors.append(MSE(z,y,theta))\n",
    "\n",
    "while diff > 1e-2:\n",
    "    \n",
    "    theta = theta-eta*z.T.dot(f(z,theta)-y)\n",
    "    \n",
    "    current_error = E(z,y,theta)\n",
    "    diff = error-current_error\n",
    "    error = current_error\n",
    "    count = count + 1\n",
    "    errors.append(MSE(z,y,theta))\n",
    "    \n",
    "    log = \"第{}次：差值={:.10f}\".format(count,diff)\n",
    "    \n",
    "    print(log)\n",
    "\n",
    "x = np.array(np.linspace(-3,3,100))\n",
    "plt.plot(z[:,1],y,'o')\n",
    "plt.plot(x,f(np.c_[np.ones(x.size),x,x**2],theta))"
   ]
  },
  {
   "cell_type": "code",
   "execution_count": 13,
   "metadata": {
    "ExecuteTime": {
     "end_time": "2020-11-29T10:43:13.125898Z",
     "start_time": "2020-11-29T10:43:13.025370Z"
    }
   },
   "outputs": [
    {
     "data": {
      "text/plain": [
       "[<matplotlib.lines.Line2D at 0x21facc4fb08>]"
      ]
     },
     "execution_count": 13,
     "metadata": {},
     "output_type": "execute_result"
    },
    {
     "data": {
      "image/png": "[encoded data removed]",
      "text/plain": [
       "<Figure size 432x288 with 1 Axes>"
      ]
     },
     "metadata": {
      "needs_background": "light"
     },
     "output_type": "display_data"
    }
   ],
   "source": [
    "plt.plot(np.arange(len(errors)),errors)"
   ]
  },
  {
   "cell_type": "markdown",
   "metadata": {},
   "source": [
    "# 逻辑回归"
   ]
  },
  {
   "cell_type": "code",
   "execution_count": 14,
   "metadata": {
    "ExecuteTime": {
     "end_time": "2020-11-29T10:43:13.135658Z",
     "start_time": "2020-11-29T10:43:13.126874Z"
    }
   },
   "outputs": [
    {
     "data": {
      "text/plain": [
       "((20, 2), (20, 1))"
      ]
     },
     "execution_count": 14,
     "metadata": {},
     "output_type": "execute_result"
    }
   ],
   "source": [
    "data = np.array([\n",
    "    [153,432,0],\n",
    "    [220,262,0],\n",
    "    [118,214,0],\n",
    "    [474,384,1],\n",
    "    [485,411,1],\n",
    "    [233,430,0],\n",
    "    [396,361,1],\n",
    "    [484,349,1],\n",
    "    [429,259,1],\n",
    "    [286,220,1],\n",
    "    [399,433,0],\n",
    "    [403,340,1],\n",
    "    [252,34,1],\n",
    "    [497,472,1],\n",
    "    [379,416,0],\n",
    "    [76,163,0],\n",
    "    [263,112,1],\n",
    "    [26,193,0],\n",
    "    [61,473,0],\n",
    "    [420,253,1]\n",
    "])\n",
    "X,y = data[:,:-1],data[:,-1]\n",
    "y = y.reshape(-1,1)\n",
    "X.shape,y.shape"
   ]
  },
  {
   "cell_type": "code",
   "execution_count": 15,
   "metadata": {
    "ExecuteTime": {
     "end_time": "2020-11-29T10:43:13.223043Z",
     "start_time": "2020-11-29T10:43:13.136634Z"
    }
   },
   "outputs": [
    {
     "data": {
      "text/plain": [
       "<matplotlib.collections.PathCollection at 0x21facca20c8>"
      ]
     },
     "execution_count": 15,
     "metadata": {},
     "output_type": "execute_result"
    },
    {
     "data": {
      "image/png": "[encoded data removed]",
      "text/plain": [
       "<Figure size 432x288 with 1 Axes>"
      ]
     },
     "metadata": {
      "needs_background": "light"
     },
     "output_type": "display_data"
    }
   ],
   "source": [
    "plt.scatter(X[:,0],X[:,1],c=y[:,0])"
   ]
  },
  {
   "cell_type": "code",
   "execution_count": 16,
   "metadata": {
    "ExecuteTime": {
     "end_time": "2020-11-29T10:43:13.226948Z",
     "start_time": "2020-11-29T10:43:13.224020Z"
    }
   },
   "outputs": [],
   "source": [
    "z = standardize(X)"
   ]
  },
  {
   "cell_type": "code",
   "execution_count": 17,
   "metadata": {
    "ExecuteTime": {
     "end_time": "2020-11-29T10:43:13.232803Z",
     "start_time": "2020-11-29T10:43:13.227924Z"
    }
   },
   "outputs": [
    {
     "data": {
      "text/plain": [
       "(20, 3)"
      ]
     },
     "execution_count": 17,
     "metadata": {},
     "output_type": "execute_result"
    }
   ],
   "source": [
    "X = np.c_[np.ones(z.shape[0]),z]\n",
    "X.shape"
   ]
  },
  {
   "cell_type": "code",
   "execution_count": 18,
   "metadata": {
    "ExecuteTime": {
     "end_time": "2020-11-29T10:43:13.335787Z",
     "start_time": "2020-11-29T10:43:13.233779Z"
    }
   },
   "outputs": [
    {
     "data": {
      "text/plain": [
       "<matplotlib.collections.PathCollection at 0x21faccef3c8>"
      ]
     },
     "execution_count": 18,
     "metadata": {},
     "output_type": "execute_result"
    },
    {
     "data": {
      "image/png": "[encoded data removed]",
      "text/plain": [
       "<Figure size 432x288 with 1 Axes>"
      ]
     },
     "metadata": {
      "needs_background": "light"
     },
     "output_type": "display_data"
    }
   ],
   "source": [
    "plt.scatter(z[:,0],z[:,1],c=y[:,0])"
   ]
  },
  {
   "cell_type": "code",
   "execution_count": 19,
   "metadata": {
    "ExecuteTime": {
     "end_time": "2020-11-29T10:43:13.483670Z",
     "start_time": "2020-11-29T10:43:13.336764Z"
    }
   },
   "outputs": [
    {
     "data": {
      "text/plain": [
       "[<matplotlib.lines.Line2D at 0x21facd81c08>]"
      ]
     },
     "execution_count": 19,
     "metadata": {},
     "output_type": "execute_result"
    },
    {
     "data": {
      "image/png": "[encoded data removed]",
      "text/plain": [
       "<Figure size 432x288 with 1 Axes>"
      ]
     },
     "metadata": {
      "needs_background": "light"
     },
     "output_type": "display_data"
    }
   ],
   "source": [
    "def sigmoid(z):\n",
    "    return 1.0/(1+np.exp(-z))\n",
    "\n",
    "def f(x,theta):\n",
    "    return sigmoid(np.dot(x,theta))\n",
    "\n",
    "eta = 0.01    # 学习率\n",
    "epoch = 5000  # 迭代次数\n",
    "theta = np.random.random((X.shape[1],1))\n",
    "# print(theta.shape)\n",
    "for _ in range(epoch):\n",
    "    theta = theta - eta*X.T.dot(f(X,theta)-y)\n",
    "x = np.arange(np.min(X), np.max(X), 0.1)\n",
    "y_pred = -(theta[0][0]+theta[1][0]*x) / theta[2][0]\n",
    "plt.scatter(X[:,1],X[:,2],c=y[:,0])\n",
    "plt.plot(x,y_pred,'b-')"
   ]
  },
  {
   "cell_type": "code",
   "execution_count": 20,
   "metadata": {
    "ExecuteTime": {
     "end_time": "2020-11-29T10:43:13.493430Z",
     "start_time": "2020-11-29T10:43:13.484647Z"
    }
   },
   "outputs": [
    {
     "data": {
      "text/plain": [
       "((20, 2), (20,))"
      ]
     },
     "execution_count": 20,
     "metadata": {},
     "output_type": "execute_result"
    }
   ],
   "source": [
    "# 线性不可分分类的实现\n",
    "\n",
    "data = np.array([\n",
    "    [0.54508775,2.34541183,0],\n",
    "    [0.32769134,13.43066561,0],\n",
    "    [4.42748117,14.74150395,0],\n",
    "    [2.98189041,-1.81818172,1],\n",
    "    [4.02286274,8.90695686,1],\n",
    "    [2.26722613,-6.61287392,1],\n",
    "    [-2.66447221,5.05453871,1],\n",
    "    [-1.03482441,-1.95643469,1],\n",
    "    [4.06331548,1.70892541,1],\n",
    "    [2.89053966,6.07174283,0],\n",
    "    [2.26929206,10.59789814,0],\n",
    "    [4.68096051,13.01153161,1],\n",
    "    [1.27884366,-9.83826738,1],\n",
    "    [-0.1485496,12.99605136,0],\n",
    "    [-0.65113893,10.59417745,0],\n",
    "    [3.69145079,3.25209182,1],\n",
    "    [-0.63429623,11.6135625,0],\n",
    "    [0.17589959,5.84139826,0],\n",
    "    [0.98204409,-9.41271559,1],\n",
    "    [-0.11094811,6.27900499,0]\n",
    "])\n",
    "X,y = data[:,:-1],data[:,-1]\n",
    "X.shape,y.shape"
   ]
  },
  {
   "cell_type": "code",
   "execution_count": 21,
   "metadata": {
    "ExecuteTime": {
     "end_time": "2020-11-29T10:43:13.596920Z",
     "start_time": "2020-11-29T10:43:13.494945Z"
    }
   },
   "outputs": [
    {
     "data": {
      "text/plain": [
       "<matplotlib.collections.PathCollection at 0x21facd32cc8>"
      ]
     },
     "execution_count": 21,
     "metadata": {},
     "output_type": "execute_result"
    },
    {
     "data": {
      "image/png": "[encoded data removed]",
      "text/plain": [
       "<Figure size 432x288 with 1 Axes>"
      ]
     },
     "metadata": {
      "needs_background": "light"
     },
     "output_type": "display_data"
    }
   ],
   "source": [
    "plt.scatter(X[:,0],X[:,1],c=y)"
   ]
  },
  {
   "cell_type": "code",
   "execution_count": 22,
   "metadata": {
    "ExecuteTime": {
     "end_time": "2020-11-29T10:43:13.602778Z",
     "start_time": "2020-11-29T10:43:13.597897Z"
    }
   },
   "outputs": [
    {
     "data": {
      "text/plain": [
       "(20, 2)"
      ]
     },
     "execution_count": 22,
     "metadata": {},
     "output_type": "execute_result"
    }
   ],
   "source": [
    "def standardize(x):\n",
    "    mu = x.mean(axis=0)\n",
    "    sigma = x.std(axis=0)\n",
    "    return (x-mu)/sigma\n",
    "\n",
    "z = standardize(X)\n",
    "z.shape"
   ]
  },
  {
   "cell_type": "code",
   "execution_count": 23,
   "metadata": {
    "ExecuteTime": {
     "end_time": "2020-11-29T10:43:13.608633Z",
     "start_time": "2020-11-29T10:43:13.603753Z"
    }
   },
   "outputs": [
    {
     "data": {
      "text/plain": [
       "(20, 4)"
      ]
     },
     "execution_count": 23,
     "metadata": {},
     "output_type": "execute_result"
    }
   ],
   "source": [
    "X = np.c_[np.ones(z.shape[0]),z,z[:,0]**2]\n",
    "X.shape"
   ]
  },
  {
   "cell_type": "code",
   "execution_count": 24,
   "metadata": {
    "ExecuteTime": {
     "end_time": "2020-11-29T10:43:13.659384Z",
     "start_time": "2020-11-29T10:43:13.609608Z"
    }
   },
   "outputs": [
    {
     "data": {
      "text/plain": [
       "(4, 1)"
      ]
     },
     "execution_count": 24,
     "metadata": {},
     "output_type": "execute_result"
    }
   ],
   "source": [
    "def sigmoid(z):\n",
    "    return 1.0/(1+np.exp(-z))\n",
    "\n",
    "def f(x,theta):\n",
    "    return sigmoid(np.dot(x,theta))\n",
    "\n",
    "y = y.reshape(-1,1)\n",
    "eta = 0.01    # 学习率\n",
    "epoch = 5000  # 迭代次数\n",
    "theta = np.random.random((X.shape[1],1))\n",
    "\n",
    "for _ in range(epoch):\n",
    "    theta = theta - eta*X.T.dot(f(X,theta)-y)\n",
    "theta.shape"
   ]
  },
  {
   "cell_type": "code",
   "execution_count": 25,
   "metadata": {
    "ExecuteTime": {
     "end_time": "2020-11-29T10:43:13.760420Z",
     "start_time": "2020-11-29T10:43:13.660361Z"
    }
   },
   "outputs": [
    {
     "data": {
      "text/plain": [
       "[<matplotlib.lines.Line2D at 0x21face6b688>]"
      ]
     },
     "execution_count": 25,
     "metadata": {},
     "output_type": "execute_result"
    },
    {
     "data": {
      "image/png": "[encoded data removed]",
      "text/plain": [
       "<Figure size 432x288 with 1 Axes>"
      ]
     },
     "metadata": {
      "needs_background": "light"
     },
     "output_type": "display_data"
    }
   ],
   "source": [
    "x = np.arange(np.min(X), np.max(X), 0.1)\n",
    "y_pred = -(theta[0][0]+theta[1][0]*x+theta[3][0]*(x**2)) / theta[2][0]\n",
    "plt.scatter(X[:,1],X[:,2],c=y[:,0])\n",
    "plt.plot(x,y_pred,'b-')"
   ]
  },
  {
   "cell_type": "markdown",
   "metadata": {},
   "source": [
    "## 最大熵模型\n",
    "\n",
    "$$H(P)=-\\sum_xP(x)\\ logP(x)，且0\\leq H(P)\\leq log|X|$$"
   ]
  },
  {
   "cell_type": "code",
   "execution_count": null,
   "metadata": {},
   "outputs": [],
   "source": [
    "\n",
    "\n"
   ]
  }
 ],
 "metadata": {
  "kernelspec": {
   "display_name": "Python 3",
   "language": "python",
   "name": "python3"
  },
  "language_info": {
   "codemirror_mode": {
    "name": "ipython",
    "version": 3
   },
   "file_extension": ".py",
   "mimetype": "text/x-python",
   "name": "python",
   "nbconvert_exporter": "python",
   "pygments_lexer": "ipython3",
   "version": "3.7.6"
  },
  "latex_envs": {
   "LaTeX_envs_menu_present": true,
   "autoclose": false,
   "autocomplete": true,
   "bibliofile": "biblio.bib",
   "cite_by": "apalike",
   "current_citInitial": 1,
   "eqLabelWithNumbers": true,
   "eqNumInitial": 1,
   "hotkeys": {
    "equation": "Ctrl-E",
    "itemize": "Ctrl-I"
   },
   "labels_anchors": false,
   "latex_user_defs": false,
   "report_style_numbering": false,
   "user_envs_cfg": false
  },
  "toc": {
   "base_numbering": 1,
   "nav_menu": {},
   "number_sections": true,
   "sideBar": true,
   "skip_h1_title": false,
   "title_cell": "Table of Contents",
   "title_sidebar": "Contents",
   "toc_cell": false,
   "toc_position": {
    "height": "calc(100% - 180px)",
    "left": "10px",
    "top": "150px",
    "width": "219.273px"
   },
   "toc_section_display": true,
   "toc_window_display": true
  }
 },
 "nbformat": 4,
 "nbformat_minor": 4
}
