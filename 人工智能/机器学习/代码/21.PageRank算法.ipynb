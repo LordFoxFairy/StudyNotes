{
 "cells": [
  {
   "cell_type": "markdown",
   "metadata": {},
   "source": [
    "## Pagerank"
   ]
  },
  {
   "cell_type": "code",
   "execution_count": 1,
   "metadata": {
    "ExecuteTime": {
     "end_time": "2020-12-11T12:46:58.645146Z",
     "start_time": "2020-12-11T12:46:58.543095Z"
    }
   },
   "outputs": [],
   "source": [
    "import numpy as np"
   ]
  },
  {
   "cell_type": "code",
   "execution_count": 2,
   "metadata": {
    "ExecuteTime": {
     "end_time": "2020-12-11T12:46:58.657831Z",
     "start_time": "2020-12-11T12:46:58.646118Z"
    }
   },
   "outputs": [
    {
     "data": {
      "text/plain": [
       "array([[0.  , 0.33, 0.  , 0.  , 0.  , 0.  ],\n",
       "       [0.33, 0.  , 0.  , 0.  , 0.  , 0.  ],\n",
       "       [0.  , 0.33, 0.  , 0.  , 0.33, 0.5 ],\n",
       "       [0.33, 0.  , 0.  , 0.  , 0.33, 0.  ],\n",
       "       [0.33, 0.33, 0.  , 0.  , 0.  , 0.5 ],\n",
       "       [0.  , 0.  , 1.  , 0.  , 0.33, 0.  ]])"
      ]
     },
     "execution_count": 2,
     "metadata": {},
     "output_type": "execute_result"
    }
   ],
   "source": [
    "def create_graph(edges,N):\n",
    "    G = np.zeros((N,N))\n",
    "    P = np.zeros((N,N))\n",
    "    for k in range(len(edges)):\n",
    "        i,j = edges[k]-1\n",
    "        G[j][i] = 1\n",
    "        P[j][i] = 1\n",
    "    \n",
    "    for j in range(N):\n",
    "        Nj = G[:,j].sum()\n",
    "        if Nj:\n",
    "            G[:,j] = G[:,j]/Nj\n",
    "            P[:,j] = P[:,j]/Nj\n",
    "        else:\n",
    "            P[:,j] = 1/N*np.ones(N)\n",
    "    \n",
    "    return G,P\n",
    "\n",
    "edges = np.array([\n",
    "    [1,2],[1,4],[1,5],\n",
    "    [2,1],[2,3],[2,5],\n",
    "    [3,6],\n",
    "    [5,3],[5,4],[5,6],\n",
    "    [6,3],[6,5]\n",
    "])\n",
    "N = 6\n",
    "Q,P = create_graph(edges,N)\n",
    "Q.round(2)"
   ]
  },
  {
   "cell_type": "markdown",
   "metadata": {},
   "source": [
    "## Random Walk and Markov Chains"
   ]
  },
  {
   "cell_type": "code",
   "execution_count": 3,
   "metadata": {
    "ExecuteTime": {
     "end_time": "2020-12-11T12:46:58.668567Z",
     "start_time": "2020-12-11T12:46:58.658806Z"
    }
   },
   "outputs": [
    {
     "data": {
      "text/plain": [
       "array([[0.  , 0.33, 0.  , 0.17, 0.  , 0.  ],\n",
       "       [0.33, 0.  , 0.  , 0.17, 0.  , 0.  ],\n",
       "       [0.  , 0.33, 0.  , 0.17, 0.33, 0.5 ],\n",
       "       [0.33, 0.  , 0.  , 0.17, 0.33, 0.  ],\n",
       "       [0.33, 0.33, 0.  , 0.17, 0.  , 0.5 ],\n",
       "       [0.  , 0.  , 1.  , 0.17, 0.33, 0.  ]])"
      ]
     },
     "execution_count": 3,
     "metadata": {},
     "output_type": "execute_result"
    }
   ],
   "source": [
    "def create_graph(edges,N):\n",
    "    G = np.zeros((N,N))\n",
    "    P = np.zeros((N,N))\n",
    "    for k in range(len(edges)):\n",
    "        i,j = edges[k]-1\n",
    "        G[j][i] = 1\n",
    "        P[j][i] = 1\n",
    "    \n",
    "    for j in range(N):\n",
    "        Nj = G[:,j].sum()\n",
    "        if Nj:\n",
    "            G[:,j] = G[:,j]/Nj\n",
    "            P[:,j] = P[:,j]/Nj\n",
    "        else:\n",
    "            P[:,j] = 1/N*np.ones(N)\n",
    "    \n",
    "    return G,P\n",
    "\n",
    "def transition_matrix(P,alpha):\n",
    "    N = P.shape[0]\n",
    "    A = alpha*P+(1-alpha)/N*np.ones((N,N))\n",
    "    return A\n",
    "\n",
    "edges = np.array([\n",
    "    [1,2],[1,4],[1,5],\n",
    "    [2,1],[2,3],[2,5],\n",
    "    [3,6],\n",
    "    [5,3],[5,4],[5,6],\n",
    "    [6,3],[6,5]\n",
    "])\n",
    "N = 6\n",
    "Q,P = create_graph(edges,N)\n",
    "# A = transition_matrix(P,0.85)\n",
    "P.round(2)"
   ]
  },
  {
   "cell_type": "code",
   "execution_count": 4,
   "metadata": {
    "ExecuteTime": {
     "end_time": "2020-12-11T12:46:58.675401Z",
     "start_time": "2020-12-11T12:46:58.669543Z"
    }
   },
   "outputs": [
    {
     "data": {
      "text/plain": [
       "array([[0.03, 0.45, 0.45, 0.45, 0.03, 0.03],\n",
       "       [0.45, 0.03, 0.45, 0.03, 0.03, 0.03],\n",
       "       [0.45, 0.45, 0.03, 0.03, 0.03, 0.03],\n",
       "       [0.03, 0.03, 0.03, 0.03, 0.03, 0.03],\n",
       "       [0.03, 0.03, 0.03, 0.45, 0.03, 0.88],\n",
       "       [0.03, 0.03, 0.03, 0.03, 0.88, 0.03]])"
      ]
     },
     "execution_count": 4,
     "metadata": {},
     "output_type": "execute_result"
    }
   ],
   "source": [
    "P = np.array([\n",
    "    [0,0.5,0.5,0.5,0,0],\n",
    "    [0.5,0,0.5,0,0,0],\n",
    "    [0.5,0.5,0,0,0,0],\n",
    "    [0,0,0,0,0,0],\n",
    "    [0,0,0,0.5,0,1],\n",
    "    [0,0,0,0,1,0]\n",
    "])\n",
    "# A = alpha+(1-alpha)/n*(e*e.T)\n",
    "A = transition_matrix(P,0.85)\n",
    "A.round(2)"
   ]
  },
  {
   "cell_type": "code",
   "execution_count": 5,
   "metadata": {
    "ExecuteTime": {
     "end_time": "2020-12-11T12:46:58.691991Z",
     "start_time": "2020-12-11T12:46:58.676376Z"
    }
   },
   "outputs": [
    {
     "data": {
      "text/plain": [
       "array([-0.5,  1. , -0.5,  1. , -1. ,  0. ])"
      ]
     },
     "execution_count": 5,
     "metadata": {},
     "output_type": "execute_result"
    }
   ],
   "source": [
    "LP = np.linalg.eig(P)[0]\n",
    "LP"
   ]
  },
  {
   "cell_type": "code",
   "execution_count": 6,
   "metadata": {
    "ExecuteTime": {
     "end_time": "2020-12-11T12:46:58.698823Z",
     "start_time": "2020-12-11T12:46:58.692966Z"
    }
   },
   "outputs": [
    {
     "data": {
      "text/plain": [
       "(array([ 1.   ,  0.85 ,  0.   , -0.85 , -0.425, -0.425]),\n",
       " array([[-0.447,  0.365,  0.354, -0.   , -0.816, -0.172],\n",
       "        [-0.43 ,  0.365, -0.354, -0.   ,  0.408, -0.605],\n",
       "        [-0.43 ,  0.365, -0.354,  0.   ,  0.408,  0.777],\n",
       "        [-0.057, -0.   ,  0.707, -0.   ,  0.   ,  0.   ],\n",
       "        [-0.469, -0.548, -0.   , -0.707,  0.   ,  0.   ],\n",
       "        [-0.456, -0.548, -0.354,  0.707, -0.   , -0.   ]]))"
      ]
     },
     "execution_count": 6,
     "metadata": {},
     "output_type": "execute_result"
    }
   ],
   "source": [
    "L,R = np.linalg.eig(A)\n",
    "L.round(3),R.round(3)"
   ]
  },
  {
   "cell_type": "code",
   "execution_count": 7,
   "metadata": {
    "ExecuteTime": {
     "end_time": "2020-12-11T12:46:58.710535Z",
     "start_time": "2020-12-11T12:46:58.699809Z"
    }
   },
   "outputs": [
    {
     "data": {
      "text/plain": [
       "(array([[ 1.  , -0.  ,  0.  , -0.  , -0.  , -0.  ],\n",
       "        [ 0.22,  0.02,  0.16,  0.14,  0.06, -0.07],\n",
       "        [-0.11,  0.27, -0.09,  0.09, -0.01, -0.03],\n",
       "        [-0.09,  0.07,  0.17,  0.15, -0.04, -0.04],\n",
       "        [ 0.07,  0.06, -0.05, -0.02, -0.11,  0.01],\n",
       "        [-0.02, -0.07, -0.02, -0.04,  0.01, -0.07]]),\n",
       " array([[ 0.85, -0.  ,  0.  , -0.  , -0.  , -0.  ],\n",
       "        [ 0.22,  0.02,  0.16,  0.14,  0.06, -0.07],\n",
       "        [-0.11,  0.27, -0.09,  0.09, -0.01, -0.03],\n",
       "        [-0.09,  0.07,  0.17,  0.15, -0.04, -0.04],\n",
       "        [ 0.07,  0.06, -0.05, -0.02, -0.11,  0.01],\n",
       "        [-0.02, -0.07, -0.02, -0.04,  0.01, -0.07]]))"
      ]
     },
     "execution_count": 7,
     "metadata": {},
     "output_type": "execute_result"
    }
   ],
   "source": [
    "def schmidt_orthogonalization(A):\n",
    "    \n",
    "    m,n = A.shape\n",
    "    Beta = np.zeros((m,n))\n",
    "    E = np.zeros((m,n))\n",
    "    R = np.eye(n,n)\n",
    "    \n",
    "    for r in range(n):\n",
    "        \n",
    "        Beta[:,r] = A[:,r]\n",
    "        tmp = 0\n",
    "        for j in range(r):\n",
    "            \n",
    "            tmp = tmp + Beta[:,j]*(A[:,r].dot(Beta[:,j]) / (Beta[:,j].dot(Beta[:,j])))\n",
    "            \n",
    "            R[j,r] = (A[:,r].dot(Beta[:,j]) / (Beta[:,j].dot(Beta[:,j])))\n",
    "            \n",
    "        Beta[:,r] = Beta[:,r] - tmp\n",
    "        E[:,r] = Beta[:,r] / np.linalg.norm(Beta[:,r],ord=2)\n",
    "    return Beta,R,E\n",
    "\n",
    "U = np.random.random((N,N))\n",
    "U[:,0] = np.ones(N)/np.sqrt(N)\n",
    "U = schmidt_orthogonalization(U)[0]\n",
    "U.T.dot(A).dot(U).round(2),(U.T.dot(P).dot(U)*0.85).round(2)"
   ]
  },
  {
   "cell_type": "code",
   "execution_count": 8,
   "metadata": {
    "ExecuteTime": {
     "end_time": "2020-12-11T12:46:58.717367Z",
     "start_time": "2020-12-11T12:46:58.712487Z"
    }
   },
   "outputs": [
    {
     "data": {
      "text/plain": [
       "array([[-0.15, -0.  , -0.  ,  0.  ,  0.  ,  0.  ],\n",
       "       [ 0.  ,  0.  ,  0.  ,  0.  ,  0.  , -0.  ],\n",
       "       [-0.  ,  0.  , -0.  ,  0.  ,  0.  ,  0.  ],\n",
       "       [ 0.  ,  0.  ,  0.  ,  0.  ,  0.  ,  0.  ],\n",
       "       [ 0.  , -0.  ,  0.  ,  0.  ,  0.  , -0.  ],\n",
       "       [ 0.  ,  0.  ,  0.  ,  0.  , -0.  ,  0.  ]])"
      ]
     },
     "execution_count": 8,
     "metadata": {},
     "output_type": "execute_result"
    }
   ],
   "source": [
    "(U.T.dot(P).dot(U)*0.85-U.T.dot(A).dot(U)).round(3)"
   ]
  },
  {
   "cell_type": "code",
   "execution_count": 9,
   "metadata": {
    "ExecuteTime": {
     "end_time": "2020-12-11T12:46:58.723223Z",
     "start_time": "2020-12-11T12:46:58.718343Z"
    }
   },
   "outputs": [
    {
     "data": {
      "text/plain": [
       "0.9999999999999999"
      ]
     },
     "execution_count": 9,
     "metadata": {},
     "output_type": "execute_result"
    }
   ],
   "source": [
    "v = np.ones(N)/N\n",
    "np.linalg.norm(v,ord=1)"
   ]
  },
  {
   "cell_type": "code",
   "execution_count": 10,
   "metadata": {
    "ExecuteTime": {
     "end_time": "2020-12-11T12:46:58.729080Z",
     "start_time": "2020-12-11T12:46:58.724199Z"
    }
   },
   "outputs": [
    {
     "data": {
      "text/plain": [
       "array([[0.15 , 0.575, 0.575, 0.575, 0.15 , 0.15 ],\n",
       "       [0.575, 0.15 , 0.575, 0.15 , 0.15 , 0.15 ],\n",
       "       [0.575, 0.575, 0.15 , 0.15 , 0.15 , 0.15 ],\n",
       "       [0.15 , 0.15 , 0.15 , 0.15 , 0.15 , 0.15 ],\n",
       "       [0.15 , 0.15 , 0.15 , 0.575, 0.15 , 1.   ],\n",
       "       [0.15 , 0.15 , 0.15 , 0.15 , 1.   , 0.15 ]])"
      ]
     },
     "execution_count": 10,
     "metadata": {},
     "output_type": "execute_result"
    }
   ],
   "source": [
    "alpha = 0.85\n",
    "A = alpha*P + (1-alpha)*v.dot(np.ones(N).T)\n",
    "A"
   ]
  },
  {
   "cell_type": "markdown",
   "metadata": {},
   "source": [
    "## The Power Method for Pagerank Computation"
   ]
  },
  {
   "cell_type": "markdown",
   "metadata": {},
   "source": [
    "* 迭代算法"
   ]
  },
  {
   "cell_type": "code",
   "execution_count": 11,
   "metadata": {
    "ExecuteTime": {
     "end_time": "2020-12-11T12:46:58.739815Z",
     "start_time": "2020-12-11T12:46:58.730055Z"
    }
   },
   "outputs": [
    {
     "name": "stdout",
     "output_type": "stream",
     "text": [
      "0.1885618083164127\n",
      "0.15084944665313016\n",
      "0.10451156235874898\n",
      "0.04827182292900171\n",
      "0.019308729171600644\n",
      "0.015446983337280484\n",
      "0.010701983985535833\n",
      "0.004943034667929754\n",
      "0.0019772138671718857\n",
      "0.0015817710937375401\n",
      "0.0010958831601189393\n",
      "0.0005061667499960654\n"
     ]
    },
    {
     "data": {
      "text/plain": [
       "array([0.3837, 0.22  , 0.3963])"
      ]
     },
     "execution_count": 11,
     "metadata": {},
     "output_type": "execute_result"
    }
   ],
   "source": [
    "def calcR(d,M,R,N):\n",
    "    return d*M.dot(R)+(1-d)/n*np.ones(n)\n",
    "\n",
    "# M = np.array([\n",
    "#     [0,1/2,0,0],\n",
    "#     [1/3,0,0,1/2],\n",
    "#     [1/3,0,1,1/2],\n",
    "#     [1/3,1/2,0,0]\n",
    "# ])\n",
    "M = np.array([\n",
    "    [0,0,1],\n",
    "    [1/2,0,0],\n",
    "    [1/2,1,0],\n",
    "])\n",
    "d = 0.8\n",
    "n = M.shape[0]\n",
    "OldR = np.ones(n)/n\n",
    "NewR = -OldR\n",
    "diff = 1000\n",
    "while diff > 1e-3:\n",
    "    NewR = calcR(d,M,OldR,n)\n",
    "    diff = np.linalg.norm(NewR-OldR,ord=2)\n",
    "    print(diff)\n",
    "    OldR = NewR\n",
    "R = NewR\n",
    "R.round(4)"
   ]
  },
  {
   "cell_type": "markdown",
   "metadata": {},
   "source": [
    "* 幂法\n",
    "$$\n",
    "R = (dM+\\frac{1-d}{n}E)R = AR\n",
    "$$"
   ]
  },
  {
   "cell_type": "code",
   "execution_count": 12,
   "metadata": {
    "ExecuteTime": {
     "end_time": "2020-12-11T12:46:58.749576Z",
     "start_time": "2020-12-11T12:46:58.740791Z"
    }
   },
   "outputs": [
    {
     "name": "stdout",
     "output_type": "stream",
     "text": [
      "0.6668974669736215\n",
      "0.3702313709852009\n",
      "0.31099948896081986\n",
      "0.1516141644327309\n",
      "0.06877193803821591\n",
      "0.06312619802438128\n",
      "0.050162422430656446\n",
      "0.020257773138106207\n",
      "0.011069399314656144\n",
      "0.01055877407541046\n",
      "0.006611574253362566\n",
      "0.0026354683485579895\n",
      "0.0014448586290107324\n",
      "0.001379721377072195\n",
      "0.0008616913195637558\n"
     ]
    },
    {
     "data": {
      "text/plain": [
       "array([0.3879, 0.2147, 0.3974])"
      ]
     },
     "execution_count": 12,
     "metadata": {},
     "output_type": "execute_result"
    }
   ],
   "source": [
    "def calcR(A,R):\n",
    "    return A.dot(R)\n",
    "\n",
    "def calcA(d,M,R,N):\n",
    "    return d*M+(1-d)/n*np.ones((n,n))\n",
    "\n",
    "M = np.array([\n",
    "    [0,0,1],\n",
    "    [1/2,0,0],\n",
    "    [1/2,1,0],\n",
    "])\n",
    "d = 0.85\n",
    "n = M.shape[0]\n",
    "OldR = np.ones(n)\n",
    "A = calcA(d,M,OldR,n)\n",
    "NewR = OldR\n",
    "diff = 1000\n",
    "Rs = [OldR]\n",
    "\n",
    "while diff > 1e-3:\n",
    "    y = calcR(A,OldR)\n",
    "    x = y/np.max(y)\n",
    "    NewR = x\n",
    "    diff = np.linalg.norm(NewR-OldR,ord=2)\n",
    "    print(diff)\n",
    "    OldR = NewR\n",
    "    Rs.append(NewR)\n",
    "\n",
    "R = NewR/np.sum(NewR)\n",
    "R.round(4)"
   ]
  },
  {
   "cell_type": "markdown",
   "metadata": {},
   "source": [
    "* 代数法"
   ]
  },
  {
   "cell_type": "code",
   "execution_count": 13,
   "metadata": {
    "ExecuteTime": {
     "end_time": "2020-12-11T12:46:58.757383Z",
     "start_time": "2020-12-11T12:46:58.750552Z"
    }
   },
   "outputs": [
    {
     "data": {
      "text/plain": [
       "array([0.3878, 0.2148, 0.3974])"
      ]
     },
     "execution_count": 13,
     "metadata": {},
     "output_type": "execute_result"
    }
   ],
   "source": [
    "d = 0.85\n",
    "M = np.array([\n",
    "    [0,0,1],\n",
    "    [1/2,0,0],\n",
    "    [1/2,1,0],\n",
    "])\n",
    "n = M.shape[0]\n",
    "I = np.eye(n)\n",
    "R = np.linalg.pinv(I-d*M).dot((1-d)/n*np.ones(n))\n",
    "R.round(4)"
   ]
  },
  {
   "cell_type": "code",
   "execution_count": null,
   "metadata": {},
   "outputs": [],
   "source": []
  }
 ],
 "metadata": {
  "kernelspec": {
   "display_name": "Python 3",
   "language": "python",
   "name": "python3"
  },
  "language_info": {
   "codemirror_mode": {
    "name": "ipython",
    "version": 3
   },
   "file_extension": ".py",
   "mimetype": "text/x-python",
   "name": "python",
   "nbconvert_exporter": "python",
   "pygments_lexer": "ipython3",
   "version": "3.7.6"
  },
  "toc": {
   "base_numbering": 1,
   "nav_menu": {},
   "number_sections": true,
   "sideBar": true,
   "skip_h1_title": false,
   "title_cell": "Table of Contents",
   "title_sidebar": "Contents",
   "toc_cell": false,
   "toc_position": {},
   "toc_section_display": true,
   "toc_window_display": false
  }
 },
 "nbformat": 4,
 "nbformat_minor": 4
}
