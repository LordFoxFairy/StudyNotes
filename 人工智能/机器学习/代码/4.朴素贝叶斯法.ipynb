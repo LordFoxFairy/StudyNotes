{
 "cells": [
  {
   "cell_type": "markdown",
   "metadata": {},
   "source": [
    "# 朴素贝叶斯\n",
    "\n",
    "\n",
    "## 基本\n",
    "\n",
    "设输入空间$X\\in R^n$为n维向量的集合，输出空间为类标记集合$Y=\\{c_1,c_2,\\cdots,c_K\\}$。 \\\n",
    "输入为特征向量$x\\in X$,输出为类标记(class label) $y\\in Y$。\n",
    "\n",
    "首先看看先验概率和后验概率：\\\n",
    "* 什么是先验概率？\n",
    "\n",
    "* 什么是后验概率？\n",
    "\n",
    "\n",
    "朴素贝叶斯模型描述中的条件独立性假设：$$p(x|y)=\\prod\\limits_{i=1}^np(x_i|y)$$\n",
    "\n",
    "即：$$x_i\\perp x_j|y,\\forall\\  i\\ne j$$\n",
    "\n",
    "于是利用贝叶斯定理，对于单次观测：$$p(y|x)=\\frac{p(x|y)p(y)}{p(x)}=\\frac{\\prod\\limits_{i=1}^pp(x_i|y)p(y)}{p(x)}$$\n",
    " \n",
    "将输入$x$分到后验概率最大的类$y$。\n",
    "\n",
    "$$y=\\arg \\max _{c_{k}} P\\left(Y=c_{k}\\right) \\prod_{j=1}^{n} P\\left(X_{j}=x^{(j)} | Y=c_{k}\\right)$$\n",
    "\n",
    "后验概率最大等价于0-1损失函数时的期望风险最小化。\n",
    "\n",
    "\n",
    "模型：\n",
    "\n",
    "- 高斯模型\n",
    "- 多项式模型\n",
    "- 伯努利模型"
   ]
  },
  {
   "cell_type": "markdown",
   "metadata": {},
   "source": [
    "## 数据集"
   ]
  },
  {
   "cell_type": "code",
   "execution_count": 1,
   "metadata": {
    "ExecuteTime": {
     "end_time": "2020-11-17T13:23:51.084874Z",
     "start_time": "2020-11-17T13:23:50.033924Z"
    }
   },
   "outputs": [],
   "source": [
    "import numpy as np\n",
    "import pandas as pd\n",
    "import matplotlib.pyplot as plt\n",
    "%matplotlib inline\n",
    "\n",
    "from sklearn.datasets import load_iris\n",
    "from sklearn.model_selection import train_test_split\n",
    "\n",
    "from collections import Counter\n",
    "import math"
   ]
  },
  {
   "cell_type": "code",
   "execution_count": 2,
   "metadata": {
    "ExecuteTime": {
     "end_time": "2020-11-17T13:23:51.090730Z",
     "start_time": "2020-11-17T13:23:51.085850Z"
    }
   },
   "outputs": [],
   "source": [
    "# data\n",
    "def create_data():\n",
    "    iris = load_iris()\n",
    "    df = pd.DataFrame(iris.data, columns=iris.feature_names)\n",
    "    df['label'] = iris.target\n",
    "    df.columns = [\n",
    "        'sepal length', 'sepal width', 'petal length', 'petal width', 'label'\n",
    "    ]\n",
    "    data = np.array(df.iloc[:100, :])\n",
    "    # print(data)\n",
    "    return data[:, :-1], data[:, -1]"
   ]
  },
  {
   "cell_type": "code",
   "execution_count": 3,
   "metadata": {
    "ExecuteTime": {
     "end_time": "2020-11-17T13:23:51.108263Z",
     "start_time": "2020-11-17T13:23:51.092611Z"
    }
   },
   "outputs": [],
   "source": [
    "X, y = create_data()\n",
    "X_train, X_test, y_train, y_test = train_test_split(X, y, test_size=0.3)"
   ]
  },
  {
   "cell_type": "code",
   "execution_count": 4,
   "metadata": {
    "ExecuteTime": {
     "end_time": "2020-11-17T13:23:51.114120Z",
     "start_time": "2020-11-17T13:23:51.109240Z"
    }
   },
   "outputs": [
    {
     "data": {
      "text/plain": [
       "(array([6.4, 2.9, 4.3, 1.3]), 1.0)"
      ]
     },
     "execution_count": 4,
     "metadata": {},
     "output_type": "execute_result"
    }
   ],
   "source": [
    "X_test[0], y_test[0]"
   ]
  },
  {
   "cell_type": "markdown",
   "metadata": {},
   "source": [
    "## 手动实现"
   ]
  },
  {
   "cell_type": "code",
   "execution_count": 5,
   "metadata": {
    "ExecuteTime": {
     "end_time": "2020-11-17T13:23:51.132663Z",
     "start_time": "2020-11-17T13:23:51.115097Z"
    }
   },
   "outputs": [
    {
     "data": {
      "text/plain": [
       "'train done!'"
      ]
     },
     "execution_count": 5,
     "metadata": {},
     "output_type": "execute_result"
    }
   ],
   "source": [
    "class NaiveBayes:\n",
    "    \n",
    "    def __init__(self,):\n",
    "        self.category = None\n",
    "    \n",
    "    def mu(self,X):\n",
    "        \"\"\"\n",
    "        数学期望\n",
    "        \"\"\"\n",
    "        return np.mean(X)\n",
    "    \n",
    "    def std(self,X):\n",
    "        \"\"\"\n",
    "        方差\n",
    "        \"\"\"\n",
    "        mu = self.mu(X)\n",
    "        return np.sqrt(np.sum(np.power(X-mu,2))/len(X)*1.0 )\n",
    "    \n",
    "    def gaussian_probobility(self,x,mu,sigma):\n",
    "        \"\"\"\n",
    "        高斯概率密度\n",
    "        \"\"\"\n",
    "        exponent = np.exp(-1.0*(np.power(x-mu,2)/(2*np.power(sigma,2))))\n",
    "        return 1.0 / (np.sqrt(2*np.pi) * sigma) * exponent\n",
    "    \n",
    "    \n",
    "\n",
    "    def fit(self,X,y):\n",
    "        \"\"\"\n",
    "        训练数据\n",
    "        \"\"\"\n",
    "        labels = np.unique(y)                  # 类别\n",
    "        data = {label:[] for label in labels} # 属于该类别的数据\n",
    "        for x,label in zip(X,y):\n",
    "            data[label].append(x)\n",
    "        \n",
    "        # 类别\n",
    "        self.category = {\n",
    "            label:self.summarize(value)\n",
    "            for label,value in data.items()\n",
    "        }\n",
    "        \n",
    "#         print(self.category)\n",
    "        return \"train done!\"\n",
    "            \n",
    "    def summarize(self,train_data):\n",
    "        \"\"\"\n",
    "        处理训练数据,将x数据的均值以及标准差进行包装\n",
    "        \"\"\"\n",
    "        summaries = [(self.mu(x),self.std(x)) for x in zip(*train_data)]\n",
    "        return summaries\n",
    "            \n",
    "    def calculate_probabilities(self,data):\n",
    "        \"\"\"\n",
    "        计算概率\n",
    "        \"\"\"\n",
    "        probabilities = {}\n",
    "        for label,value in self.category.items():\n",
    "            probabilities[label] = 1\n",
    "            for i in range(len(value)):\n",
    "                mu,std = value[i]\n",
    "                # 计算概率\n",
    "                probabilities[label] *= self.gaussian_probobility(data[i],mu,std)\n",
    "        return probabilities\n",
    "\n",
    "    def predict(self,X_test):\n",
    "        \"\"\"\n",
    "        预测数据类别\n",
    "        \"\"\"\n",
    "        label = sorted(\n",
    "            self.calculate_probabilities(X_test).items(),\n",
    "            key=lambda x: x[-1]\n",
    "        )[-1][0] # 进行排序，选择最大的概率\n",
    "        \n",
    "        return label\n",
    "        \n",
    "    def score(self,X_test,y_test):\n",
    "        \"\"\"\n",
    "        准确率\n",
    "        \"\"\"\n",
    "        count = 0\n",
    "        for X,y in zip(X_test,y_test):\n",
    "            label = self.predict(X)\n",
    "            if label == y:\n",
    "                count = count + 1\n",
    "        return count / len(X_test) * 1.0\n",
    "    \n",
    "nb = NaiveBayes()\n",
    "nb.fit(X_train,y_train)"
   ]
  },
  {
   "cell_type": "code",
   "execution_count": 6,
   "metadata": {
    "ExecuteTime": {
     "end_time": "2020-11-17T13:23:51.138519Z",
     "start_time": "2020-11-17T13:23:51.133640Z"
    }
   },
   "outputs": [
    {
     "data": {
      "text/plain": [
       "0.0"
      ]
     },
     "execution_count": 6,
     "metadata": {},
     "output_type": "execute_result"
    }
   ],
   "source": [
    "nb.predict([4.4,  3.2,  1.3,  0.2])"
   ]
  },
  {
   "cell_type": "code",
   "execution_count": 7,
   "metadata": {
    "ExecuteTime": {
     "end_time": "2020-11-17T13:23:51.146327Z",
     "start_time": "2020-11-17T13:23:51.139495Z"
    }
   },
   "outputs": [
    {
     "data": {
      "text/plain": [
       "1.0"
      ]
     },
     "execution_count": 7,
     "metadata": {},
     "output_type": "execute_result"
    }
   ],
   "source": [
    "nb.score(X_test, y_test)"
   ]
  },
  {
   "cell_type": "markdown",
   "metadata": {},
   "source": [
    "## sklearn实现"
   ]
  },
  {
   "cell_type": "code",
   "execution_count": 8,
   "metadata": {
    "ExecuteTime": {
     "end_time": "2020-11-17T13:23:51.156088Z",
     "start_time": "2020-11-17T13:23:51.148280Z"
    }
   },
   "outputs": [
    {
     "data": {
      "text/plain": [
       "GaussianNB(priors=None, var_smoothing=1e-09)"
      ]
     },
     "execution_count": 8,
     "metadata": {},
     "output_type": "execute_result"
    }
   ],
   "source": [
    "from sklearn.naive_bayes import GaussianNB\n",
    "\n",
    "gnb = GaussianNB()\n",
    "gnb.fit(X_train,y_train)"
   ]
  },
  {
   "cell_type": "code",
   "execution_count": 9,
   "metadata": {
    "ExecuteTime": {
     "end_time": "2020-11-17T13:23:51.161946Z",
     "start_time": "2020-11-17T13:23:51.157064Z"
    }
   },
   "outputs": [
    {
     "data": {
      "text/plain": [
       "1.0"
      ]
     },
     "execution_count": 9,
     "metadata": {},
     "output_type": "execute_result"
    }
   ],
   "source": [
    "gnb.score(X_test,y_test)"
   ]
  },
  {
   "cell_type": "code",
   "execution_count": 10,
   "metadata": {
    "ExecuteTime": {
     "end_time": "2020-11-17T13:23:51.167800Z",
     "start_time": "2020-11-17T13:23:51.162921Z"
    }
   },
   "outputs": [
    {
     "data": {
      "text/plain": [
       "array([0.])"
      ]
     },
     "execution_count": 10,
     "metadata": {},
     "output_type": "execute_result"
    }
   ],
   "source": [
    "gnb.predict([[4.4,  3.2,  1.3,  0.2]])"
   ]
  },
  {
   "cell_type": "code",
   "execution_count": 11,
   "metadata": {
    "ExecuteTime": {
     "end_time": "2020-11-17T13:23:51.172680Z",
     "start_time": "2020-11-17T13:23:51.168776Z"
    }
   },
   "outputs": [],
   "source": [
    "from sklearn.naive_bayes import BernoulliNB, MultinomialNB # 伯努利模型和多项式模型"
   ]
  },
  {
   "cell_type": "code",
   "execution_count": 12,
   "metadata": {
    "ExecuteTime": {
     "end_time": "2020-11-17T13:23:51.183416Z",
     "start_time": "2020-11-17T13:23:51.173656Z"
    }
   },
   "outputs": [
    {
     "data": {
      "text/plain": [
       "0.4666666666666667"
      ]
     },
     "execution_count": 12,
     "metadata": {},
     "output_type": "execute_result"
    }
   ],
   "source": [
    "bnb = BernoulliNB()\n",
    "bnb.fit(X_train,y_train)\n",
    "bnb.score(X_test,y_test)"
   ]
  },
  {
   "cell_type": "code",
   "execution_count": 13,
   "metadata": {
    "ExecuteTime": {
     "end_time": "2020-11-17T13:23:51.191224Z",
     "start_time": "2020-11-17T13:23:51.184391Z"
    }
   },
   "outputs": [
    {
     "data": {
      "text/plain": [
       "1.0"
      ]
     },
     "execution_count": 13,
     "metadata": {},
     "output_type": "execute_result"
    }
   ],
   "source": [
    "mnb = MultinomialNB()\n",
    "mnb.fit(X_train,y_train)\n",
    "mnb.score(X_test,y_test)"
   ]
  }
 ],
 "metadata": {
  "kernelspec": {
   "display_name": "Python 3",
   "language": "python",
   "name": "python3"
  },
  "language_info": {
   "codemirror_mode": {
    "name": "ipython",
    "version": 3
   },
   "file_extension": ".py",
   "mimetype": "text/x-python",
   "name": "python",
   "nbconvert_exporter": "python",
   "pygments_lexer": "ipython3",
   "version": "3.7.6"
  },
  "latex_envs": {
   "LaTeX_envs_menu_present": true,
   "autoclose": false,
   "autocomplete": true,
   "bibliofile": "biblio.bib",
   "cite_by": "apalike",
   "current_citInitial": 1,
   "eqLabelWithNumbers": true,
   "eqNumInitial": 1,
   "hotkeys": {
    "equation": "Ctrl-E",
    "itemize": "Ctrl-I"
   },
   "labels_anchors": false,
   "latex_user_defs": false,
   "report_style_numbering": false,
   "user_envs_cfg": false
  },
  "toc": {
   "base_numbering": 1,
   "nav_menu": {},
   "number_sections": true,
   "sideBar": true,
   "skip_h1_title": false,
   "title_cell": "Table of Contents",
   "title_sidebar": "Contents",
   "toc_cell": false,
   "toc_position": {},
   "toc_section_display": true,
   "toc_window_display": true
  }
 },
 "nbformat": 4,
 "nbformat_minor": 4
}
