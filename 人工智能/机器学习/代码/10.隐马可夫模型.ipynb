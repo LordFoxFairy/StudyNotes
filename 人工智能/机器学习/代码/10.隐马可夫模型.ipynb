{
 "cells": [
  {
   "cell_type": "markdown",
   "metadata": {},
   "source": [
    "# 隐马可夫模型"
   ]
  },
  {
   "cell_type": "markdown",
   "metadata": {},
   "source": [
    "例10.2 考虑盒子和求模型$\\lambda=(A,B,\\pi)$，状态集合$Q=\\{1,2,3\\}$，观测集合$V=\\{红，白\\}$。"
   ]
  },
  {
   "cell_type": "code",
   "execution_count": 1,
   "metadata": {
    "ExecuteTime": {
     "end_time": "2020-11-27T06:29:24.518442Z",
     "start_time": "2020-11-27T06:29:24.223690Z"
    }
   },
   "outputs": [],
   "source": [
    "import numpy as np\n",
    "np.set_printoptions(suppress=True, threshold=np.inf,precision=10)\n",
    "\n",
    "A = np.array([ # 状态转移概率分布\n",
    "    [.5,.2,.3],\n",
    "    [.3,.5,.2],\n",
    "    [.2,.3,.5]\n",
    "])\n",
    "B = np.array([ # 观测概率分布\n",
    "    [.5,.5],\n",
    "    [.4,.6],\n",
    "    [.7,.3]\n",
    "])\n",
    "pi = np.array([ # 初始概率分布 => 状态的分布\n",
    "    .2,.4,.4\n",
    "])\n",
    "\n",
    "O = [0,1,0,1] # 1表示红，0表示白 # 观测序列\n",
    "T = len(O) # 序列长度\n",
    "M,N = A.shape[1],B.shape[0]"
   ]
  },
  {
   "cell_type": "markdown",
   "metadata": {},
   "source": [
    "计算$\\alpha_1(1)=\\pi_1 b_1(o_1)$，$\\alpha_1(2)=\\pi_2 b_2(o_1)$，$\\alpha_1(3)=\\pi_3 b_3(o_1)$"
   ]
  },
  {
   "cell_type": "code",
   "execution_count": 2,
   "metadata": {
    "ExecuteTime": {
     "end_time": "2020-11-27T06:29:24.534057Z",
     "start_time": "2020-11-27T06:29:24.521372Z"
    }
   },
   "outputs": [
    {
     "data": {
      "text/plain": [
       "array([0.1 , 0.16, 0.28])"
      ]
     },
     "execution_count": 2,
     "metadata": {},
     "output_type": "execute_result"
    }
   ],
   "source": [
    "alpha1 = B[:,O[0]]*pi\n",
    "alpha1 = alpha1.flatten()\n",
    "alpha1"
   ]
  },
  {
   "cell_type": "markdown",
   "metadata": {},
   "source": [
    "递推\n",
    "\n",
    "$\\alpha_2(1)=[\\sum^3_{i=1} \\ \\alpha_1(i)a_{i1}]b_1(o_2)$，\\\n",
    "$\\alpha_2(2)=[\\sum^3_{i=1} \\ \\alpha_1(i)a_{i2}]b_2(o_2)$，\\\n",
    "$\\alpha_2(3)=[\\sum^3_{i=1} \\ \\alpha_1(i)a_{i3}]b_3(o_2)$，\\\n",
    "$\\alpha_3(1)=[\\sum^3_{i=1} \\ \\alpha_2(i)a_{i1}]b_1(o_3)$，\\\n",
    "$\\alpha_3(2)=[\\sum^3_{i=1} \\ \\alpha_2(i)a_{i2}]b_2(o_3)$，\\\n",
    "$\\alpha_3(3)=[\\sum^3_{i=1} \\ \\alpha_2(i)a_{i3}]b_3(o_3)$，"
   ]
  },
  {
   "cell_type": "code",
   "execution_count": 3,
   "metadata": {
    "ExecuteTime": {
     "end_time": "2020-11-27T06:29:24.547722Z",
     "start_time": "2020-11-27T06:29:24.538939Z"
    }
   },
   "outputs": [
    {
     "data": {
      "text/plain": [
       "array([0.077 , 0.1104, 0.0606])"
      ]
     },
     "execution_count": 3,
     "metadata": {},
     "output_type": "execute_result"
    }
   ],
   "source": [
    "alpha2 = np.array([A[:,i].dot(alpha1)*B[i,O[1]] for i in range(M)]) # B[i,1]表示白的状态转移概率分布，B[i,0]表示红的状态转移概率分布\n",
    "alpha2.round(4)"
   ]
  },
  {
   "cell_type": "code",
   "execution_count": 4,
   "metadata": {
    "ExecuteTime": {
     "end_time": "2020-11-27T06:29:24.557481Z",
     "start_time": "2020-11-27T06:29:24.550651Z"
    }
   },
   "outputs": [
    {
     "data": {
      "text/plain": [
       "array([0.04187, 0.03551, 0.05284])"
      ]
     },
     "execution_count": 4,
     "metadata": {},
     "output_type": "execute_result"
    }
   ],
   "source": [
    "alpha3 = np.array([A[:,i].dot(alpha2)*B[i,O[0]] for i in range(M)])\n",
    "alpha3.round(5)"
   ]
  },
  {
   "cell_type": "code",
   "execution_count": 5,
   "metadata": {
    "ExecuteTime": {
     "end_time": "2020-11-27T06:29:24.570169Z",
     "start_time": "2020-11-27T06:29:24.559434Z"
    }
   },
   "outputs": [
    {
     "data": {
      "text/plain": [
       "array([0.02108, 0.02519, 0.01382])"
      ]
     },
     "execution_count": 5,
     "metadata": {},
     "output_type": "execute_result"
    }
   ],
   "source": [
    "alpha4 = np.array([A[:,i].dot(alpha3)*B[i,O[1]] for i in range(M)])\n",
    "alpha4.round(5)"
   ]
  },
  {
   "cell_type": "code",
   "execution_count": 6,
   "metadata": {
    "ExecuteTime": {
     "end_time": "2020-11-27T06:29:24.580905Z",
     "start_time": "2020-11-27T06:29:24.574073Z"
    }
   },
   "outputs": [
    {
     "data": {
      "text/plain": [
       "0.06009"
      ]
     },
     "execution_count": 6,
     "metadata": {},
     "output_type": "execute_result"
    }
   ],
   "source": [
    "P = np.sum(alpha4)\n",
    "P.round(5)"
   ]
  },
  {
   "cell_type": "code",
   "execution_count": 7,
   "metadata": {
    "ExecuteTime": {
     "end_time": "2020-11-27T06:29:24.593594Z",
     "start_time": "2020-11-27T06:29:24.584813Z"
    }
   },
   "outputs": [],
   "source": [
    "def forward(A,B,pi,T,O):\n",
    "    alpha = np.zeros((T,N))\n",
    "    for t in range(T):\n",
    "        if t == 0:\n",
    "            alpha[0,:] = B[:,O[0]]*pi # 初始化\n",
    "            continue\n",
    "        alpha[t,:] = np.array([A[:,i].dot(alpha[t-1,:])*B[i,O[t]] for i in range(M)])\n",
    "    return alpha\n",
    "alpha = forward(A,B,pi,T,O)"
   ]
  },
  {
   "cell_type": "code",
   "execution_count": 8,
   "metadata": {
    "ExecuteTime": {
     "end_time": "2020-11-27T06:29:24.601401Z",
     "start_time": "2020-11-27T06:29:24.595554Z"
    }
   },
   "outputs": [
    {
     "data": {
      "text/plain": [
       "array([[0.1       , 0.16      , 0.28      ],\n",
       "       [0.077     , 0.1104    , 0.0606    ],\n",
       "       [0.04187   , 0.035512  , 0.052836  ],\n",
       "       [0.0210779 , 0.02518848, 0.01382442]])"
      ]
     },
     "execution_count": 8,
     "metadata": {},
     "output_type": "execute_result"
    }
   ],
   "source": [
    "alpha"
   ]
  },
  {
   "cell_type": "code",
   "execution_count": 9,
   "metadata": {
    "ExecuteTime": {
     "end_time": "2020-11-27T06:29:24.615069Z",
     "start_time": "2020-11-27T06:29:24.603353Z"
    }
   },
   "outputs": [
    {
     "data": {
      "text/plain": [
       "0.06009"
      ]
     },
     "execution_count": 9,
     "metadata": {},
     "output_type": "execute_result"
    }
   ],
   "source": [
    "def backward(A,B,pi,T,O):\n",
    "    beta = np.zeros((T,N))\n",
    "    beta[-1,:] = np.ones(N)\n",
    "    for t in list(range(T-1))[::-1]:\n",
    "        beta[t,:] = np.array([np.sum(np.array([A[i,j]*B[j,O[t+1]]*beta[t+1,j] for j in range(N)])) for i in range(N)])\n",
    "    p = np.sum(np.array([pi[i]*B[i,O[0]]*beta[0,i] for i in range(N)]))\n",
    "    return p\n",
    "backward(A,B,pi,T,O).round(5)"
   ]
  },
  {
   "cell_type": "code",
   "execution_count": 10,
   "metadata": {
    "ExecuteTime": {
     "end_time": "2020-11-27T06:29:24.688266Z",
     "start_time": "2020-11-27T06:29:24.617020Z"
    },
    "code_folding": []
   },
   "outputs": [
    {
     "name": "stdout",
     "output_type": "stream",
     "text": [
      "p(o|lambda)的概率为:0.130218\n",
      "delta:\n",
      "[[0.1     0.16    0.28   ]\n",
      " [0.028   0.0504  0.042  ]\n",
      " [0.00756 0.01008 0.0147 ]],\n",
      "psi:\n",
      "[[0. 0. 0.]\n",
      " [2. 2. 2.]\n",
      " [1. 1. 2.]]\n",
      "P(*)-最优路径的概率：0.0147；最优路径的终点是：2\n",
      "最优路径I(*):\n",
      "[2 2 2]\n"
     ]
    }
   ],
   "source": [
    "import logging\n",
    "\n",
    "class HMM:\n",
    "    def __init__(self,M,N,epoches=10):\n",
    "        self.A  = np.abs(np.random.randn(M,M))\n",
    "        self.B  = np.abs(np.random.randn(M,N))\n",
    "        self.pi = np.ones(M)\n",
    "        self.T  = None\n",
    "        self.O  = None\n",
    "        self.M  = M # 可能的状态数\n",
    "        self.N  = N # 可能的观察数\n",
    "        self.alpha = None\n",
    "        self.beta = None\n",
    "        self.epoches = epoches\n",
    "        self.logger = logging.getLogger(__name__)\n",
    "        self.logger.setLevel(logging.DEBUG)\n",
    "    \n",
    "    def forward(self,):\n",
    "        alpha = np.zeros((self.T,self.M))\n",
    "        for t in range(self.T):\n",
    "            if t == 0:\n",
    "                alpha[t,:] = self.B[:,O[t]]*self.pi # 初始化\n",
    "                continue\n",
    "            alpha[t,:] = np.array([self.A[:,i].dot(alpha[t-1,:])*self.B[i,O[t]] for i in range(self.M)])\n",
    "        return alpha\n",
    "\n",
    "    def backward(self,):\n",
    "        beta = np.zeros((self.T,self.M))\n",
    "        beta[-1,:] = np.ones(self.M)\n",
    "        for t in list(range(self.T-2,-1,-1)):\n",
    "            beta[t,:] = np.array([np.sum(np.array([self.A[i,j]*self.B[j,O[t+1]]*beta[t+1,j] for j in range(self.M)])) for i in range(self.M)])\n",
    "        return beta\n",
    "\n",
    "    def calc_gamma(self,t,i):\n",
    "        gamma = (self.alpha[t,i]*self.beta[t,i]) / np.sum(np.array([self.alpha[t,j]*self.beta[t,j] for j in range(self.M)]))\n",
    "        return gamma\n",
    "\n",
    "    def calc_kesai(self,t,i,j):\n",
    "        kesai = (self.alpha[t,i]*self.A[i,j]*self.B[j,self.O[t+1]]*self.beta[t+1,j]) / np.sum(np.array([[self.alpha[t,i]*self.A[i,j]*self.B[j,self.O[t+1]]*self.beta[t+1,j] for j in range(M)] for i in range(M)]))\n",
    "        return kesai\n",
    "    \n",
    "    def init_params(self,O,A,B,pi):\n",
    "        self.T = len(O)\n",
    "        self.O = O\n",
    "        if A is not None:\n",
    "            self.A = A\n",
    "        if B is not None:\n",
    "            self.B = B\n",
    "        if pi is not None:\n",
    "            self.pi = pi\n",
    "        \n",
    "        self.M,self.N = self.B.shape\n",
    "        \n",
    "        if A is None:\n",
    "            self.A = self.A / np.sum(self.A)\n",
    "            self.B = self.B / np.sum(self.B)\n",
    "            self.pi = self.pi / np.sum(self.pi)\n",
    "            \n",
    "\n",
    "    def cal_probality(self,select=None):\n",
    "        p = 0\n",
    "        if select != \"backward\":\n",
    "            self.logger.info(\"前向算法\")\n",
    "        else:\n",
    "            self.logger.info(\"后向算法\")\n",
    "        self.alpha = self.forward()\n",
    "        self.beta = self.backward()\n",
    "        p = np.sum(self.alpha[-1,:])\n",
    "        return p\n",
    "\n",
    "    def baum_welch(self,):\n",
    "        for e in range(self.epoches):\n",
    "            \n",
    "            self.alpha = self.forward()\n",
    "            self.beta = self.backward()\n",
    "            \n",
    "            self.logger.info(\"第{}次迭代\".format(e))\n",
    "            \n",
    "            A_ = np.zeros((self.M,self.M))\n",
    "            B_ = np.zeros((self.M,self.N))\n",
    "            pi_ = np.zeros(self.M)\n",
    "                        \n",
    "            # a_{ij}\n",
    "            for i in range(self.M):\n",
    "                for j in range(self.M):\n",
    "                    molecular = 0.0\n",
    "                    denominator = 0.0\n",
    "                    for t in range(self.T-1):\n",
    "                        molecular += self.calc_kesai(t,i,j)\n",
    "                        denominator += self.calc_gamma(t,i)\n",
    "                    A_[i,j] = molecular / denominator\n",
    "                    \n",
    "            # b_{jk}\n",
    "            for j in range(self.M):\n",
    "                for k in range(self.N):\n",
    "                    molecular = 0.0\n",
    "                    denominator = 0.0\n",
    "                    for t in range(self.T):\n",
    "                        if k == self.O[t]:\n",
    "                            molecular += self.calc_gamma(t,j)\n",
    "                        denominator += self.calc_gamma(t,j)\n",
    "                    B_[j,k] = molecular / denominator\n",
    "                    \n",
    "            # pi_{i}\n",
    "            for i in range(self.M):\n",
    "                pi_[i] = self.calc_gamma(0,i)\n",
    "            \n",
    "            # 更新\n",
    "            self.A  = A_/np.sum(A_)\n",
    "            self.B  = np.array([self.B[i,:]/np.sum(self.B[i,:]) for i in range(self.M)])\n",
    "            self.pi = pi_/np.sum(pi_)\n",
    "        self.logger.info(\"更新完毕:\\n A:\\n{}\\nB:\\n{}\\npi:\\n{}\\n\".format(self.A.round(5),\n",
    "                                                                                self.B.round(5),self.pi.round(5)))\n",
    "        \n",
    "    def viterbi(self,):\n",
    "        delta = np.zeros((self.T,self.M))\n",
    "        delta[0,:] = np.array([self.pi[i]*self.B[i,self.O[0]] for i in range(self.M)])\n",
    "        psi = np.zeros((self.T,self.M))\n",
    "        \n",
    "        for t in range(1,self.T):\n",
    "            for i in range(self.M):\n",
    "                max_delta = np.array([delta[t-1,j]*self.A[j,i] for j in range(self.M)])\n",
    "                delta[t,i] = np.max(max_delta)*self.B[i,self.O[t]]\n",
    "                psi[t,i] = np.argmax(max_delta)\n",
    "        print(\"delta:\\n{},\\npsi:\\n{}\".format(delta,psi))\n",
    "        # 终止\n",
    "        max_delta = delta[self.T-1,:]\n",
    "        I = np.zeros(self.T,dtype=int)\n",
    "        P = np.max(max_delta)\n",
    "        I[-1] = np.argmax(max_delta)\n",
    "        print(\"P(*)-最优路径的概率：{}；最优路径的终点是：{}\".format(P.round(5),I[-1]))\n",
    "        \n",
    "        \n",
    "        # 回溯\n",
    "        for t in range(self.T-2,-1,-1):\n",
    "            I[t] = psi[t+1,I[t+1]]\n",
    "        print(\"最优路径I(*):\\n{}\".format(I))\n",
    "        \n",
    "        \n",
    "    def fit(self,O,A=None,B=None,pi=None,select=None):\n",
    "        if A is None:\n",
    "            select = \"bw\"\n",
    "        self.init_params(O,A,B,pi)\n",
    "        self.logger.info(\"初始化:\\n A:\\n{}\\nB:\\n{}\\npi:\\n{}\\n状态数:{},观测数:{}\".format(self.A.round(5),\n",
    "                                                                                self.B.round(5),self.pi.round(5),self.M,self.N))\n",
    "        if select == \"bw\" or select == \"baum_welch\":\n",
    "            self.baum_welch()\n",
    "        self.p = self.cal_probality()\n",
    "        self.logger.info(\"当前p(o|lambda)={}\".format(self.p.round(5)))\n",
    "        self.p = self.cal_probality(\"backward\")\n",
    "        self.logger.info(\"当前p(o|lambda)={}\".format(self.p.round(5)))\n",
    "        print(\"p(o|lambda)的概率为:{}\".format(self.p))\n",
    "        \n",
    "A = np.array([ # 状态转移概率分布\n",
    "    [.5,.2,.3],\n",
    "    [.3,.5,.2],\n",
    "    [.2,.3,.5]\n",
    "])\n",
    "B = np.array([ # 观测概率分布\n",
    "    [.5,.5],\n",
    "    [.4,.6],\n",
    "    [.7,.3]\n",
    "])\n",
    "pi = np.array([ # 初始概率分布 => 状态的分布\n",
    "    .2,.4,.4\n",
    "])\n",
    "\n",
    "O = [0,1,0] # 1表示红，0表示白 # 观测序列\n",
    "\n",
    "\n",
    "M,N = A.shape[1],B.shape[0]    \n",
    "hmm = HMM(10,4)\n",
    "hmm.fit(O,A,B,pi)\n",
    "hmm.viterbi()"
   ]
  },
  {
   "cell_type": "code",
   "execution_count": 11,
   "metadata": {
    "ExecuteTime": {
     "end_time": "2020-11-27T06:29:24.717546Z",
     "start_time": "2020-11-27T06:29:24.690219Z"
    }
   },
   "outputs": [
    {
     "name": "stdout",
     "output_type": "stream",
     "text": [
      "p(o|lambda)的概率为:0.05178078150847522\n",
      "delta:\n",
      "[[0.           0.           0.7604947887]\n",
      " [0.0148663723 0.1894006233 0.          ]\n",
      " [0.000000048  0.0000000945 0.0480121762]],\n",
      "psi:\n",
      "[[0. 0. 0.]\n",
      " [2. 2. 2.]\n",
      " [1. 1. 1.]]\n",
      "P(*)-最优路径的概率：0.04801；最优路径的终点是：2\n",
      "最优路径I(*):\n",
      "[2 1 2]\n"
     ]
    }
   ],
   "source": [
    "O = [0,1,0] # 1表示红，0表示白 # 观测序列\n",
    "\n",
    "M,N = A.shape[1],B.shape[0]    \n",
    "hmm = HMM(3,2)\n",
    "hmm.fit(O)\n",
    "hmm.viterbi()"
   ]
  }
 ],
 "metadata": {
  "kernelspec": {
   "display_name": "Python 3",
   "language": "python",
   "name": "python3"
  },
  "language_info": {
   "codemirror_mode": {
    "name": "ipython",
    "version": 3
   },
   "file_extension": ".py",
   "mimetype": "text/x-python",
   "name": "python",
   "nbconvert_exporter": "python",
   "pygments_lexer": "ipython3",
   "version": "3.7.6"
  },
  "latex_envs": {
   "LaTeX_envs_menu_present": true,
   "autoclose": false,
   "autocomplete": true,
   "bibliofile": "biblio.bib",
   "cite_by": "apalike",
   "current_citInitial": 1,
   "eqLabelWithNumbers": true,
   "eqNumInitial": 1,
   "hotkeys": {
    "equation": "Ctrl-E",
    "itemize": "Ctrl-I"
   },
   "labels_anchors": false,
   "latex_user_defs": false,
   "report_style_numbering": false,
   "user_envs_cfg": false
  },
  "toc": {
   "base_numbering": 1,
   "nav_menu": {},
   "number_sections": true,
   "sideBar": true,
   "skip_h1_title": false,
   "title_cell": "Table of Contents",
   "title_sidebar": "Contents",
   "toc_cell": false,
   "toc_position": {},
   "toc_section_display": true,
   "toc_window_display": false
  }
 },
 "nbformat": 4,
 "nbformat_minor": 4
}
