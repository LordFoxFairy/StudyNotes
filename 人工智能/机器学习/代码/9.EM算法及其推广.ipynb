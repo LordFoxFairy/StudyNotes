{
 "cells": [
  {
   "cell_type": "markdown",
   "metadata": {},
   "source": [
    "# EM算法及其推广\n",
    "\n",
    "EM算法是含有隐变量的概率模型极大似然估计或极大后验概率估计的迭代算法。含有隐变量的概率模型的数据表示为$\\theta$。$Y$是观测变量的数据,$Z$是隐变量的数据，$\\theta$是模型参数。EM算法通过迭代求解观测数的对数似然函数$L(\\theta)$．EM算法是含有隐变量的概率模型极大似然估计或极大后验概率估计的迭代算法。含有隐变量的概率模型的数据表示为$\\theta$ )。这里，$Y$是观测变量的数据，$Z$是隐变量的数据，$\\theta$ 是模型参数。EM算法通过迭代求解观测数据的对数似然函数${L}(\\theta)=\\log {P}(\\mathrm{Y} | \\theta)$的极大化，实现极大似然估计。每次迭代包括两步：\n",
    "\n",
    "$E$步，求期望，即求$logP\\left(Z | Y, \\theta\\right)$ )关于$ P\\left(Z | Y, \\theta^{(i)}\\right)$)的期望：\n",
    "\n",
    "$$Q\\left(\\theta, \\theta^{(i)}\\right)=\\sum_{Z} \\log P(Y, Z | \\theta) P\\left(Z | Y, \\theta^{(i)}\\right)$$\n",
    "称为$Q$函数，这里$\\theta^{(i)}$是参数的现估计值；\n",
    "\n",
    "$M$步，求极大，即极大化$Q$函数得到参数的新估计值：\n",
    "\n",
    "$$\\theta^{(i+1)}=\\arg \\max _{\\theta} Q\\left(\\theta, \\theta^{(i)}\\right)$$\n",
    " \n",
    "在构建具体的EM算法时，重要的是定义$Q$函数。每次迭代中，EM算法通过极大化$Q$函数来增大对数似然函数${L}(\\theta)$。\n",
    "\n",
    "2．EM算法在每次迭代后均提高观测数据的似然函数值，即\n",
    "\n",
    "$$P\\left(Y | \\theta^{(i+1)}\\right) \\geqslant P\\left(Y | \\theta^{(i)}\\right)$$\n",
    "\n",
    "在一般条件下EM算法是收敛的，但不能保证收敛到全局最优。\n",
    "\n",
    "3．EM算法应用极其广泛，主要应用于含有隐变量的概率模型的学习。高斯混合模型的参数估计是EM算法的一个重要应用，下一章将要介绍的隐马尔可夫模型的非监督学习也是EM算法的一个重要应用。\n",
    "\n",
    "4．EM算法还可以解释为$F$函数的极大-极大算法。EM算法有许多变形，如GEM算法。GEM算法的特点是每次迭代增加$F$函数值（并不一定是极大化$F$函数），从而增加似然函数值。\n",
    ")\n",
    "\n",
    "\n",
    "```\n",
    "在统计学中，似然函数（likelihood function，通常简写为likelihood，似然）是一个非常重要的内容，在非正式场合似然和概率（Probability）几乎是一对同义词，但是在统计学中似然和概率却是两个不同的概念。概率是在特定环境下某件事情发生的可能性，也就是结果没有产生之前依据环境所对应的参数来预测某件事情发生的可能性，比如抛硬币，抛之前我们不知道最后是哪一面朝上，但是根据硬币的性质我们可以推测任何一面朝上的可能性均为50%，这个概率只有在抛硬币之前才是有意义的，抛完硬币后的结果便是确定的；而似然刚好相反，是在确定的结果下去推测产生这个结果的可能环境（参数），还是抛硬币的例子，假设我们随机抛掷一枚硬币1,000次，结果500次人头朝上，500次数字朝上（实际情况一般不会这么理想，这里只是举个例子），我们很容易判断这是一枚标准的硬币，两面朝上的概率均为50%，这个过程就是我们运用出现的结果来判断这个事情本身的性质（参数），也就是似然。\n",
    "```\n",
    "\n",
    "\n",
    "$$P(Y|\\theta) = \\prod[\\pi p^{y_i}(1-p)^{1-y_i}+(1-\\pi) q^{y_i}(1-q)^{1-y_i}]$$\n",
    "\n",
    "### E step:\n",
    "\n",
    "$$\\mu^{i+1}=\\frac{\\pi (p^i)^{y_i}(1-(p^i))^{1-y_i}}{\\pi (p^i)^{y_i}(1-(p^i))^{1-y_i}+(1-\\pi) (q^i)^{y_i}(1-(q^i))^{1-y_i}}$$"
   ]
  },
  {
   "cell_type": "code",
   "execution_count": 1,
   "metadata": {
    "ExecuteTime": {
     "end_time": "2020-11-14T08:42:26.654893Z",
     "start_time": "2020-11-14T08:42:26.558206Z"
    }
   },
   "outputs": [],
   "source": [
    "import numpy as np"
   ]
  },
  {
   "cell_type": "code",
   "execution_count": 2,
   "metadata": {
    "ExecuteTime": {
     "end_time": "2020-11-14T08:42:26.667582Z",
     "start_time": "2020-11-14T08:42:26.655870Z"
    }
   },
   "outputs": [
    {
     "name": "stdout",
     "output_type": "stream",
     "text": [
      "0.5\n",
      "0.5\n",
      "0.5\n",
      "0.5\n",
      "0.5\n",
      "0.5\n",
      "0.5\n",
      "0.5\n",
      "0.5\n",
      "0.5\n"
     ]
    }
   ],
   "source": [
    "def e_step(y,j,p,q,pi):\n",
    "    ab = pi*np.power(p,y[j])*np.power(1-p,1-y[j])\n",
    "    ap = pi*np.power(p,y[j])*np.power(1-p,1-y[j])+(1-pi)*np.power(q,y[j])*np.power(1-q,1-y[j])\n",
    "    return ab/ap\n",
    "\n",
    "data=[1,1,0,1,0,0,1,0,1,1]\n",
    "pA,pB,pC = 0.5,0.5,0.5\n",
    "\n",
    "for j in range(len(data)):\n",
    "    print(e_step(data,j,pA,pB,pC))"
   ]
  },
  {
   "cell_type": "markdown",
   "metadata": {},
   "source": [
    "### M step:\n",
    "\n",
    "$$\\pi^{i+1}=\\frac{1}{n}\\sum_{j=1}^n\\mu^{i+1}_j$$\n",
    "\n",
    "$$p^{i+1}=\\frac{\\sum_{j=1}^n\\mu^{i+1}_jy_i}{\\sum_{j=1}^n\\mu^{i+1}_j}$$\n",
    "\n",
    "$$q^{i+1}=\\frac{\\sum_{j=1}^n(1-\\mu^{i+1}_jy_i)}{\\sum_{j=1}^n(1-\\mu^{i+1}_j)}$$"
   ]
  },
  {
   "cell_type": "code",
   "execution_count": 3,
   "metadata": {
    "ExecuteTime": {
     "end_time": "2020-11-14T08:42:26.679294Z",
     "start_time": "2020-11-14T08:42:26.668559Z"
    }
   },
   "outputs": [],
   "source": [
    "class EM:\n",
    "    \n",
    "    def __init__(self,params=[0.5,0.5,0.5]):\n",
    "        self.y = None\n",
    "        self.u = None\n",
    "        self.pi,self.p,self.q = params\n",
    "        self.n_samples = None\n",
    "    \n",
    "    def e_step(self,j):\n",
    "        top = self.pi*np.power(self.p,self.y[j])*np.power(1-self.p,1-self.y[j])\n",
    "        bottom = self.pi*np.power(self.p,self.y[j])*np.power(1-self.p,1-self.y[j])\\\n",
    "        +(1-self.pi)*np.power(self.q,self.y[j])*np.power(1-self.q,1-self.y[j])\n",
    "        return top/bottom\n",
    "    \n",
    "    def m_step(self):\n",
    "        self.u = np.array([self.e_step(i) for i in range(self.n_samples)])\n",
    "        self.pi = np.sum(self.u) / self.n_samples\n",
    "        self.p  = np.sum([self.u[j]*self.y[j] for j in range(self.n_samples)]) / np.sum(self.u)\n",
    "        self.q = np.sum([(1-self.u[j])*self.y[j] for j in range(self.n_samples)]) / np.sum(1-self.u)\n",
    "    \n",
    "    def fit(self,data):\n",
    "        self.y = data\n",
    "        self.n_samples = len(self.y)\n",
    "        self.m_step()\n",
    "        print('init params -- pi:{:.3f}, p:{:.3f}, q:{:.3f}'.format(self.pi, self.p, self.q))\n",
    "        for i in range(self.n_samples):\n",
    "            _ = yield\n",
    "            self.m_step()\n",
    "            print('{}/{}  pi:{:.3f}, p:{:.3f}, q:{:.3f}'.format(i+1, self.n_samples, self.pi, self.p, self.q))\n",
    "\n",
    "data=[1,1,0,1,0,0,1,0,1,1]"
   ]
  },
  {
   "cell_type": "code",
   "execution_count": 4,
   "metadata": {
    "ExecuteTime": {
     "end_time": "2020-11-14T08:42:26.684174Z",
     "start_time": "2020-11-14T08:42:26.680272Z"
    }
   },
   "outputs": [
    {
     "name": "stdout",
     "output_type": "stream",
     "text": [
      "init params -- pi:0.500, p:0.600, q:0.600\n"
     ]
    }
   ],
   "source": [
    "params = [0.5,0.5,0.5]\n",
    "em = EM(params=params)\n",
    "f = em.fit(data)\n",
    "next(f)"
   ]
  },
  {
   "cell_type": "code",
   "execution_count": 5,
   "metadata": {
    "ExecuteTime": {
     "end_time": "2020-11-14T08:42:26.689055Z",
     "start_time": "2020-11-14T08:42:26.685152Z"
    }
   },
   "outputs": [
    {
     "name": "stdout",
     "output_type": "stream",
     "text": [
      "init params -- pi:0.406, p:0.537, q:0.643\n"
     ]
    }
   ],
   "source": [
    "params = [0.4,0.6,0.7]\n",
    "em = EM(params=params)\n",
    "f = em.fit(data)\n",
    "next(f)"
   ]
  },
  {
   "cell_type": "code",
   "execution_count": 6,
   "metadata": {
    "ExecuteTime": {
     "end_time": "2020-11-14T08:42:26.693934Z",
     "start_time": "2020-11-14T08:42:26.690030Z"
    }
   },
   "outputs": [
    {
     "name": "stdout",
     "output_type": "stream",
     "text": [
      "init params -- pi:0.462, p:0.535, q:0.656\n"
     ]
    }
   ],
   "source": [
    "params = [0.46,0.55,0.67]\n",
    "em = EM(params=params)\n",
    "f = em.fit(data)\n",
    "next(f)"
   ]
  },
  {
   "cell_type": "markdown",
   "metadata": {},
   "source": [
    "## 高斯混合模型"
   ]
  },
  {
   "cell_type": "code",
   "execution_count": 7,
   "metadata": {
    "ExecuteTime": {
     "end_time": "2020-11-14T08:42:27.530173Z",
     "start_time": "2020-11-14T08:42:26.694910Z"
    }
   },
   "outputs": [
    {
     "name": "stdout",
     "output_type": "stream",
     "text": [
      "[1 1 1 1 1 1 1 1 1 1 1 1 1 1 1 1 1 1 1 1 1 1 1 1 1 1 1 1 1 1 1 1 1 1 1 1 1\n",
      " 1 1 1 1 1 1 1 1 1 1 1 1 1 0 0 0 0 0 0 0 0 0 0 0 0 0 0 0 0 0 0 0 0 0 0 0 0\n",
      " 0 0 0 0 0 0 0 0 0 0 0 0 0 0 0 0 0 0 0 0 0 0 0 0 0 0]\n"
     ]
    },
    {
     "data": {
      "image/png": "[encoded data removed]",
      "text/plain": [
       "<Figure size 432x288 with 1 Axes>"
      ]
     },
     "metadata": {
      "needs_background": "light"
     },
     "output_type": "display_data"
    }
   ],
   "source": [
    "from sklearn.mixture import GaussianMixture\n",
    "import numpy as np\n",
    "import matplotlib.pyplot as plt\n",
    "from sklearn.datasets import load_iris\n",
    "from sklearn.metrics import accuracy_score\n",
    "\n",
    "# 初始化观测数据\n",
    "# data = np.array([-67, -48, 6, 8, 14, 16, 23, 24, 28, 29, 41, 49, 56, 60,\n",
    "#                  75]).reshape(-1, 1)\n",
    "\n",
    "iris = load_iris()\n",
    "y = np.array(iris.target)[:100]\n",
    "data = np.array(iris.data)[:100,:]\n",
    "\n",
    "gm = GaussianMixture(n_components=2)\n",
    "gm.fit(data)\n",
    "y_pred = gm.predict(data)\n",
    "x = np.c_[np.linspace(1,len(data),len(data)),data]\n",
    "\n",
    "plt.scatter(x[:,0],x[:,1],c=y_pred)\n",
    "print(y_pred)\n",
    "\n",
    "# print(\"means =\", gm.means_.reshape(1, -1))\n",
    "# print(\"covariances =\", gm.covariances_.reshape(1, -1))\n",
    "# print(\"weights = \", gm.weights_.reshape(1, -1))"
   ]
  },
  {
   "cell_type": "code",
   "execution_count": 8,
   "metadata": {
    "ExecuteTime": {
     "end_time": "2020-11-14T08:42:27.634643Z",
     "start_time": "2020-11-14T08:42:27.532123Z"
    }
   },
   "outputs": [
    {
     "name": "stderr",
     "output_type": "stream",
     "text": [
      "D:\\ProgramData\\Anaconda3\\lib\\site-packages\\ipykernel_launcher.py:85: RuntimeWarning: divide by zero encountered in log\n",
      "D:\\ProgramData\\Anaconda3\\lib\\site-packages\\ipykernel_launcher.py:72: RuntimeWarning: invalid value encountered in double_scalars\n"
     ]
    },
    {
     "data": {
      "text/plain": [
       "(1.0,\n",
       " array([0, 0, 0, 0, 0, 0, 0, 0, 0, 0, 0, 0, 0, 0, 0, 0, 0, 0, 0, 0, 0, 0,\n",
       "        0, 0, 0, 0, 0, 0, 0, 0, 0, 0, 0, 0, 0, 0, 0, 0, 0, 0, 0, 0, 0, 0,\n",
       "        0, 0, 0, 0, 0, 0, 1, 1, 1, 1, 1, 1, 1, 1, 1, 1, 1, 1, 1, 1, 1, 1,\n",
       "        1, 1, 1, 1, 1, 1, 1, 1, 1, 1, 1, 1, 1, 1, 1, 1, 1, 1, 1, 1, 1, 1,\n",
       "        1, 1, 1, 1, 1, 1, 1, 1, 1, 1, 1, 1], dtype=int64))"
      ]
     },
     "execution_count": 8,
     "metadata": {},
     "output_type": "execute_result"
    }
   ],
   "source": [
    "import numpy as np\n",
    "from sklearn.datasets import load_iris\n",
    "from sklearn.metrics import accuracy_score\n",
    "\n",
    "class GMM:\n",
    "    def __init__(self,data,K=2,alpha=None,means=None,covars=None,eta=0.00000001):\n",
    "        self.alpha = None # 系数\n",
    "        self.n_samples,self.n_features = data.shape\n",
    "        self.y = data\n",
    "        self.K = K\n",
    "        self.eta = eta\n",
    "        \n",
    "        # 初始化权重系数、方差以及平均值\n",
    "        if alpha is not None:\n",
    "            self.alpha = alpha\n",
    "        else:\n",
    "            self.alpha  = np.random.rand(self.K)\n",
    "            self.alpha /= np.sum(self.alpha)        # 归一化\n",
    "            \n",
    "        self.means = np.array([\n",
    "                np.random.rand(self.n_features) for i in range(self.K)\n",
    "            ]) if means is None else means\n",
    "        \n",
    "        self.covars = np.array([\n",
    "                np.random.rand(self.n_features,self.n_features) for i in range(self.K)\n",
    "            ]) if covars is None else covars\n",
    "        \n",
    "    def gaussian_density(self,x,mean,cov):\n",
    "        \"\"\"\n",
    "        这是自定义的高斯分布概率密度函数\n",
    "        :param x: 输入数据\n",
    "        :param mean: 均值数组\n",
    "        :param cov: 协方差矩阵\n",
    "        :return: x的概率\n",
    "        \"\"\"\n",
    "        \n",
    "        # cov的行列式为零时的措施\n",
    "        covdet = np.linalg.det(cov + np.eye(self.n_features) * 0.001)\n",
    "        covinv = np.linalg.inv(cov + np.eye(self.n_features) * 0.001)\n",
    "        xdiff = (x - mean).reshape((1,self.n_features))\n",
    "        # 概率密度\n",
    "        prob = 1.0/(np.power(np.power(2*np.pi,self.n_features)*np.abs(covdet),0.5))*\\\n",
    "               np.exp(-0.5*xdiff.dot(covinv).dot(xdiff.T))[0][0]\n",
    "        return prob\n",
    "    \n",
    "    def e_step(self,j):\n",
    "        p = np.array([\n",
    "            self.alpha[k]*self.gaussian_density(self.y[j],self.means[k],self.covars[k]) for k in range(self.K)\n",
    "        ])\n",
    "        self.gammas[j] = p / np.sum(p)\n",
    "    \n",
    "    def m_step(self,k):\n",
    "        nk = np.sum(self.gammas[:,k])\n",
    "        self.alpha[k] = nk/self.n_samples*1.0\n",
    "        self.means[k] = 1.0/nk * np.sum(np.array([\n",
    "            self.gammas[j][k]*self.y[j] for j in range(self.n_samples)\n",
    "        ]),axis=0)\n",
    "        self.covars[k] = 1.0/nk * np.sum(np.array([\n",
    "            self.gammas[j][k]*np.power(self.y[j]-self.means[k],2)\n",
    "        ]))\n",
    "   \n",
    "    def fit(self,):\n",
    "        \n",
    "        loglikelyhood = 0\n",
    "        oldloglikelyhood = 1\n",
    "        \n",
    "        # 当前模型参数下第j个观测数据（样本）属于第k个分模型的概率\n",
    "        self.gammas = np.array([\n",
    "            np.zeros(self.K) for j in range(self.n_samples)\n",
    "        ])\n",
    "        \n",
    "        while np.abs(loglikelyhood-oldloglikelyhood) > self.eta:\n",
    "            oldloglikelyhood = loglikelyhood\n",
    "            \n",
    "            for j in range(self.n_samples):\n",
    "                self.e_step(j)\n",
    "                \n",
    "            for k in range(self.K):\n",
    "                self.m_step(k)\n",
    "            \n",
    "            \n",
    "            loglikelyhood = []\n",
    "            for n in range(self.n_samples):\n",
    "                tmp = np.array([np.sum(self.alpha[k]*self.gaussian_density(self.y[n],self.means[k],self.covars[k])) for k in range(self.K)])\n",
    "                tmp = np.log(np.array(tmp))\n",
    "                loglikelyhood.append(list(tmp))\n",
    "            loglikelyhood = np.sum(np.array(loglikelyhood))\n",
    "            for i in range(self.n_samples):\n",
    "                self.gammas[i] = self.gammas[i]/np.sum(self.gammas[i])\n",
    "            self.posibility = self.gammas\n",
    "            self.prediction = np.array([np.argmax(self.gammas[i]) for i in range(self.n_samples)])\n",
    "        \n",
    "    \n",
    "    def predict(self,):\n",
    "        pass\n",
    "\n",
    "# data = np.array([-67, -48, 6, 8, 14, 16, 23, 24, 28, 29, 41, 49, 56, 60,\n",
    "#                  75]).reshape(-1, 1)\n",
    "\n",
    "iris = load_iris()\n",
    "label = np.array(iris.target)[:100]\n",
    "data = np.array(iris.data)[:100,:]\n",
    "\n",
    "gmm = GMM(data)\n",
    "gmm.fit()\n",
    "y_pred = gmm.prediction\n",
    "accuracy_score(y_pred,label),y_pred"
   ]
  },
  {
   "cell_type": "markdown",
   "metadata": {},
   "source": [
    "## EM算法的推广（FMM）"
   ]
  },
  {
   "cell_type": "markdown",
   "metadata": {
    "ExecuteTime": {
     "end_time": "2020-11-14T08:38:46.227871Z",
     "start_time": "2020-11-14T08:38:45.240Z"
    },
    "code_folding": [],
    "pycharm": {
     "name": "#%% md\n"
    }
   },
   "source": [
    "## GEM"
   ]
  },
  {
   "cell_type": "markdown",
   "metadata": {
    "ExecuteTime": {
     "end_time": "2020-11-14T08:38:46.228846Z",
     "start_time": "2020-11-14T08:38:45.241Z"
    },
    "pycharm": {
     "name": "#%% md\n"
    }
   },
   "source": [
    "## EM+贝叶斯算法\n",
    "\n",
    "**解答：** \n",
    "> **EM算法的一般化：**  \n",
    "**E步骤：**根据参数初始化或上一次迭代的模型参数来计算出隐变量的后验概率，其实就是隐变量的期望。作为隐变量的现估计值：$$w_j^{(i)}=Q_{i}(z^{(i)}=j) := p(z^{(i)}=j | x^{(i)} ; \\theta)$$\n",
    "**M步骤：**将似然函数最大化以获得新的参数值：$$\n",
    "\\theta :=\\arg \\max_{\\theta} \\sum_i \\sum_{z^{(i)}} Q_i (z^{(i)}) \\log \\frac{p(x^{(i)}, z^{(i)} ; \\theta)}{Q_i (z^{(i)})}\n",
    "$$  \n",
    "\n",
    "使用NBMM（朴素贝叶斯的混合模型）中的$\\phi_z,\\phi_{j|z^{(i)}=1},\\phi_{j|z^{(i)}=0}$参数替换一般化的EM算法中的$\\theta$参数，然后依次求解$w_j^{(i)}$与$\\phi_z,\\phi_{j|z^{(i)}=1},\\phi_{j|z^{(i)}=0}$参数的更新问题。  \n",
    "**NBMM的EM算法：**  \n",
    "**E步骤：**  \n",
    "$$w_j^{(i)}:=P\\left(z^{(i)}=1 | x^{(i)} ; \\phi_z, \\phi_{j | z^{(i)}=1}, \\phi_{j | z^{(i)}=0}\\right)$$**M步骤：**$$\n",
    "\\phi_{j | z^{(i)}=1} :=\\frac{\\displaystyle \\sum_{i=1}^{m} w^{(i)} I(x_{j}^{(i)}=1)}{\\displaystyle \\sum_{i=1}^{m} w^{(i)}} \\\\ \n",
    "\\phi_{j | z^{(i)}=0}:= \\frac{\\displaystyle  \\sum_{i=1}^{m}\\left(1-w^{(i)}\\right) I(x_{j}^{(i)}=1)}{ \\displaystyle \\sum_{i=1}^{m}\\left(1-w^{(i)}\\right)} \\\\ \n",
    "\\phi_{z^{(i)}} :=\\frac{\\displaystyle \\sum_{i=1}^{m} w^{(i)}}{m} \n",
    "$$   "
   ]
  },
  {
   "cell_type": "code",
   "execution_count": null,
   "outputs": [],
   "source": [
    "from sklearn.mixture import BayesianGaussianMixture\n",
    "import numpy as np\n",
    "import matplotlib.pyplot as plt\n",
    "from sklearn.datasets import load_iris\n",
    "from sklearn.metrics import accuracy_score\n",
    "\n",
    "# 初始化观测数据\n",
    "# data = np.array([-67, -48, 6, 8, 14, 16, 23, 24, 28, 29, 41, 49, 56, 60,\n",
    "#                  75]).reshape(-1, 1)\n",
    "\n",
    "iris = load_iris()\n",
    "y = np.array(iris.target)\n",
    "data = np.array(iris.data)\n",
    "\n",
    "gm = BayesianGaussianMixture(n_components=3)\n",
    "gm.fit(data)\n",
    "y_pred = gm.predict(data)\n",
    "x = np.c_[np.linspace(1,len(data),len(data)),data]\n",
    "\n",
    "plt.scatter(x[:,0],x[:,1],c=y_pred)\n",
    "# print(y_pred)\n",
    "\n",
    "accuracy_score(y,y_pred)\n",
    "\n",
    "# print(\"means =\", gm.means_.reshape(1, -1))\n",
    "# print(\"covariances =\", gm.covariances_.reshape(1, -1))\n",
    "# print(\"weights = \", gm.weights_.reshape(1, -1))"
   ],
   "metadata": {
    "collapsed": false,
    "pycharm": {
     "name": "#%%\n"
    }
   }
  },
  {
   "cell_type": "code",
   "execution_count": null,
   "outputs": [],
   "source": [],
   "metadata": {
    "collapsed": false,
    "pycharm": {
     "name": "#%%\n"
    }
   }
  },
  {
   "cell_type": "code",
   "execution_count": 9,
   "metadata": {
    "ExecuteTime": {
     "end_time": "2020-11-14T08:42:27.833747Z",
     "start_time": "2020-11-14T08:42:27.636596Z"
    }
   },
   "outputs": [
    {
     "data": {
      "text/plain": [
       "0.49333333333333335"
      ]
     },
     "execution_count": 9,
     "metadata": {},
     "output_type": "execute_result"
    },
    {
     "data": {
      "image/png": "[encoded data removed]",
      "text/plain": [
       "<Figure size 432x288 with 1 Axes>"
      ]
     },
     "metadata": {
      "needs_background": "light"
     },
     "output_type": "display_data"
    }
   ],
   "source": []
  },
  {
   "cell_type": "code",
   "execution_count": null,
   "metadata": {},
   "outputs": [],
   "source": []
  }
 ],
 "metadata": {
  "kernelspec": {
   "display_name": "Python 3",
   "language": "python",
   "name": "python3"
  },
  "language_info": {
   "codemirror_mode": {
    "name": "ipython",
    "version": 3
   },
   "file_extension": ".py",
   "mimetype": "text/x-python",
   "name": "python",
   "nbconvert_exporter": "python",
   "pygments_lexer": "ipython3",
   "version": "3.7.6"
  },
  "latex_envs": {
   "LaTeX_envs_menu_present": true,
   "autoclose": false,
   "autocomplete": true,
   "bibliofile": "biblio.bib",
   "cite_by": "apalike",
   "current_citInitial": 1,
   "eqLabelWithNumbers": true,
   "eqNumInitial": 1,
   "hotkeys": {
    "equation": "Ctrl-E",
    "itemize": "Ctrl-I"
   },
   "labels_anchors": false,
   "latex_user_defs": false,
   "report_style_numbering": false,
   "user_envs_cfg": false
  },
  "toc": {
   "base_numbering": 1,
   "nav_menu": {},
   "number_sections": true,
   "sideBar": true,
   "skip_h1_title": false,
   "title_cell": "Table of Contents",
   "title_sidebar": "Contents",
   "toc_cell": false,
   "toc_position": {
    "height": "calc(100% - 180px)",
    "left": "10px",
    "top": "150px",
    "width": "307.2px"
   },
   "toc_section_display": true,
   "toc_window_display": false
  }
 },
 "nbformat": 4,
 "nbformat_minor": 4
}