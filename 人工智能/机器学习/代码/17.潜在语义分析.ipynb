{
 "cells": [
  {
   "cell_type": "markdown",
   "metadata": {},
   "source": [
    "# 潜在语义分析\n",
    "## 单词向量空间与话题向量空间"
   ]
  },
  {
   "cell_type": "code",
   "execution_count": 1,
   "metadata": {
    "ExecuteTime": {
     "end_time": "2020-11-25T14:29:37.151367Z",
     "start_time": "2020-11-25T14:29:37.035694Z"
    }
   },
   "outputs": [
    {
     "data": {
      "text/plain": [
       "(11, 9)"
      ]
     },
     "execution_count": 1,
     "metadata": {},
     "output_type": "execute_result"
    }
   ],
   "source": [
    "import numpy as np\n",
    "\n",
    "X = np.array([\n",
    "    [0,0,1,1,0,0,0,0,0],\n",
    "    [0,0,0,0,0,0,1,0,1],\n",
    "    [0,1,0,0,0,0,0,1,0],\n",
    "    [0,0,0,0,0,0,1,0,1],\n",
    "    [1,0,0,0,0,1,0,0,0],\n",
    "    [1,1,1,1,1,1,1,1,1],\n",
    "    [1,0,1,0,0,0,0,0,0],\n",
    "    [0,0,0,0,0,0,1,0,1],\n",
    "    [0,0,0,0,0,2,0,0,1],\n",
    "    [1,0,1,0,0,0,0,1,0],\n",
    "    [0,0,0,1,1,0,0,0,0]\n",
    "]) # 权值表示单词出现在文中的次数\n",
    "   # 一行表示，一个单词在不同文本出现的次数\n",
    "   # 单词-文本矩阵\n",
    "X.shape"
   ]
  },
  {
   "cell_type": "markdown",
   "metadata": {},
   "source": [
    "## 矩阵奇异值分解"
   ]
  },
  {
   "cell_type": "code",
   "execution_count": 2,
   "metadata": {
    "ExecuteTime": {
     "end_time": "2020-11-25T14:29:37.162104Z",
     "start_time": "2020-11-25T14:29:37.152344Z"
    }
   },
   "outputs": [
    {
     "data": {
      "text/plain": [
       "((11, 9), (9, 9), (9, 9))"
      ]
     },
     "execution_count": 2,
     "metadata": {},
     "output_type": "execute_result"
    }
   ],
   "source": [
    "U,S,V = np.linalg.svd(X,full_matrices=False)\n",
    "V = V.T\n",
    "S = np.diag(S)\n",
    "U.shape,S.shape,V.shape"
   ]
  },
  {
   "cell_type": "code",
   "execution_count": 3,
   "metadata": {
    "ExecuteTime": {
     "end_time": "2020-11-25T14:29:37.168935Z",
     "start_time": "2020-11-25T14:29:37.163080Z"
    }
   },
   "outputs": [
    {
     "data": {
      "text/plain": [
       "array([[ 0.,  0.,  1.,  1.,  0., -0.,  0.,  0., -0.],\n",
       "       [-0., -0., -0., -0., -0., -0.,  1., -0.,  1.],\n",
       "       [-0.,  1., -0.,  0.,  0., -0., -0.,  1., -0.],\n",
       "       [-0., -0., -0., -0., -0.,  0.,  1., -0.,  1.],\n",
       "       [ 1., -0.,  0., -0., -0.,  1., -0., -0., -0.],\n",
       "       [ 1.,  1.,  1.,  1.,  1.,  1.,  1.,  1.,  1.],\n",
       "       [ 1.,  0.,  1.,  0.,  0., -0., -0.,  0., -0.],\n",
       "       [-0., -0., -0., -0., -0.,  0.,  1., -0.,  1.],\n",
       "       [-0., -0., -0., -0., -0.,  2., -0., -0.,  1.],\n",
       "       [ 1.,  0.,  1.,  0.,  0., -0., -0.,  1., -0.],\n",
       "       [ 0.,  0.,  0.,  1.,  1., -0.,  0.,  0.,  0.]])"
      ]
     },
     "execution_count": 3,
     "metadata": {},
     "output_type": "execute_result"
    }
   ],
   "source": [
    "U.dot(S).dot(V.T).round(2)"
   ]
  },
  {
   "cell_type": "code",
   "execution_count": 4,
   "metadata": {
    "ExecuteTime": {
     "end_time": "2020-11-25T14:29:37.173815Z",
     "start_time": "2020-11-25T14:29:37.169911Z"
    }
   },
   "outputs": [],
   "source": [
    "k = 3\n",
    "U_k = U[:,:k]\n",
    "V_k = V[:k]\n",
    "S_k = S[:k,:k]"
   ]
  },
  {
   "cell_type": "code",
   "execution_count": 5,
   "metadata": {
    "ExecuteTime": {
     "end_time": "2020-11-25T14:29:37.179671Z",
     "start_time": "2020-11-25T14:29:37.174792Z"
    }
   },
   "outputs": [
    {
     "data": {
      "text/plain": [
       "((11, 3), (3, 3), (3, 9))"
      ]
     },
     "execution_count": 5,
     "metadata": {},
     "output_type": "execute_result"
    }
   ],
   "source": [
    "U_k.shape,S_k.shape,V_k.shape"
   ]
  },
  {
   "cell_type": "code",
   "execution_count": 6,
   "metadata": {
    "ExecuteTime": {
     "end_time": "2020-11-25T14:29:37.186503Z",
     "start_time": "2020-11-25T14:29:37.180647Z"
    }
   },
   "outputs": [
    {
     "data": {
      "text/plain": [
       "(array([[-0.16,  0.26, -0.13],\n",
       "        [-0.2 , -0.36, -0.3 ],\n",
       "        [-0.14,  0.16, -0.09],\n",
       "        [-0.2 , -0.36, -0.3 ],\n",
       "        [-0.2 ,  0.04,  0.46],\n",
       "        [-0.76,  0.13, -0.11],\n",
       "        [-0.18,  0.32,  0.04],\n",
       "        [-0.2 , -0.36, -0.3 ],\n",
       "        [-0.33, -0.43,  0.67],\n",
       "        [-0.26,  0.44, -0.  ],\n",
       "        [-0.13,  0.12, -0.14]]),\n",
       " array([[3.88, 0.  , 0.  ],\n",
       "        [0.  , 2.54, 0.  ],\n",
       "        [0.  , 0.  , 2.13]]),\n",
       " array([[-0.36,  0.37,  0.19,  0.43, -0.21,  0.59, -0.14, -0.15,  0.3 ],\n",
       "        [-0.23,  0.11, -0.09, -0.09,  0.6 , -0.06, -0.68,  0.27,  0.13],\n",
       "        [-0.35,  0.46, -0.09,  0.18, -0.4 , -0.53, -0.02,  0.37, -0.24]]))"
      ]
     },
     "execution_count": 6,
     "metadata": {},
     "output_type": "execute_result"
    }
   ],
   "source": [
    "U_k.round(2),S_k.round(2),V_k.round(2) # U_k话题空间，（S_k*V_k.T）为文本在话题空间的表示"
   ]
  },
  {
   "cell_type": "code",
   "execution_count": 7,
   "metadata": {
    "ExecuteTime": {
     "end_time": "2020-11-25T14:29:37.192360Z",
     "start_time": "2020-11-25T14:29:37.187479Z"
    }
   },
   "outputs": [
    {
     "data": {
      "text/plain": [
       "array([[ 0.17, -0.27, -0.15, -0.37,  0.63, -0.26, -0.35,  0.17, -0.03],\n",
       "       [ 0.72, -0.69,  0.  , -0.36, -0.14, -0.06,  0.75, -0.37, -0.2 ],\n",
       "       [ 0.16, -0.23, -0.12, -0.3 ,  0.43, -0.23, -0.2 ,  0.12, -0.06],\n",
       "       [ 0.72, -0.69,  0.  , -0.36, -0.14, -0.06,  0.75, -0.37, -0.2 ],\n",
       "       [-0.09,  0.17, -0.24, -0.16, -0.17, -0.98,  0.01,  0.51, -0.45],\n",
       "       [ 1.06, -1.15, -0.55, -1.32,  0.9 , -1.62,  0.18,  0.44, -0.77],\n",
       "       [ 0.03, -0.12, -0.22, -0.36,  0.61, -0.52, -0.46,  0.36, -0.13],\n",
       "       [ 0.72, -0.69,  0.  , -0.36, -0.14, -0.06,  0.75, -0.37, -0.2 ],\n",
       "       [ 0.2 ,  0.06, -0.26, -0.18, -0.96, -1.43,  0.87,  0.43, -0.86],\n",
       "       [ 0.11, -0.24, -0.29, -0.53,  0.88, -0.66, -0.61,  0.45, -0.15],\n",
       "       [ 0.21, -0.28, -0.09, -0.29,  0.4 , -0.15, -0.13,  0.05, -0.04]])"
      ]
     },
     "execution_count": 7,
     "metadata": {},
     "output_type": "execute_result"
    }
   ],
   "source": [
    "U_k.dot(S_k.dot(V_k)).round(2)"
   ]
  },
  {
   "cell_type": "markdown",
   "metadata": {},
   "source": [
    "## 非负矩阵分解算法"
   ]
  },
  {
   "cell_type": "code",
   "execution_count": 10,
   "metadata": {
    "ExecuteTime": {
     "end_time": "2020-11-25T14:29:47.391715Z",
     "start_time": "2020-11-25T14:29:47.145580Z"
    },
    "code_folding": []
   },
   "outputs": [
    {
     "name": "stdout",
     "output_type": "stream",
     "text": [
      "[[0.053 0.1  ]\n",
      " [0.029 0.9  ]\n",
      " [0.029 0.   ]\n",
      " [0.147 0.   ]\n",
      " [0.049 0.   ]\n",
      " [0.038 0.   ]\n",
      " [0.2   0.   ]\n",
      " [0.136 0.   ]\n",
      " [0.181 0.   ]\n",
      " [0.136 0.   ]]\n",
      "[[2.849 2.241 5.77  3.102 1.477]\n",
      " [0.    0.    0.    0.001 1.04 ]]\n"
     ]
    },
    {
     "data": {
      "text/plain": [
       "(array([[0.055, 0.   ],\n",
       "        [0.   , 1.   ],\n",
       "        [0.026, 0.   ],\n",
       "        [0.153, 0.   ],\n",
       "        [0.051, 0.   ],\n",
       "        [0.04 , 0.   ],\n",
       "        [0.208, 0.   ],\n",
       "        [0.142, 0.   ],\n",
       "        [0.183, 0.   ],\n",
       "        [0.142, 0.   ]]),\n",
       " array([[1.   , 1.   , 1.   , 1.   , 0.584],\n",
       "        [0.   , 0.   , 0.   , 0.   , 0.416]]))"
      ]
     },
     "execution_count": 10,
     "metadata": {},
     "output_type": "execute_result"
    }
   ],
   "source": [
    "np.set_printoptions(suppress=True, threshold=np.inf,precision=3)\n",
    "\n",
    "def cost(X,W,H):\n",
    "    return np.linalg.norm(X-W.dot(H),2)**0.5\n",
    "\n",
    "X = np.array([\n",
    "[0, 0, 0, 1, 0],\n",
    "[0, 0, 0, 0, 1],\n",
    "[0, 0, 0, 0, 1],\n",
    "[1, 0, 1, 0, 0],\n",
    "[1, 0, 0, 0, 0],\n",
    "[0, 1, 0, 0, 0],\n",
    "[1, 0, 1, 1, 0],\n",
    "[0, 1, 1, 0, 0],\n",
    "[0, 0, 1, 1, 1],\n",
    "[0, 1, 1, 0, 0]\n",
    "])\n",
    "\n",
    "m,n = X.shape\n",
    "k = 2\n",
    "W = np.ones((m,k))\n",
    "H = np.ones((k,n))\n",
    "\n",
    "epsilon = 1e-5\n",
    "\n",
    "# current_cost = cost(X,W,H)\n",
    "# old_cost = 0\n",
    "\n",
    "\n",
    "U,S,V = np.linalg.svd(X)\n",
    "W[:,0] = U[:,0]\n",
    "for j in range(1,k):\n",
    "    C = U[:,j].reshape(-1,1).dot(V[:,j].T.reshape(1,-1))\n",
    "    C[C<0] = 0\n",
    "    u,s,v = np.linalg.svd(C)\n",
    "    W[:,j] = u[:,0]\n",
    "W[W<0] = 0\n",
    "W = W/np.sum(W,axis=0)\n",
    "print(W)\n",
    "\n",
    "Q,R = np.linalg.qr(W)\n",
    "H = np.linalg.inv(R).dot(Q.T).dot(X)\n",
    "H[H<0] = 0\n",
    "# H = H/np.sum(H,axis=0)\n",
    "print(H)\n",
    "\n",
    "\n",
    "for _ in range(10000):\n",
    "#     Ha = W.T.dot(X)\n",
    "#     Hb = W.T.dot(W).dot(H)+epsilon\n",
    "#     for l in range(k):\n",
    "#         for j in range(n):\n",
    "#             H[l,j] = H[l,j]*Ha[l,j] / Hb[l,j]\n",
    "            \n",
    "    H = H*(W.T.dot(X)/(W.T.dot(W).dot(H)+epsilon))\n",
    "#     Wa = X.dot(H.T)\n",
    "#     Wb = W.dot(H).dot(H.T)+epsilon\n",
    "#     for i in range(m):\n",
    "#         for l in range(k):\n",
    "#             W[i,l] = W[i,l]*Wa[i,l] / Wb[i,l]\n",
    "    W = W*(X.dot(H.T)/(W.dot(H).dot(H.T)+epsilon))\n",
    "#     old_cost = current_cost\n",
    "#     current_cost = cost(X,W,H)\n",
    "    # W的列向量进行归一化\n",
    "    W = W/np.sum(W,axis=0)\n",
    "    H = H/np.sum(H,axis=0)\n",
    "W,H"
   ]
  },
  {
   "cell_type": "code",
   "execution_count": 11,
   "metadata": {
    "ExecuteTime": {
     "end_time": "2020-11-25T14:29:49.165447Z",
     "start_time": "2020-11-25T14:29:49.160567Z"
    }
   },
   "outputs": [
    {
     "data": {
      "text/plain": [
       "1.4571822329177835"
      ]
     },
     "execution_count": 11,
     "metadata": {},
     "output_type": "execute_result"
    }
   ],
   "source": [
    "cost(X,W,H)"
   ]
  },
  {
   "cell_type": "code",
   "execution_count": null,
   "metadata": {},
   "outputs": [],
   "source": []
  }
 ],
 "metadata": {
  "kernelspec": {
   "display_name": "Python 3",
   "language": "python",
   "name": "python3"
  },
  "language_info": {
   "codemirror_mode": {
    "name": "ipython",
    "version": 3
   },
   "file_extension": ".py",
   "mimetype": "text/x-python",
   "name": "python",
   "nbconvert_exporter": "python",
   "pygments_lexer": "ipython3",
   "version": "3.7.6"
  },
  "toc": {
   "base_numbering": 1,
   "nav_menu": {},
   "number_sections": true,
   "sideBar": true,
   "skip_h1_title": false,
   "title_cell": "Table of Contents",
   "title_sidebar": "Contents",
   "toc_cell": false,
   "toc_position": {},
   "toc_section_display": true,
   "toc_window_display": false
  }
 },
 "nbformat": 4,
 "nbformat_minor": 4
}
